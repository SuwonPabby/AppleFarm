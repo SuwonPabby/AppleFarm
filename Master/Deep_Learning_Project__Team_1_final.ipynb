{
  "nbformat": 4,
  "nbformat_minor": 0,
  "metadata": {
    "colab": {
      "name": "Deep Learning Project _Team 1_final",
      "provenance": [],
      "collapsed_sections": [
        "DyekODxtxJX8",
        "9ipgu2XSZTmY",
        "1zdzg3zA1IBW",
        "9XZ4y53x5iK3",
        "3blCZeBq7lDF",
        "sWeBHdeW8bnE",
        "Dfd0mfzcjVDY"
      ],
      "mount_file_id": "14qU7eVcVVWNLtIHgPd29T6H7L8qEvsMY",
      "authorship_tag": "ABX9TyPPpDxt+BInNcVeyPbXciIg",
      "include_colab_link": true
    },
    "kernelspec": {
      "name": "python3",
      "display_name": "Python 3"
    },
    "language_info": {
      "name": "python"
    }
  },
  "cells": [
    {
      "cell_type": "markdown",
      "metadata": {
        "id": "view-in-github",
        "colab_type": "text"
      },
      "source": [
        "<a href=\"https://colab.research.google.com/github/lee-euijin/AppleFarm/blob/%EC%9D%98%EC%A7%84/Master/Deep_Learning_Project__Team_1_final.ipynb\" target=\"_parent\"><img src=\"https://colab.research.google.com/assets/colab-badge.svg\" alt=\"Open In Colab\"/></a>"
      ]
    },
    {
      "cell_type": "markdown",
      "metadata": {
        "id": "DYFTtVlPupiS"
      },
      "source": [
        "# **Deep Learning Term Project**\n",
        "## **✊ Gesture Recognition and Gesture Based UI ProtoType 🖐**\n",
        "\n",
        "##Team 1 \n",
        "##🍎 AppleFarm 🍎\n",
        "\n",
        "\n"
      ]
    },
    {
      "cell_type": "markdown",
      "metadata": {
        "id": "DyekODxtxJX8"
      },
      "source": [
        "## **1. Vision of Gesture Recognition**\n",
        "\n",
        "\n",
        "\n",
        "\n",
        "\n",
        "\n"
      ]
    },
    {
      "cell_type": "markdown",
      "metadata": {
        "id": "qyy95NTW5-45"
      },
      "source": [
        "*   Connectivity : 디바이스와 인간의 자연스러운 상호작용\n",
        "*   Natural, Intuitive Sensing Process : 유기적 연결의 가장 기본이 된다.\n",
        "*   Gesture is the most intutive sensing process\n",
        "\n",
        "    * Mobile Environment : Ios Gesture Action, Android Good Lock\n",
        "    * VR AR Environment : Class VR - VR AR Based Education, Facebook / Nvidia - MetaVerse, VR / AR Gaming\n",
        "    * Communicate with your stuff, even.. your home : BMW Gesture Control, Clay VR - Smart Home\n"
      ]
    },
    {
      "cell_type": "markdown",
      "metadata": {
        "id": "lH4FDLI4YiK-"
      },
      "source": [
        "><img src = \"https://drive.google.com/uc?id=1-18KEIw3w9iXCaDyr5xbuxqUZ6_vpxQU\" width = \"300\">\n",
        "><img src = \"https://drive.google.com/uc?id=1-XBDJiQkEqVWUkXtDUzgkq_CCNSvQ2fd\" width = \"300\">\n",
        "><img src = \"https://drive.google.com/uc?id=1-RxTXUgBTWX83akt5iKfFuLA45qM3FMW\" width = \"300\">\n",
        "><img src = \"https://drive.google.com/uc?id=1-WhW3zBLoe4VHXAVJQ480xR6GVaHRCd7\" width = \"300\">\n",
        "><img src = \"https://drive.google.com/uc?id=1-OHS_hYQ6B0N723A0XLBd0jWS0_wcoQR\" width = \"300\">\n",
        "><img src = \"https://drive.google.com/uc?id=1-X0KZTy8fAXG_HDK8zlqkLVHvErlfR-c\" width = \"300\">\n"
      ]
    },
    {
      "cell_type": "markdown",
      "metadata": {
        "id": "9ipgu2XSZTmY"
      },
      "source": [
        "## **2. What We made?**\n",
        "\n",
        "\n"
      ]
    },
    {
      "cell_type": "markdown",
      "metadata": {
        "id": "a5bClAhH54ZG"
      },
      "source": [
        "* Gesture Recognition 의 시작은 대상이 취한 Gesture를 인식하고 분류하는 Module인 **Gesture Classifier**를 만드는 것에서 시작한다.\n",
        "\n",
        "* 우리는 대상의 손동작 Gesture를 Sensing 하여 아래의 총 10개의 동작으로 구분하는 문제를 해결한다.\n",
        "\n",
        "    1. Palm\n",
        "    2. l\n",
        "    3. fist\n",
        "    4. fist_moved\n",
        "    5. thumb\n",
        "    6. index\n",
        "    7. ok\n",
        "    8. palm_moved\n",
        "    9. c\n",
        "    10. down\n",
        "\n",
        "><img src = \"https://drive.google.com/uc?id=1BLLcwa7MkqCvnY7YvaoTn2P5MeDrNnEJ\" width = \"500\">\n",
        "\n",
        "* Proposal 에서는 Static Gesture Model (멈춰있는 한 개의 동작) 뿐만 아니라 Dynamic Gesture Model (윰작아는 동작) 도 구현하고자 했으나, Colab 환경에서 단기간 내에 다루기에는 다소 무리가 있어 **Static Gesture Model 에 대해서만 구현**하였다.\n",
        "\n",
        "* 본래 웹 환경에서 시연을 진행하고자 하였으나, JavaScript를 코랩에서 동작시킬 수 있고, 최종 제출 Form이 Colab 환경으로 통합시키는 것이 좋기 때문에, **Colab 환경에서 바로 시연할 수 있도록 코드를 구성**하였다.\n"
      ]
    },
    {
      "cell_type": "markdown",
      "metadata": {
        "id": "1zdzg3zA1IBW"
      },
      "source": [
        "## **3. Model Structure**"
      ]
    },
    {
      "cell_type": "markdown",
      "metadata": {
        "id": "jihsecji1Q8m"
      },
      "source": [
        "><img src = \"https://drive.google.com/uc?id=1-RAQpxa_EEhYJTtrt0uHxwJVtDrNnBvg\" width = \"500\">\n"
      ]
    },
    {
      "cell_type": "markdown",
      "metadata": {
        "id": "Dxqzeve8VIxs"
      },
      "source": [
        "------------------\n",
        "(1) Data set\n",
        "\n",
        "* Data Set의 종류에는 Kaggle에서 불러온 데이터, 우리가 직접 만든 데이터, 직접 만든 데이터를 Augmentation 처리한 총 **3가지 종류**의 Data Set을 마련\n",
        "\n",
        "* **Converting Module**은 JavaScript를 이용해 **WebCam을 Colab 환경에 불러오고**, 이를 일정 시간 간격으로 **Periodic Sampling을 수행**한다.\n",
        "\n",
        "* 이 모듈을 이용해 Self-Made Data Set을 구성한다. 이 셋은 이미지 형태이다.\n",
        "------------------\n",
        "(2) Input\n",
        "\n",
        "* **실제로 우리가 Gesture를 Classifing 할 데이터** 입력을 의미한다.\n",
        "* 이 역시 위에서 언급된 **Converting Module을 이용해 Image Data로 변환**한다.\n",
        "------------------\n",
        "(3) PreProcessing Model\n",
        "* Image Data를 모델의 **입력으로 넣을 수 있는 형태로 가공**해주는 모듈이다.\n",
        "* Image Data를 **128 * 128 Size의 Gray Scale Skeleton Image**로 변환한다.\n",
        "------------------\n",
        "(4) CNN Model\n",
        "* Preprocessing 을 완료한 Skeleton Data를 CNN Model에 입력한다.\n",
        "* 3가지 형태의 데이터에 대해서 **동일한 BaseLine Model을 만들어 훈련시켜 가장 정확도가 높은 데이터 셋을 선택**한다.\n",
        "* 선택된 데이터 셋을 이용해 BaseLine Model을 기준으로 **Model Tunning**을 하여 최적의 모델을 얻어낸다.\n",
        "* Diagram에서는 Tunning 결과 얻어낸 **세 가지 모델의 Structure를 제시**하였다.\n",
        "------------------\n",
        "(5) Classified Result\n",
        "* 1 - 10 중 하나의 결과물을 출력한다.\n",
        "* **Training Data**에 대해서는 이 결과를 이용해 **학습**을 진행한다.\n",
        "* **Validation Data와 Test Data**에 대해서는 결과를 이용해 **Model Evaluation**을 진행한다.\n",
        "* **Input Data**를 넣었을 때 1 - 10 의 **Label에 해당하는 값을 화면에 출력**한다.\n",
        "\n",
        "------------------"
      ]
    },
    {
      "cell_type": "markdown",
      "metadata": {
        "id": "9XZ4y53x5iK3"
      },
      "source": [
        "## **4. Working Process and Contribution Statement**\n"
      ]
    },
    {
      "cell_type": "markdown",
      "metadata": {
        "id": "-yzXC69p6j70"
      },
      "source": [
        "><img src = \"https://drive.google.com/uc?id=1-Utt9V-MW4h7IFBMVLHJW2BJsjRbIzAI\" width = \"700\">\n"
      ]
    },
    {
      "cell_type": "markdown",
      "metadata": {
        "id": "s_2ytJtSa_3R"
      },
      "source": [
        "><img src = \"https://drive.google.com/uc?id=1-AYdpMPrMjLYoton_VAP8r6vD8Ucu7N-\" width = \"400\">\n",
        "><img src = \"https://drive.google.com/uc?id=11cgcjOE2de4kU1tikcq9Uqi2r1db97Tn\" width = \"500\">"
      ]
    },
    {
      "cell_type": "markdown",
      "metadata": {
        "id": "20xG9P7TbmC6"
      },
      "source": [
        "><img src = \"https://drive.google.com/uc?id=1l9Fry8f1ieEgCuku6j8wMB0VKKO3KRFE\" width = \"900\">\n",
        "><img src = \"https://drive.google.com/uc?id=1muRrD7yHwy7ubCypey5pU7Vr5oaC_UKN\" width = \"900\">"
      ]
    },
    {
      "cell_type": "markdown",
      "metadata": {
        "id": "qXSYROpu6oRz"
      },
      "source": [
        "## **5. Design Converting Module which converts WebCam Camera Input data into Image data using periodic sampling method**"
      ]
    },
    {
      "cell_type": "markdown",
      "metadata": {
        "id": "3blCZeBq7lDF"
      },
      "source": [
        "## **6. Preprocess Data (Image -> Skeleton) By MediaPipe (Preprocess Kaggle Data)**"
      ]
    },
    {
      "cell_type": "markdown",
      "metadata": {
        "id": "mqx3_44cf82g"
      },
      "source": [
        "**Process**\n",
        "\n",
        "1. Data Upload\n",
        "\n",
        "  (1) Mount Google Drive\n",
        "\n",
        "  (2) Copy and Unzip the Kaggle Data in the local directory\n",
        "   \n",
        "    - ( 뒷 단계에서 Self_Made_data 와 Augmented Data도 업로드 및 Preprocess 진행 )\n",
        "\n",
        "  (3) Set Directory Path\n",
        "\n",
        "2. Data Preprocessing and saving\n",
        "   \n",
        "  (1) Kaggle Data를 MediaPipe를 이용, Object Ditection과 이를 바탕으로 Skeleton Data를 얻는다.\n",
        "\n",
        "  (2) 얻은 데이터를 지정해놓은 디렉토리 경로 내에 저장한다.\n",
        "\n",
        "  (3) 제대로 Preprocessing이 되었는지 확인하기 위해 Image Plotting 을 수행한다."
      ]
    },
    {
      "cell_type": "markdown",
      "metadata": {
        "id": "LrXUCdj151QA"
      },
      "source": [
        "### Data upload"
      ]
    },
    {
      "cell_type": "markdown",
      "metadata": {
        "id": "myhLqnncdFg6"
      },
      "source": [
        "* mount drive, copy and unzip the kaggle data in the local directory"
      ]
    },
    {
      "cell_type": "code",
      "metadata": {
        "colab": {
          "base_uri": "https://localhost:8080/"
        },
        "id": "XJakET3Xb0Pl",
        "outputId": "ff044417-c054-40ec-83ee-21535ba12785"
      },
      "source": [
        "# mount Google Drive\n",
        "from google.colab import drive\n",
        "import os\n",
        "drive.mount('/content/gdrive')\n",
        "\n",
        "# unzip\n",
        "import zipfile, shutil\n",
        "\n",
        "dataset = '/content/gdrive/My Drive/학교 수업 자료/딥러닝/Project/static_data.zip'\n",
        "dst_path = '/content/static_data'\n",
        "dst_file = os.path.join(dst_path, 'static_data.zip')\n",
        "\n",
        "if not os.path.exists(dst_path):\n",
        "  os.makedirs(dst_path)\n",
        "\n",
        "shutil.copy(dataset, dst_file)\n",
        "\n",
        "with zipfile.ZipFile(dst_file, 'r') as file:\n",
        "  file.extractall(dst_path)"
      ],
      "execution_count": null,
      "outputs": [
        {
          "output_type": "stream",
          "text": [
            "Mounted at /content/gdrive\n"
          ],
          "name": "stdout"
        }
      ]
    },
    {
      "cell_type": "markdown",
      "metadata": {
        "id": "jrqrFM0JdTfw"
      },
      "source": [
        "* 이미지의 경로를 imagepaths list에 저장"
      ]
    },
    {
      "cell_type": "code",
      "metadata": {
        "colab": {
          "base_uri": "https://localhost:8080/"
        },
        "id": "g_e8q-QCdZ-E",
        "outputId": "d2fdb711-37ed-435b-c952-95bb2e8006bc"
      },
      "source": [
        "import os\n",
        "imagepaths = []\n",
        "\n",
        "for dirname, _, filenames in os.walk('/content/static_data'):\n",
        "  for filename in filenames:\n",
        "    path = os.path.join(dirname, filename)\n",
        "    if path.endswith(\"png\"):\n",
        "      imagepaths.append(path)\n",
        "\n",
        "print(len(imagepaths))\n",
        "print(imagepaths[19999]) # index 20000부터는 path만 다르고, 똑같은 data가 반복됨"
      ],
      "execution_count": null,
      "outputs": [
        {
          "output_type": "stream",
          "text": [
            "40000\n",
            "/content/static_data/leapGestRecog/08/09_c/frame_08_09_0200.png\n"
          ],
          "name": "stdout"
        }
      ]
    },
    {
      "cell_type": "markdown",
      "metadata": {
        "id": "6asV0bS-dgVp"
      },
      "source": [
        "* kaggle의 데이터를 skeleton으로 변형할 구글 드라이브 내의 directory 생성"
      ]
    },
    {
      "cell_type": "code",
      "metadata": {
        "id": "nAJ4PYSS19VW"
      },
      "source": [
        "# google drive에 directory 추가\n",
        "dir_path = '/content/gdrive/My Drive/학교 수업 자료/딥러닝/Project/static_skeleton_data'\n",
        "\n",
        "for path in imagepaths[:19999]:\n",
        "  splitted = path.split(\"/\")\n",
        "\n",
        "  # 없으면 directory 추가\n",
        "  dir = os.path.join(dir_path, splitted[4])\n",
        "\n",
        "  if not os.path.exists(dir):\n",
        "    os.makedirs(dir)\n",
        "\n",
        "  dir = os.path.join(dir_path, splitted[4], splitted[5])\n",
        "\n",
        "  if not os.path.exists(dir):\n",
        "    os.makedirs(dir)"
      ],
      "execution_count": null,
      "outputs": []
    },
    {
      "cell_type": "markdown",
      "metadata": {
        "id": "b4CdBGteCjej"
      },
      "source": [
        "### Data Preprocessing and Saving"
      ]
    },
    {
      "cell_type": "code",
      "metadata": {
        "colab": {
          "base_uri": "https://localhost:8080/"
        },
        "id": "bnfpfd40iWQ_",
        "outputId": "976735ff-8935-4800-ba10-27c0dc240cc9"
      },
      "source": [
        "!pip install mediapipe opencv-python"
      ],
      "execution_count": null,
      "outputs": [
        {
          "output_type": "stream",
          "text": [
            "Collecting mediapipe\n",
            "\u001b[?25l  Downloading https://files.pythonhosted.org/packages/5a/c6/cb43b4d35257270a428a7c8e8c10565bb9719eaa4a3a5f34442d77e02678/mediapipe-0.8.5-cp37-cp37m-manylinux_2_17_x86_64.manylinux2014_x86_64.whl (37.7MB)\n",
            "\u001b[K     |████████████████████████████████| 37.7MB 1.5MB/s \n",
            "\u001b[?25hRequirement already satisfied: opencv-python in /usr/local/lib/python3.7/dist-packages (4.1.2.30)\n",
            "Requirement already satisfied: protobuf>=3.11.4 in /usr/local/lib/python3.7/dist-packages (from mediapipe) (3.12.4)\n",
            "Requirement already satisfied: absl-py in /usr/local/lib/python3.7/dist-packages (from mediapipe) (0.12.0)\n",
            "Requirement already satisfied: six in /usr/local/lib/python3.7/dist-packages (from mediapipe) (1.15.0)\n",
            "Requirement already satisfied: opencv-contrib-python in /usr/local/lib/python3.7/dist-packages (from mediapipe) (4.1.2.30)\n",
            "Requirement already satisfied: wheel in /usr/local/lib/python3.7/dist-packages (from mediapipe) (0.36.2)\n",
            "Requirement already satisfied: attrs>=19.1.0 in /usr/local/lib/python3.7/dist-packages (from mediapipe) (21.2.0)\n",
            "Requirement already satisfied: numpy in /usr/local/lib/python3.7/dist-packages (from mediapipe) (1.19.5)\n",
            "Requirement already satisfied: setuptools in /usr/local/lib/python3.7/dist-packages (from protobuf>=3.11.4->mediapipe) (57.0.0)\n",
            "Installing collected packages: mediapipe\n",
            "Successfully installed mediapipe-0.8.5\n"
          ],
          "name": "stdout"
        }
      ]
    },
    {
      "cell_type": "markdown",
      "metadata": {
        "id": "sRbbetnSd4uR"
      },
      "source": [
        "* kaggle 데이터를 skeleton data로 바꾸어 미리 생성해둔 directory 내에 저장"
      ]
    },
    {
      "cell_type": "code",
      "metadata": {
        "colab": {
          "base_uri": "https://localhost:8080/"
        },
        "id": "0W1twcFjguxn",
        "outputId": "7fc7cf13-a1c3-4179-be1b-430d3bc1d685"
      },
      "source": [
        "# 최초 save 이후에는 이 셀 실행하지 않음!\n",
        "import numpy as np\n",
        "import matplotlib.pyplot as plt\n",
        "import cv2 as cv\n",
        "import pandas as pd\n",
        "import mediapipe as mp\n",
        "from google.colab.patches import cv2_imshow\n",
        "\n",
        "new_path = []\n",
        "\n",
        "# 저장을 위한 path 생성\n",
        "for path in imagepaths[:19999]:\n",
        "  splitted = path.split(\"/\")\n",
        "  temp = '/' + splitted[4] + '/' + splitted[5] + '/' + splitted[6]\n",
        "  new_path.append(temp)\n",
        "\n",
        "# train data preprocessing and save\n",
        "mp_drawing = mp.solutions.drawing_utils\n",
        "mp_hands = mp.solutions.hands\n",
        "\n",
        "new_paths = []\n",
        "\n",
        "with mp_hands.Hands(\n",
        "    static_image_mode=True,\n",
        "    max_num_hands=2,\n",
        "    min_detection_confidence=0.5) as hands:\n",
        "  for idx in range(19999):\n",
        "    # image read\n",
        "    image = cv.imread(imagepaths[idx])\n",
        "    # bgr에서 rgb로 convert\n",
        "    results = hands.process(cv.cvtColor(image, cv.COLOR_BGR2RGB))\n",
        "\n",
        "    # draw hand landmarks\n",
        "    # print('Handedness:', results.multi_handedness)\n",
        "    if not results.multi_hand_landmarks:\n",
        "      continue\n",
        "    image_height, image_width, _ = image.shape\n",
        "    annotated_image = image.copy()\n",
        "\n",
        "    # landmark만 그릴 image\n",
        "    landmark_image = np.zeros(image.shape)\n",
        "    for hand_landmarks in results.multi_hand_landmarks:\n",
        "      '''print('hand_landmarks:', hand_landmarks)\n",
        "      print(\n",
        "          f'Index finger tip coordinates: (',\n",
        "          f'{hand_landmarks.landmark[mp_hands.HandLandmark.INDEX_FINGER_TIP].x * image_width}, '\n",
        "          f'{hand_landmarks.landmark[mp_hands.HandLandmark.INDEX_FINGER_TIP].y * image_height}'\n",
        "      )'''\n",
        "      mp_drawing.draw_landmarks(\n",
        "          landmark_image, hand_landmarks, mp_hands.HAND_CONNECTIONS)\n",
        "\n",
        "    '''# imshow\n",
        "    cv2_imshow(annotated_image)\n",
        "    cv2_imshow(landmark_image)'''\n",
        "    \n",
        "    # save\n",
        "    if len(new_paths) % 1000 == 0 or len(new_paths) == 19999:\n",
        "      print(len(new_paths))\n",
        "    cv.imwrite(dir_path + new_path[idx], landmark_image)\n",
        "    new_paths.append(os.path.join(dir_path, new_path[idx]))\n",
        "\n",
        "# 19999개 중 6765개는 skeleton이 생성되지 않았기 때문에 지워짐\n",
        "print(len(new_paths))"
      ],
      "execution_count": null,
      "outputs": [
        {
          "output_type": "stream",
          "text": [
            "0\n",
            "1000\n",
            "2000\n",
            "3000\n",
            "4000\n",
            "5000\n",
            "6000\n",
            "7000\n",
            "8000\n",
            "9000\n",
            "10000\n",
            "11000\n",
            "12000\n",
            "13000\n",
            "13235\n"
          ],
          "name": "stdout"
        }
      ]
    },
    {
      "cell_type": "markdown",
      "metadata": {
        "id": "FYRbS_30_dCw"
      },
      "source": [
        "* image plot"
      ]
    },
    {
      "cell_type": "code",
      "metadata": {
        "colab": {
          "base_uri": "https://localhost:8080/",
          "height": 924
        },
        "id": "dlOukvYq_ebO",
        "outputId": "35c8e529-873c-47ea-b958-b32001e7f4f3"
      },
      "source": [
        "import cv2\n",
        "\n",
        "print(new_paths[0])\n",
        "def img_plot(img_path):\n",
        "  img = cv2.imread(img_path)\n",
        "  img = cv2.cvtColor(img, cv2.COLOR_BGR2RGB)\n",
        "  ('Shape : ', img.shape)\n",
        "\n",
        "  plt.grid(False)\n",
        "  plt.imshow(img)\n",
        "  plt.xlabel('Width')\n",
        "  plt.ylabel('Height')\n",
        "  plt.title('image : ' + img_path)\n",
        "\n",
        "plt.subplot(211)\n",
        "img_plot(imagepaths[0]) # 전처리 전 kaggle data\n",
        "\n",
        "plt.subplot(212)\n",
        "img_plot(new_paths[0]) # 전처리 후 kaggle data"
      ],
      "execution_count": null,
      "outputs": [
        {
          "output_type": "stream",
          "text": [
            "/content/gdrive/MyDrive/학교 수업 자료/딥러닝/Project/static_skeleton_data/05/07_ok/frame_05_07_0010.png\n"
          ],
          "name": "stdout"
        },
        {
          "output_type": "stream",
          "text": [
            "/usr/local/lib/python3.7/dist-packages/matplotlib/backends/backend_agg.py:214: RuntimeWarning: Glyph 54617 missing from current font.\n",
            "  font.set_text(s, 0.0, flags=flags)\n",
            "/usr/local/lib/python3.7/dist-packages/matplotlib/backends/backend_agg.py:214: RuntimeWarning: Glyph 44368 missing from current font.\n",
            "  font.set_text(s, 0.0, flags=flags)\n",
            "/usr/local/lib/python3.7/dist-packages/matplotlib/backends/backend_agg.py:214: RuntimeWarning: Glyph 49688 missing from current font.\n",
            "  font.set_text(s, 0.0, flags=flags)\n",
            "/usr/local/lib/python3.7/dist-packages/matplotlib/backends/backend_agg.py:214: RuntimeWarning: Glyph 50629 missing from current font.\n",
            "  font.set_text(s, 0.0, flags=flags)\n",
            "/usr/local/lib/python3.7/dist-packages/matplotlib/backends/backend_agg.py:214: RuntimeWarning: Glyph 51088 missing from current font.\n",
            "  font.set_text(s, 0.0, flags=flags)\n",
            "/usr/local/lib/python3.7/dist-packages/matplotlib/backends/backend_agg.py:214: RuntimeWarning: Glyph 47308 missing from current font.\n",
            "  font.set_text(s, 0.0, flags=flags)\n",
            "/usr/local/lib/python3.7/dist-packages/matplotlib/backends/backend_agg.py:214: RuntimeWarning: Glyph 46373 missing from current font.\n",
            "  font.set_text(s, 0.0, flags=flags)\n",
            "/usr/local/lib/python3.7/dist-packages/matplotlib/backends/backend_agg.py:214: RuntimeWarning: Glyph 47084 missing from current font.\n",
            "  font.set_text(s, 0.0, flags=flags)\n",
            "/usr/local/lib/python3.7/dist-packages/matplotlib/backends/backend_agg.py:214: RuntimeWarning: Glyph 45789 missing from current font.\n",
            "  font.set_text(s, 0.0, flags=flags)\n",
            "/usr/local/lib/python3.7/dist-packages/matplotlib/backends/backend_agg.py:183: RuntimeWarning: Glyph 54617 missing from current font.\n",
            "  font.set_text(s, 0, flags=flags)\n",
            "/usr/local/lib/python3.7/dist-packages/matplotlib/backends/backend_agg.py:183: RuntimeWarning: Glyph 44368 missing from current font.\n",
            "  font.set_text(s, 0, flags=flags)\n",
            "/usr/local/lib/python3.7/dist-packages/matplotlib/backends/backend_agg.py:183: RuntimeWarning: Glyph 49688 missing from current font.\n",
            "  font.set_text(s, 0, flags=flags)\n",
            "/usr/local/lib/python3.7/dist-packages/matplotlib/backends/backend_agg.py:183: RuntimeWarning: Glyph 50629 missing from current font.\n",
            "  font.set_text(s, 0, flags=flags)\n",
            "/usr/local/lib/python3.7/dist-packages/matplotlib/backends/backend_agg.py:183: RuntimeWarning: Glyph 51088 missing from current font.\n",
            "  font.set_text(s, 0, flags=flags)\n",
            "/usr/local/lib/python3.7/dist-packages/matplotlib/backends/backend_agg.py:183: RuntimeWarning: Glyph 47308 missing from current font.\n",
            "  font.set_text(s, 0, flags=flags)\n",
            "/usr/local/lib/python3.7/dist-packages/matplotlib/backends/backend_agg.py:183: RuntimeWarning: Glyph 46373 missing from current font.\n",
            "  font.set_text(s, 0, flags=flags)\n",
            "/usr/local/lib/python3.7/dist-packages/matplotlib/backends/backend_agg.py:183: RuntimeWarning: Glyph 47084 missing from current font.\n",
            "  font.set_text(s, 0, flags=flags)\n",
            "/usr/local/lib/python3.7/dist-packages/matplotlib/backends/backend_agg.py:183: RuntimeWarning: Glyph 45789 missing from current font.\n",
            "  font.set_text(s, 0, flags=flags)\n"
          ],
          "name": "stderr"
        },
        {
          "output_type": "display_data",
          "data": {
            "image/png": "[encoded data removed]",
            "text/plain": [
              "<Figure size 432x288 with 2 Axes>"
            ]
          },
          "metadata": {
            "tags": [],
            "needs_background": "light"
          }
        }
      ]
    },
    {
      "cell_type": "markdown",
      "metadata": {
        "id": "sWeBHdeW8bnE"
      },
      "source": [
        "## **7. Design Base Line CNN Model which classifies what the gesture is** \n",
        "**(+Preprocess Self_made_data and Augmented Data)**"
      ]
    },
    {
      "cell_type": "markdown",
      "metadata": {
        "id": "19Gx71bAl-aj"
      },
      "source": [
        "**Process**\n",
        "1. Training and Evaluate it\n",
        "2. Testing\n",
        "3. Self_Made Dataset과 Augmented Data에 대해 Preprocessing 과 1, 2 적용\n",
        "\n",
        " (Self_Made Dataset은 Converting Module을 통해 각 팀원이 생성한 \bData를 Load하여 진행 )"
      ]
    },
    {
      "cell_type": "markdown",
      "metadata": {
        "id": "yb71YqF-_TTl"
      },
      "source": [
        "### Training"
      ]
    },
    {
      "cell_type": "code",
      "metadata": {
        "id": "jpFm4Hx_UyzY"
      },
      "source": [
        "import tensorflow as tf\n",
        "import numpy as np\n",
        "import cv2 as cv\n",
        "import matplotlib.pyplot as plt\n",
        "from tensorflow import keras\n",
        "from sklearn.model_selection import train_test_split\n",
        "from keras.models import Sequential\n",
        "from keras.layers.convolutional import Conv2D, MaxPooling2D\n",
        "from keras.layers import Dense, Flatten, Dropout"
      ],
      "execution_count": null,
      "outputs": []
    },
    {
      "cell_type": "code",
      "metadata": {
        "colab": {
          "base_uri": "https://localhost:8080/"
        },
        "id": "OyG8P9vx_WdG",
        "outputId": "aaa33345-ed5c-4606-b0c0-f017521021e6"
      },
      "source": [
        "# Creating training set and labels\n",
        "X = []\n",
        "y = []\n",
        "\n",
        "print(new_paths[0])\n",
        "for path in new_paths[:]:\n",
        "  img = cv2.imread(path)\n",
        "  img = cv2.cvtColor(img, cv2.COLOR_BGR2GRAY)\n",
        "  img = cv2.resize(img, (128,128))\n",
        "  X.append(img)\n",
        "\n",
        "  # image 경로에서 label 추출\n",
        "  category = path.split('/')[9] # 9번째가 label! (07_ok)\n",
        "  label = int(category.split('_')[0][1])\n",
        "  y.append(label)\n",
        "\n",
        "# X, y를 numpy array로 바꿈\n",
        "X = np.array(X)\n",
        "X = X.reshape(len(new_paths[:]), 128, 128, 1)\n",
        "y = np.array(y)\n",
        "\n",
        "print(\"Images loaded: \", len(X))\n",
        "print(\"Labels loaded: \", len(y))\n",
        "\n",
        "print(y[0], new_paths[0])"
      ],
      "execution_count": null,
      "outputs": [
        {
          "output_type": "stream",
          "text": [
            "/content/gdrive/MyDrive/학교 수업 자료/딥러닝/Project/static_skeleton_data/05/07_ok/frame_05_07_0010.png\n",
            "Images loaded:  13235\n",
            "Labels loaded:  13235\n",
            "7 /content/gdrive/MyDrive/학교 수업 자료/딥러닝/Project/static_skeleton_data/05/07_ok/frame_05_07_0010.png\n"
          ],
          "name": "stdout"
        }
      ]
    },
    {
      "cell_type": "code",
      "metadata": {
        "colab": {
          "base_uri": "https://localhost:8080/"
        },
        "id": "FirA36YhJW_8",
        "outputId": "9c446b24-3062-480f-ca2c-b7678a4849aa"
      },
      "source": [
        "# Test train split\n",
        "X_train, X_val, y_train, y_val = train_test_split(X, y, test_size=0.2, random_state=10)\n",
        "\n",
        "# CNN Sequential Model\n",
        "model = Sequential()\n",
        "model.add(Conv2D(32, (5,5), activation='relu', input_shape=(128,128,1)))\n",
        "model.add(MaxPooling2D((2,2)))\n",
        "model.add(Conv2D(64, (3,3), activation='relu'))\n",
        "model.add(MaxPooling2D((2,2)))\n",
        "model.add(Conv2D(128, (3,3), activation='relu'))\n",
        "model.add(MaxPooling2D((2,2)))\n",
        "model.add(Conv2D(128, (3,3), activation='relu'))\n",
        "model.add(MaxPooling2D((2,2)))\n",
        "model.add(Flatten())\n",
        "model.add(Dropout(0.3))\n",
        "model.add(Dense(128, activation='relu'))\n",
        "model.add(Dense(10, activation='softmax'))\n",
        "\n",
        "model.summary()"
      ],
      "execution_count": null,
      "outputs": [
        {
          "output_type": "stream",
          "text": [
            "Model: \"sequential\"\n",
            "_________________________________________________________________\n",
            "Layer (type)                 Output Shape              Param #   \n",
            "=================================================================\n",
            "conv2d (Conv2D)              (None, 124, 124, 32)      832       \n",
            "_________________________________________________________________\n",
            "max_pooling2d (MaxPooling2D) (None, 62, 62, 32)        0         \n",
            "_________________________________________________________________\n",
            "conv2d_1 (Conv2D)            (None, 60, 60, 64)        18496     \n",
            "_________________________________________________________________\n",
            "max_pooling2d_1 (MaxPooling2 (None, 30, 30, 64)        0         \n",
            "_________________________________________________________________\n",
            "conv2d_2 (Conv2D)            (None, 28, 28, 128)       73856     \n",
            "_________________________________________________________________\n",
            "max_pooling2d_2 (MaxPooling2 (None, 14, 14, 128)       0         \n",
            "_________________________________________________________________\n",
            "conv2d_3 (Conv2D)            (None, 12, 12, 128)       147584    \n",
            "_________________________________________________________________\n",
            "max_pooling2d_3 (MaxPooling2 (None, 6, 6, 128)         0         \n",
            "_________________________________________________________________\n",
            "flatten (Flatten)            (None, 4608)              0         \n",
            "_________________________________________________________________\n",
            "dropout (Dropout)            (None, 4608)              0         \n",
            "_________________________________________________________________\n",
            "dense (Dense)                (None, 128)               589952    \n",
            "_________________________________________________________________\n",
            "dense_1 (Dense)              (None, 10)                1290      \n",
            "=================================================================\n",
            "Total params: 832,010\n",
            "Trainable params: 832,010\n",
            "Non-trainable params: 0\n",
            "_________________________________________________________________\n"
          ],
          "name": "stdout"
        }
      ]
    },
    {
      "cell_type": "code",
      "metadata": {
        "colab": {
          "base_uri": "https://localhost:8080/"
        },
        "id": "Ftvl-hb6KPFu",
        "outputId": "4b8eab19-6a20-415d-8c06-730873e2770f"
      },
      "source": [
        "# Compile the model\n",
        "model.compile(optimizer='adam', loss='sparse_categorical_crossentropy', metrics=['accuracy'])\n",
        "\n",
        "# Training\n",
        "model.fit(X_train, y_train, epochs=15, batch_size=64, verbose=2, validation_data=(X_val, y_val))"
      ],
      "execution_count": null,
      "outputs": [
        {
          "output_type": "stream",
          "text": [
            "Epoch 1/15\n",
            "166/166 - 300s - loss: 0.1839 - accuracy: 0.9444 - val_loss: 0.1953 - val_accuracy: 0.9350\n",
            "Epoch 2/15\n",
            "166/166 - 299s - loss: 0.0953 - accuracy: 0.9717 - val_loss: 0.1389 - val_accuracy: 0.9637\n",
            "Epoch 3/15\n",
            "166/166 - 299s - loss: 0.0683 - accuracy: 0.9793 - val_loss: 0.0801 - val_accuracy: 0.9751\n",
            "Epoch 4/15\n",
            "166/166 - 300s - loss: 0.0432 - accuracy: 0.9853 - val_loss: 0.0639 - val_accuracy: 0.9815\n",
            "Epoch 5/15\n",
            "166/166 - 299s - loss: 0.0347 - accuracy: 0.9886 - val_loss: 0.1292 - val_accuracy: 0.9675\n",
            "Epoch 6/15\n",
            "166/166 - 299s - loss: 0.0375 - accuracy: 0.9879 - val_loss: 0.0777 - val_accuracy: 0.9792\n",
            "Epoch 7/15\n",
            "166/166 - 299s - loss: 0.0223 - accuracy: 0.9929 - val_loss: 0.0907 - val_accuracy: 0.9792\n",
            "Epoch 8/15\n",
            "166/166 - 299s - loss: 0.0367 - accuracy: 0.9887 - val_loss: 0.0905 - val_accuracy: 0.9754\n",
            "Epoch 9/15\n",
            "166/166 - 298s - loss: 0.0213 - accuracy: 0.9930 - val_loss: 0.0857 - val_accuracy: 0.9781\n",
            "Epoch 10/15\n",
            "166/166 - 298s - loss: 0.0163 - accuracy: 0.9947 - val_loss: 0.1221 - val_accuracy: 0.9788\n",
            "Epoch 11/15\n",
            "166/166 - 298s - loss: 0.0256 - accuracy: 0.9918 - val_loss: 0.1034 - val_accuracy: 0.9777\n",
            "Epoch 12/15\n",
            "166/166 - 299s - loss: 0.0272 - accuracy: 0.9905 - val_loss: 0.1213 - val_accuracy: 0.9785\n",
            "Epoch 13/15\n",
            "166/166 - 298s - loss: 0.0321 - accuracy: 0.9902 - val_loss: 0.0873 - val_accuracy: 0.9830\n",
            "Epoch 14/15\n",
            "166/166 - 298s - loss: 0.0151 - accuracy: 0.9945 - val_loss: 0.1088 - val_accuracy: 0.9822\n",
            "Epoch 15/15\n",
            "166/166 - 298s - loss: 0.0192 - accuracy: 0.9937 - val_loss: 0.0779 - val_accuracy: 0.9830\n"
          ],
          "name": "stdout"
        },
        {
          "output_type": "execute_result",
          "data": {
            "text/plain": [
              "<keras.callbacks.History at 0x7f7be7a621d0>"
            ]
          },
          "metadata": {
            "tags": []
          },
          "execution_count": 72
        }
      ]
    },
    {
      "cell_type": "markdown",
      "metadata": {
        "id": "PmIuN1Bcew5-"
      },
      "source": [
        "* result"
      ]
    },
    {
      "cell_type": "code",
      "metadata": {
        "colab": {
          "base_uri": "https://localhost:8080/",
          "height": 573
        },
        "id": "RvPc83XJew6K",
        "outputId": "092fbb17-c69f-4d0a-d044-1cf029f86636"
      },
      "source": [
        "# plotting\n",
        "loss = model.history.history['loss']\n",
        "val_loss = model.history.history['val_loss']\n",
        "acc = model.history.history['accuracy']\n",
        "val_acc = model.history.history['val_accuracy']\n",
        "\n",
        "epochs = range(1, len(loss) + 1)\n",
        "\n",
        "plt.plot(epochs, loss, 'bo', label='Training loss')\n",
        "plt.plot(epochs, val_loss, 'b', label='Validation loss')\n",
        "plt.title('Training and validation loss')\n",
        "plt.xlabel('Epochs')\n",
        "plt.ylabel('Loss')\n",
        "plt.legend()\n",
        "\n",
        "plt.figure()\n",
        "\n",
        "plt.plot(epochs, acc, 'bo', label='Training acc')\n",
        "plt.plot(epochs, val_acc, 'b', label='Validation acc')\n",
        "plt.title('Training and validation accuracy')\n",
        "plt.xlabel('Epochs')\n",
        "plt.ylabel('Accuracy')\n",
        "plt.legend()\n",
        "plt.show()"
      ],
      "execution_count": null,
      "outputs": [
        {
          "output_type": "display_data",
          "data": {
            "image/png": "[encoded data removed]",
            "text/plain": [
              "<Figure size 432x288 with 1 Axes>"
            ]
          },
          "metadata": {
            "tags": [],
            "needs_background": "light"
          }
        },
        {
          "output_type": "display_data",
          "data": {
            "image/png": "[encoded data removed]",
            "text/plain": [
              "<Figure size 432x288 with 1 Axes>"
            ]
          },
          "metadata": {
            "tags": [],
            "needs_background": "light"
          }
        }
      ]
    },
    {
      "cell_type": "code",
      "metadata": {
        "id": "-nY__ARZKvOB"
      },
      "source": [
        "# save\n",
        "model.save('/content/gdrive/MyDrive/trained_kaggle/trained_kaggledata.h5')"
      ],
      "execution_count": null,
      "outputs": []
    },
    {
      "cell_type": "markdown",
      "metadata": {
        "id": "XlkQgGLFK5k4"
      },
      "source": [
        "### Testing"
      ]
    },
    {
      "cell_type": "markdown",
      "metadata": {
        "id": "Ml_vi6BiLHkA"
      },
      "source": [
        "* 직접 만든 데이터로 test 진행"
      ]
    },
    {
      "cell_type": "code",
      "metadata": {
        "colab": {
          "base_uri": "https://localhost:8080/"
        },
        "id": "DGahomRsLLuO",
        "outputId": "08d53a65-8ed5-462f-a0fe-3d836e89fb2c"
      },
      "source": [
        "# test data\n",
        "X_test = []\n",
        "y_test = []\n",
        "\n",
        "test_paths = []\n",
        "\n",
        "for dirname, _, filenames in os.walk('/content/gdrive/MyDrive/10'):\n",
        "  for filename in filenames:\n",
        "    path = os.path.join(dirname, filename)\n",
        "    if path.endswith(\"png\"):\n",
        "      test_paths.append(path)\n",
        "\n",
        "print(len(test_paths))\n",
        "print(test_paths[len(test_paths)-1])\n",
        "\n",
        "for path in test_paths[:]:\n",
        "  # image data\n",
        "  img = cv.imread(path)\n",
        "  img = cv.cvtColor(img, cv.COLOR_BGR2GRAY)\n",
        "  img = cv.resize(img, (128,128))\n",
        "  X_test.append(img)\n",
        "  if len(X_test) % 100 == 0 or len(X_test) == len(test_paths):\n",
        "    print('number of X test data : ', len(X_test))\n",
        "\n",
        "  # labels\n",
        "  category = path.split('/')[5]\n",
        "  label = int(category.split('_')[0][1])\n",
        "  y_test.append(label)\n",
        "\n",
        "X_test = np.array(X_test)\n",
        "X_test = X_test.reshape(len(test_paths), 128, 128, 1)\n",
        "y_test = np.array(y_test)\n",
        "\n",
        "print('test 이미지 개수 : ', len(X_test))\n",
        "print('test 라벨 개수 : ', len(y_test))\n",
        "print(y_test[0], test_paths[0])"
      ],
      "execution_count": null,
      "outputs": [
        {
          "output_type": "stream",
          "text": [
            "2347\n",
            "/content/gdrive/MyDrive/10/09_c/frame_00_09_0290.png\n",
            "number of X test data :  100\n",
            "number of X test data :  200\n",
            "number of X test data :  300\n",
            "number of X test data :  400\n",
            "number of X test data :  500\n",
            "number of X test data :  600\n",
            "number of X test data :  700\n",
            "number of X test data :  800\n",
            "number of X test data :  900\n",
            "number of X test data :  1000\n",
            "number of X test data :  1100\n",
            "number of X test data :  1200\n",
            "number of X test data :  1300\n",
            "number of X test data :  1400\n",
            "number of X test data :  1500\n",
            "number of X test data :  1600\n",
            "number of X test data :  1700\n",
            "number of X test data :  1800\n",
            "number of X test data :  1900\n",
            "number of X test data :  2000\n",
            "number of X test data :  2100\n",
            "number of X test data :  2200\n",
            "number of X test data :  2300\n",
            "number of X test data :  2347\n",
            "test 이미지 개수 :  2347\n",
            "test 라벨 개수 :  2347\n",
            "1 /content/gdrive/MyDrive/10/01_palm/frame_00_01_0002.png\n"
          ],
          "name": "stdout"
        }
      ]
    },
    {
      "cell_type": "code",
      "metadata": {
        "colab": {
          "base_uri": "https://localhost:8080/"
        },
        "id": "idSA_uOgWItt",
        "outputId": "ea11eeae-d15c-44ff-f672-424008a0de04"
      },
      "source": [
        "# loss and accuracy on test \n",
        "\n",
        "test_loss, test_acc = model.evaluate(X_test, y_test)\n",
        "\n",
        "print('Test accuracy : {:2.4f}%'.format(test_acc*100))"
      ],
      "execution_count": null,
      "outputs": [
        {
          "output_type": "stream",
          "text": [
            "74/74 [==============================] - 16s 221ms/step - loss: 13.8318 - accuracy: 0.2318\n",
            "Test accuracy : 23.1785%\n"
          ],
          "name": "stdout"
        }
      ]
    },
    {
      "cell_type": "markdown",
      "metadata": {
        "id": "n5tuU2PlYyLC"
      },
      "source": [
        "### Self_made_Data 에 대하여 동일 과정 시행"
      ]
    },
    {
      "cell_type": "markdown",
      "metadata": {
        "id": "_0WFC6TQZH2h"
      },
      "source": [
        "### Data upload"
      ]
    },
    {
      "cell_type": "code",
      "metadata": {
        "id": "aamHsC8-aCtc"
      },
      "source": [
        "import numpy as np\n",
        "import matplotlib.pyplot as plt\n",
        "import cv2 as cv\n",
        "import pandas as pd\n",
        "import os\n",
        "import tensorflow as tf\n",
        "from tensorflow import keras\n",
        "from sklearn.model_selection import train_test_split\n",
        "from keras.models import Sequential\n",
        "from keras.layers.convolutional import Conv2D, MaxPooling2D\n",
        "from keras.layers import Dense, Flatten, Dropout"
      ],
      "execution_count": null,
      "outputs": []
    },
    {
      "cell_type": "markdown",
      "metadata": {
        "id": "WuuUOiUQZ1Ez"
      },
      "source": [
        "* mount drive"
      ]
    },
    {
      "cell_type": "code",
      "metadata": {
        "colab": {
          "base_uri": "https://localhost:8080/"
        },
        "id": "jWcWN9w6ZrT8",
        "outputId": "0e8824b4-c761-44e5-f53d-a625392a3233"
      },
      "source": [
        "# mount Google Drive\n",
        "from google.colab import drive\n",
        "import os\n",
        "drive.mount('/content/gdrive')"
      ],
      "execution_count": null,
      "outputs": [
        {
          "output_type": "stream",
          "text": [
            "Mounted at /content/gdrive\n"
          ],
          "name": "stdout"
        }
      ]
    },
    {
      "cell_type": "markdown",
      "metadata": {
        "id": "s9jprgj8Z3Dk"
      },
      "source": [
        "* 이미지의 경로를 skeletonpaths list에 저장"
      ]
    },
    {
      "cell_type": "code",
      "metadata": {
        "colab": {
          "base_uri": "https://localhost:8080/"
        },
        "id": "mdQP8dYrZNRg",
        "outputId": "cae00c57-f3bc-414e-ccee-c6a605540fed"
      },
      "source": [
        "dir_path = '/content/gdrive/MyDrive/static_skeleton_data'\n",
        "skeletonpaths = []\n",
        "\n",
        "for dirname, _, filenames in os.walk(dir_path):\n",
        "  for filename in filenames:\n",
        "    path = os.path.join(dirname, filename)\n",
        "    \n",
        "    if path.endswith(\"png\"):\n",
        "      skeletonpaths.append(path)\n",
        "\n",
        "print(len(skeletonpaths))\n",
        "print(skeletonpaths[0])"
      ],
      "execution_count": null,
      "outputs": [
        {
          "output_type": "stream",
          "text": [
            "7838\n",
            "/content/gdrive/MyDrive/static_skeleton_data/12/01_palm/frame_00_12_0001.png\n"
          ],
          "name": "stdout"
        }
      ]
    },
    {
      "cell_type": "markdown",
      "metadata": {
        "id": "A9U4iB8k9BbY"
      },
      "source": [
        "### Training"
      ]
    },
    {
      "cell_type": "markdown",
      "metadata": {
        "id": "kHRPAiX_eqLu"
      },
      "source": [
        "* X, y 변수 생성"
      ]
    },
    {
      "cell_type": "code",
      "metadata": {
        "colab": {
          "base_uri": "https://localhost:8080/"
        },
        "id": "0jExavc8kHnq",
        "outputId": "8beb121d-62c6-4401-9aad-2f484b111f75"
      },
      "source": [
        "# Creating trainig set and labels\n",
        "X_made = []\n",
        "y_made = []\n",
        "\n",
        "for path in skeletonpaths[:len(skeletonpaths)]:\n",
        "  # image data\n",
        "  img = cv.imread(path)\n",
        "  img = cv.cvtColor(img, cv.COLOR_BGR2GRAY)\n",
        "  img = cv.resize(img, (128, 128))\n",
        "  X_made.append(img)\n",
        "  if len(X_made) % 100 == 0 or len(X_made) == len(skeletonpaths):\n",
        "    print(len(X_made))\n",
        "\n",
        "  # labels\n",
        "  category = path.split(\"/\")[6] # path에서 6번째가 label\n",
        "  label = int(category.split(\"_\")[0][1])\n",
        "  y_made.append(label)\n",
        "\n",
        "X_made = np.array(X_made)\n",
        "X_made = X_made.reshape(len(skeletonpaths), 128, 128, 1)\n",
        "y_made = np.array(y_made)\n",
        "\n",
        "print(\"이미지 개수 : \", len(X_made))\n",
        "print(\"라벨 개수 : \", len(y_made))\n",
        "print(y_made[0], skeletonpaths[0])"
      ],
      "execution_count": null,
      "outputs": [
        {
          "output_type": "stream",
          "text": [
            "100\n",
            "200\n",
            "300\n",
            "400\n",
            "500\n",
            "600\n",
            "700\n",
            "800\n",
            "900\n",
            "1000\n",
            "1100\n",
            "1200\n",
            "1300\n",
            "1400\n",
            "1500\n",
            "1600\n",
            "1700\n",
            "1800\n",
            "1900\n",
            "2000\n",
            "2100\n",
            "2200\n",
            "2300\n",
            "2400\n",
            "2500\n",
            "2600\n",
            "2700\n",
            "2800\n",
            "2900\n",
            "3000\n",
            "3100\n",
            "3200\n",
            "3300\n",
            "3400\n",
            "3500\n",
            "3600\n",
            "3700\n",
            "3800\n",
            "3900\n",
            "4000\n",
            "4100\n",
            "4200\n",
            "4300\n",
            "4400\n",
            "4500\n",
            "4600\n",
            "4700\n",
            "4800\n",
            "4900\n",
            "5000\n",
            "5100\n",
            "5200\n",
            "5300\n",
            "5400\n",
            "5500\n",
            "5600\n",
            "5700\n",
            "5800\n",
            "5900\n",
            "6000\n",
            "6100\n",
            "6200\n",
            "6300\n",
            "6400\n",
            "6500\n",
            "6600\n",
            "6700\n",
            "6800\n",
            "6900\n",
            "7000\n",
            "7100\n",
            "7200\n",
            "7300\n",
            "7400\n",
            "7500\n",
            "7600\n",
            "7700\n",
            "7800\n",
            "7838\n",
            "이미지 개수 :  7838\n",
            "라벨 개수 :  7838\n",
            "1 /content/gdrive/MyDrive/static_skeleton_data/12/01_palm/frame_00_12_0001.png\n"
          ],
          "name": "stdout"
        }
      ]
    },
    {
      "cell_type": "markdown",
      "metadata": {
        "id": "m21DS__GevRm"
      },
      "source": [
        "* 생성한 변수 (X, y) 저장"
      ]
    },
    {
      "cell_type": "code",
      "metadata": {
        "colab": {
          "base_uri": "https://localhost:8080/"
        },
        "id": "6761KZsyrON-",
        "outputId": "b4c3575e-678d-4384-889b-bf90e5d407ee"
      },
      "source": [
        "# data 저장\n",
        "np.save('/content/gdrive/MyDrive/made/input_data_made.npy', X_made)\n",
        "np.save('/content/gdrive/MyDrive/made/label_data_made.npy', y_made)\n",
        "\n",
        "# 저장 잘 됐는지 확인\n",
        "X_made_ = np.load('/content/gdrive/MyDrive/made/input_data_made.npy')\n",
        "\n",
        "print(np.array_equal(X_made, X_made_)) # array가 같은지 확인"
      ],
      "execution_count": null,
      "outputs": [
        {
          "output_type": "stream",
          "text": [
            "True\n"
          ],
          "name": "stdout"
        }
      ]
    },
    {
      "cell_type": "code",
      "metadata": {
        "colab": {
          "base_uri": "https://localhost:8080/"
        },
        "id": "3mr7dIWxcAFP",
        "outputId": "aa112a41-60ba-4c60-9813-233dcb65c463"
      },
      "source": [
        "# 저장한 image data 불러오기\n",
        "X_made = []\n",
        "y_made = []\n",
        "X_made = np.load('/content/gdrive/MyDrive/made/input_data_made.npy')\n",
        "y_made = np.load('/content/gdrive/MyDrive/made/label_data_made.npy')\n",
        "\n",
        "print(len(X_made))\n",
        "print(len(y_made))\n",
        "\n",
        "print(X_made.shape)"
      ],
      "execution_count": null,
      "outputs": [
        {
          "output_type": "stream",
          "text": [
            "7838\n",
            "7838\n",
            "(7838, 128, 128, 1)\n"
          ],
          "name": "stdout"
        }
      ]
    },
    {
      "cell_type": "markdown",
      "metadata": {
        "id": "w1lmIRohe5te"
      },
      "source": [
        "* training"
      ]
    },
    {
      "cell_type": "code",
      "metadata": {
        "colab": {
          "base_uri": "https://localhost:8080/"
        },
        "id": "gOkpH8wu_Hd_",
        "outputId": "02957c24-66c3-4979-e704-7c6bf0b36cf2"
      },
      "source": [
        "# test train split\n",
        "X_train_made, X_val_made, y_train_made, y_val_made = train_test_split(X_made, \n",
        "                                                                      y_made, \n",
        "                                                                      test_size = 0.2, \n",
        "                                                                      random_state=10)\n",
        "\n",
        "# model\n",
        "model_made = Sequential()\n",
        "model_made.add(Conv2D(32, (5,5), activation='relu', input_shape=(128,128,1)))\n",
        "model_made.add(MaxPooling2D((2,2)))\n",
        "model_made.add(Conv2D(64, (3,3), activation='relu'))\n",
        "model_made.add(MaxPooling2D((2,2)))\n",
        "model_made.add(Conv2D(128, (3,3), activation='relu'))\n",
        "model_made.add(MaxPooling2D((2,2)))\n",
        "model_made.add(Conv2D(128, (3,3), activation='relu'))\n",
        "model_made.add(MaxPooling2D((2,2)))\n",
        "model_made.add(Flatten())\n",
        "model_made.add(Dropout(0.3)) # dropout\n",
        "model_made.add(Dense(128, activation='relu'))\n",
        "model_made.add(Dense(10, activation='softmax'))\n",
        "\n",
        "model_made.summary()"
      ],
      "execution_count": null,
      "outputs": [
        {
          "output_type": "stream",
          "text": [
            "Model: \"sequential\"\n",
            "_________________________________________________________________\n",
            "Layer (type)                 Output Shape              Param #   \n",
            "=================================================================\n",
            "conv2d (Conv2D)              (None, 124, 124, 32)      832       \n",
            "_________________________________________________________________\n",
            "max_pooling2d (MaxPooling2D) (None, 62, 62, 32)        0         \n",
            "_________________________________________________________________\n",
            "conv2d_1 (Conv2D)            (None, 60, 60, 64)        18496     \n",
            "_________________________________________________________________\n",
            "max_pooling2d_1 (MaxPooling2 (None, 30, 30, 64)        0         \n",
            "_________________________________________________________________\n",
            "conv2d_2 (Conv2D)            (None, 28, 28, 128)       73856     \n",
            "_________________________________________________________________\n",
            "max_pooling2d_2 (MaxPooling2 (None, 14, 14, 128)       0         \n",
            "_________________________________________________________________\n",
            "conv2d_3 (Conv2D)            (None, 12, 12, 128)       147584    \n",
            "_________________________________________________________________\n",
            "max_pooling2d_3 (MaxPooling2 (None, 6, 6, 128)         0         \n",
            "_________________________________________________________________\n",
            "flatten (Flatten)            (None, 4608)              0         \n",
            "_________________________________________________________________\n",
            "dropout (Dropout)            (None, 4608)              0         \n",
            "_________________________________________________________________\n",
            "dense (Dense)                (None, 128)               589952    \n",
            "_________________________________________________________________\n",
            "dense_1 (Dense)              (None, 10)                1290      \n",
            "=================================================================\n",
            "Total params: 832,010\n",
            "Trainable params: 832,010\n",
            "Non-trainable params: 0\n",
            "_________________________________________________________________\n"
          ],
          "name": "stdout"
        }
      ]
    },
    {
      "cell_type": "code",
      "metadata": {
        "colab": {
          "base_uri": "https://localhost:8080/"
        },
        "id": "5yFCJ97cAPwk",
        "outputId": "bb40d2bc-1ca6-45a3-f42b-1ffd9a9745e4"
      },
      "source": [
        "model_made.compile(optimizer='adam',\n",
        "              loss='sparse_categorical_crossentropy', metrics=['accuracy'])\n",
        "\n",
        "history_made = model_made.fit(X_train_made, y_train_made, epochs=10, batch_size=64,\n",
        "                              verbose=2, validation_data=(X_val_made, y_val_made))"
      ],
      "execution_count": null,
      "outputs": [
        {
          "output_type": "stream",
          "text": [
            "Epoch 1/10\n",
            "98/98 - 210s - loss: 1.4748 - accuracy: 0.5273 - val_loss: 0.4089 - val_accuracy: 0.8705\n",
            "Epoch 2/10\n",
            "98/98 - 193s - loss: 0.3373 - accuracy: 0.8839 - val_loss: 0.2341 - val_accuracy: 0.9369\n",
            "Epoch 3/10\n",
            "98/98 - 193s - loss: 0.1478 - accuracy: 0.9533 - val_loss: 0.1255 - val_accuracy: 0.9643\n",
            "Epoch 4/10\n",
            "98/98 - 192s - loss: 0.0883 - accuracy: 0.9730 - val_loss: 0.1254 - val_accuracy: 0.9617\n",
            "Epoch 5/10\n",
            "98/98 - 192s - loss: 0.0435 - accuracy: 0.9860 - val_loss: 0.0826 - val_accuracy: 0.9783\n",
            "Epoch 6/10\n",
            "98/98 - 193s - loss: 0.0593 - accuracy: 0.9812 - val_loss: 0.0953 - val_accuracy: 0.9732\n",
            "Epoch 7/10\n",
            "98/98 - 194s - loss: 0.0416 - accuracy: 0.9871 - val_loss: 0.1301 - val_accuracy: 0.9681\n",
            "Epoch 8/10\n",
            "98/98 - 194s - loss: 0.0219 - accuracy: 0.9931 - val_loss: 0.1225 - val_accuracy: 0.9739\n",
            "Epoch 9/10\n",
            "98/98 - 195s - loss: 0.0445 - accuracy: 0.9863 - val_loss: 0.0941 - val_accuracy: 0.9739\n",
            "Epoch 10/10\n",
            "98/98 - 195s - loss: 0.0207 - accuracy: 0.9931 - val_loss: 0.0770 - val_accuracy: 0.9783\n"
          ],
          "name": "stdout"
        }
      ]
    },
    {
      "cell_type": "markdown",
      "metadata": {
        "id": "Yvo-F-2NfD5d"
      },
      "source": [
        "* result"
      ]
    },
    {
      "cell_type": "code",
      "metadata": {
        "id": "qTwWzBeJD8AR",
        "colab": {
          "base_uri": "https://localhost:8080/",
          "height": 573
        },
        "outputId": "c7067776-1355-42a6-ecc8-bce94e402e69"
      },
      "source": [
        "# plotting\n",
        "loss = history_made.history['loss']\n",
        "val_loss = history_made.history['val_loss']\n",
        "acc = history_made.history['accuracy']\n",
        "val_acc = history_made.history['val_accuracy']\n",
        "\n",
        "epochs = range(1, len(loss) + 1)\n",
        "\n",
        "plt.plot(epochs, loss, 'bo', label='Training loss')\n",
        "plt.plot(epochs, val_loss, 'b', label='Validation loss')\n",
        "plt.title('Training and validation loss')\n",
        "plt.xlabel('Epochs')\n",
        "plt.ylabel('Loss')\n",
        "plt.legend()\n",
        "\n",
        "plt.figure()\n",
        "\n",
        "plt.plot(epochs, acc, 'bo', label='Training acc')\n",
        "plt.plot(epochs, val_acc, 'b', label='Validation acc')\n",
        "plt.title('Training and validation accuracy')\n",
        "plt.xlabel('Epochs')\n",
        "plt.ylabel('Accuracy')\n",
        "plt.legend()\n",
        "plt.show()"
      ],
      "execution_count": null,
      "outputs": [
        {
          "output_type": "display_data",
          "data": {
            "image/png": "[encoded data removed]",
            "text/plain": [
              "<Figure size 432x288 with 1 Axes>"
            ]
          },
          "metadata": {
            "tags": [],
            "needs_background": "light"
          }
        },
        {
          "output_type": "display_data",
          "data": {
            "image/png": "[encoded data removed]",
            "text/plain": [
              "<Figure size 432x288 with 1 Axes>"
            ]
          },
          "metadata": {
            "tags": [],
            "needs_background": "light"
          }
        }
      ]
    },
    {
      "cell_type": "markdown",
      "metadata": {
        "id": "nlI5bLnpfGOm"
      },
      "source": [
        "* model save"
      ]
    },
    {
      "cell_type": "code",
      "metadata": {
        "id": "91O81pECC3DK"
      },
      "source": [
        "# model save\n",
        "model_made.save('/content/gdrive/MyDrive/made/model_made.h5')"
      ],
      "execution_count": null,
      "outputs": []
    },
    {
      "cell_type": "markdown",
      "metadata": {
        "id": "3mrMYIO0xme2"
      },
      "source": [
        "### Testing"
      ]
    },
    {
      "cell_type": "markdown",
      "metadata": {
        "id": "krXY3098xmfC"
      },
      "source": [
        "* 직접 만든 데이터로 test 진행"
      ]
    },
    {
      "cell_type": "code",
      "metadata": {
        "colab": {
          "base_uri": "https://localhost:8080/"
        },
        "id": "MoEomK1KxmfC",
        "outputId": "04d62190-cd3f-4af0-a521-58feb08951f9"
      },
      "source": [
        "# test data\n",
        "X_test = []\n",
        "y_test = []\n",
        "\n",
        "test_paths = []\n",
        "\n",
        "for dirname, _, filenames in os.walk('/content/gdrive/MyDrive/10'):\n",
        "  for filename in filenames:\n",
        "    path = os.path.join(dirname, filename)\n",
        "    if path.endswith(\"png\"):\n",
        "      test_paths.append(path)\n",
        "\n",
        "#print(len(test_paths))\n",
        "#print(test_paths[len(test_paths)-1])\n",
        "\n",
        "for path in test_paths[:]:\n",
        "  # image data\n",
        "  img = cv.imread(path)\n",
        "  img = cv.cvtColor(img, cv.COLOR_BGR2GRAY)\n",
        "  img = cv.resize(img, (128,128))\n",
        "  X_test.append(img)\n",
        "  if len(X_test) % 100 == 0 or len(X_test) == len(test_paths):\n",
        "    print(len(X_test))\n",
        "\n",
        "  # labels\n",
        "  category = path.split('/')[5]\n",
        "  label = int(category.split('_')[0][1])\n",
        "  y_test.append(label)\n",
        "\n",
        "X_test = np.array(X_test)\n",
        "X_test = X_test.reshape(len(test_paths), 128, 128, 1)\n",
        "y_test = np.array(y_test)\n",
        "\n",
        "print('test 이미지 개수 : ', len(X_test))\n",
        "print('test 라벨 개수 : ', len(y_test))\n",
        "print(y_test[0], test_paths[0])"
      ],
      "execution_count": null,
      "outputs": [
        {
          "output_type": "stream",
          "text": [
            "100\n",
            "200\n",
            "300\n",
            "400\n",
            "500\n",
            "600\n",
            "700\n",
            "800\n",
            "900\n",
            "1000\n",
            "1100\n",
            "1200\n",
            "1300\n",
            "1400\n",
            "1500\n",
            "1600\n",
            "1700\n",
            "1800\n",
            "1900\n",
            "2000\n",
            "2100\n",
            "2200\n",
            "2300\n",
            "2347\n",
            "test 이미지 개수 :  2347\n",
            "test 라벨 개수 :  2347\n",
            "1 /content/gdrive/MyDrive/10/01_palm/frame_00_01_0002.png\n"
          ],
          "name": "stdout"
        }
      ]
    },
    {
      "cell_type": "code",
      "metadata": {
        "colab": {
          "base_uri": "https://localhost:8080/"
        },
        "id": "MNptSZa6xmfD",
        "outputId": "a4748e6d-1bc7-4a84-8bb2-5c6f48f68ddd"
      },
      "source": [
        "# loss and accuracy on test \n",
        "\n",
        "test_loss, test_acc = model_made.evaluate(X_test, y_test)\n",
        "\n",
        "print('Test accuracy : {:2.4f}%'.format(test_acc*100))"
      ],
      "execution_count": null,
      "outputs": [
        {
          "output_type": "stream",
          "text": [
            "74/74 [==============================] - 18s 247ms/step - loss: 1.2946 - accuracy: 0.7559\n",
            "Test accuracy : 75.5859%\n"
          ],
          "name": "stdout"
        }
      ]
    },
    {
      "cell_type": "markdown",
      "metadata": {
        "id": "vkPMFkngfMhh"
      },
      "source": [
        "### Augmented Data set에 대하여 동일 과정 시행"
      ]
    },
    {
      "cell_type": "markdown",
      "metadata": {
        "id": "r9vpGfh2gFLY"
      },
      "source": [
        "### Data upload"
      ]
    },
    {
      "cell_type": "code",
      "metadata": {
        "colab": {
          "base_uri": "https://localhost:8080/"
        },
        "id": "hXvIYslnfaWt",
        "outputId": "ab3430a6-a810-43fd-e294-9e12fc8349b5"
      },
      "source": [
        "# 저장했던 data load\n",
        "X_aug = []\n",
        "y_aug = []\n",
        "X_aug = np.load('/content/gdrive/MyDrive/made/input_data_made.npy')\n",
        "y_aug = np.load('/content/gdrive/MyDrive/made/label_data_made.npy')\n",
        "\n",
        "print(len(X_aug))\n",
        "print(len(y_aug))\n",
        "print(X_aug.shape)"
      ],
      "execution_count": null,
      "outputs": [
        {
          "output_type": "stream",
          "text": [
            "7838\n",
            "7838\n",
            "(7838, 128, 128, 1)\n"
          ],
          "name": "stdout"
        }
      ]
    },
    {
      "cell_type": "code",
      "metadata": {
        "colab": {
          "base_uri": "https://localhost:8080/"
        },
        "id": "jjLM4wCYgDZQ",
        "outputId": "d2969b3e-297c-4b8c-f3e1-35aba5967760"
      },
      "source": [
        "# test train split\n",
        "X_train_aug, X_val_aug, y_train_aug, y_val_aug = train_test_split(X_aug,\n",
        "                                                                  y_aug,\n",
        "                                                                  test_size = 0.1,\n",
        "                                                                  random_state=10)\n",
        "\n",
        "# model\n",
        "model_aug = Sequential()\n",
        "model_aug.add(Conv2D(32, (5,5), activation='relu', input_shape=(128,128,1)))\n",
        "model_aug.add(MaxPooling2D((2,2)))\n",
        "model_aug.add(Conv2D(64, (3,3), activation='relu'))\n",
        "model_aug.add(MaxPooling2D((2,2)))\n",
        "model_aug.add(Conv2D(128, (3,3), activation='relu'))\n",
        "model_aug.add(MaxPooling2D((2,2)))\n",
        "model_aug.add(Conv2D(128, (3,3), activation='relu'))\n",
        "model_aug.add(MaxPooling2D((2,2)))\n",
        "model_aug.add(Flatten())\n",
        "model_aug.add(Dropout(0.3))\n",
        "model_aug.add(Dense(128, activation='relu'))\n",
        "model_aug.add(Dense(10, activation='softmax'))\n",
        "\n",
        "model_aug.summary()"
      ],
      "execution_count": null,
      "outputs": [
        {
          "output_type": "stream",
          "text": [
            "Model: \"sequential_1\"\n",
            "_________________________________________________________________\n",
            "Layer (type)                 Output Shape              Param #   \n",
            "=================================================================\n",
            "conv2d_4 (Conv2D)            (None, 124, 124, 32)      832       \n",
            "_________________________________________________________________\n",
            "max_pooling2d_4 (MaxPooling2 (None, 62, 62, 32)        0         \n",
            "_________________________________________________________________\n",
            "conv2d_5 (Conv2D)            (None, 60, 60, 64)        18496     \n",
            "_________________________________________________________________\n",
            "max_pooling2d_5 (MaxPooling2 (None, 30, 30, 64)        0         \n",
            "_________________________________________________________________\n",
            "conv2d_6 (Conv2D)            (None, 28, 28, 128)       73856     \n",
            "_________________________________________________________________\n",
            "max_pooling2d_6 (MaxPooling2 (None, 14, 14, 128)       0         \n",
            "_________________________________________________________________\n",
            "conv2d_7 (Conv2D)            (None, 12, 12, 128)       147584    \n",
            "_________________________________________________________________\n",
            "max_pooling2d_7 (MaxPooling2 (None, 6, 6, 128)         0         \n",
            "_________________________________________________________________\n",
            "flatten_1 (Flatten)          (None, 4608)              0         \n",
            "_________________________________________________________________\n",
            "dropout_1 (Dropout)          (None, 4608)              0         \n",
            "_________________________________________________________________\n",
            "dense_2 (Dense)              (None, 128)               589952    \n",
            "_________________________________________________________________\n",
            "dense_3 (Dense)              (None, 10)                1290      \n",
            "=================================================================\n",
            "Total params: 832,010\n",
            "Trainable params: 832,010\n",
            "Non-trainable params: 0\n",
            "_________________________________________________________________\n"
          ],
          "name": "stdout"
        }
      ]
    },
    {
      "cell_type": "markdown",
      "metadata": {
        "id": "WGcbao32jIVs"
      },
      "source": [
        "### Data augmentation"
      ]
    },
    {
      "cell_type": "markdown",
      "metadata": {
        "id": "4Eu-Xi1ejOvo"
      },
      "source": [
        "* 사람마다 폴더로 나눠져있으므로, 폴더별로 augmentation data를 생성한 후 MergeDI class를 이용하여 합함"
      ]
    },
    {
      "cell_type": "code",
      "metadata": {
        "id": "3RXr80amjEIn"
      },
      "source": [
        "# DirectoryIterator (train_generator) 합치기\n",
        "class MergeDI():\n",
        "    def __init__(self, *gens):\n",
        "        self.gens = gens\n",
        "\n",
        "    def generate(self):\n",
        "        while True:\n",
        "            for g in self.gens:\n",
        "                yield next(g)\n",
        "\n",
        "    def __len__(self):\n",
        "        return sum([len(g) for g in self.gens])"
      ],
      "execution_count": null,
      "outputs": []
    },
    {
      "cell_type": "code",
      "metadata": {
        "colab": {
          "base_uri": "https://localhost:8080/"
        },
        "id": "4OsGwsS4HtFS",
        "outputId": "2fc59cff-2698-448e-9d8c-4b657a416829"
      },
      "source": [
        "# data augmentation\n",
        "from tensorflow.keras.preprocessing.image import ImageDataGenerator\n",
        "\n",
        "train_datagen = ImageDataGenerator(rescale=1./255,\n",
        "                             rotation_range=40, # range 내에서 random하게 data 회전시킴\n",
        "                             width_shift_range=0.1, # range 내에서 translation\n",
        "                             height_shift_range=0.1, # range 내에서 translation\n",
        "                             shear_range=0.1, # range 내에서 affine\n",
        "                             zoom_range=0.1, # range 내에서 zoom\n",
        "                             horizontal_flip=False, # 거울모드는 오른손만 detecting해야하므로 false\n",
        "                             fill_mode='nearest', # 빈 공간을 채울 방법 : 가장 가까운 값\n",
        "                             validation_split=0.1) # validation split 가능\n",
        "\n",
        "train_generator_12 = train_datagen.flow_from_directory('/content/gdrive/MyDrive/static_skeleton_data/12',\n",
        "                                                       color_mode='grayscale',\n",
        "                                                       target_size=(128,128),\n",
        "                                                       subset='training')\n",
        "\n",
        "train_generator_13 = train_datagen.flow_from_directory('/content/gdrive/MyDrive/static_skeleton_data/13',\n",
        "                                                       color_mode='grayscale',\n",
        "                                                       target_size=(128,128),\n",
        "                                                       subset='training')\n",
        "\n",
        "train_generator_14 = train_datagen.flow_from_directory('/content/gdrive/MyDrive/static_skeleton_data/14',\n",
        "                                                       color_mode='grayscale',\n",
        "                                                       target_size=(128,128),\n",
        "                                                       subset='training')\n",
        "\n",
        "validation_generator_12 = train_datagen.flow_from_directory('/content/gdrive/MyDrive/static_skeleton_data/12',\n",
        "                                                        color_mode='grayscale',\n",
        "                                                        target_size=(128,128),\n",
        "                                                        subset='validation')\n",
        "\n",
        "validation_generator_13 = train_datagen.flow_from_directory('/content/gdrive/MyDrive/static_skeleton_data/13',\n",
        "                                                        color_mode='grayscale',\n",
        "                                                        target_size=(128,128),\n",
        "                                                        subset='validation')\n",
        "\n",
        "validation_generator_14 = train_datagen.flow_from_directory('/content/gdrive/MyDrive/static_skeleton_data/14',\n",
        "                                                        color_mode='grayscale',\n",
        "                                                        target_size=(128,128),\n",
        "                                                        subset='validation')\n",
        "\n",
        "train_generator = MergeDI(train_generator_12, train_generator_13, train_generator_14)\n",
        "validation_generator = MergeDI(validation_generator_12, validation_generator_13, validation_generator_14)\n",
        "\n",
        "print(len(train_generator_12))\n",
        "print(len(train_generator_13))\n",
        "print(len(train_generator_14))\n",
        "print(len(train_generator))\n",
        "print(len(validation_generator_12))\n",
        "print(len(validation_generator_13))\n",
        "print(len(validation_generator_14))\n",
        "print(len(validation_generator))"
      ],
      "execution_count": null,
      "outputs": [
        {
          "output_type": "stream",
          "text": [
            "Found 2366 images belonging to 10 classes.\n",
            "Found 2342 images belonging to 10 classes.\n",
            "Found 2139 images belonging to 10 classes.\n",
            "Found 257 images belonging to 10 classes.\n",
            "Found 257 images belonging to 10 classes.\n",
            "Found 232 images belonging to 10 classes.\n",
            "74\n",
            "74\n",
            "67\n",
            "215\n",
            "9\n",
            "9\n",
            "8\n",
            "26\n"
          ],
          "name": "stdout"
        }
      ]
    },
    {
      "cell_type": "markdown",
      "metadata": {
        "id": "qDM_QShMn-1n"
      },
      "source": [
        "### Training"
      ]
    },
    {
      "cell_type": "markdown",
      "metadata": {
        "id": "qd3S57xqvrjJ"
      },
      "source": [
        "* steps_per_epoch = train data 개수 (6847) / batch size (32) = 약 215\n",
        "* validation_steps = validation data 개수 (746) / batch size (32) = 약 24"
      ]
    },
    {
      "cell_type": "code",
      "metadata": {
        "colab": {
          "base_uri": "https://localhost:8080/"
        },
        "id": "YYeehooMgDZe",
        "outputId": "3d2a671b-2273-4382-87c2-b2fa7c4c789b"
      },
      "source": [
        "model_aug.compile(optimizer='adam',\n",
        "              loss='categorical_crossentropy', metrics=['accuracy'])\n",
        "\n",
        "history_aug = model_aug.fit_generator(train_generator.generate(),\n",
        "                                      steps_per_epoch=215, epochs=20, \n",
        "                                      validation_data=validation_generator.generate(), validation_steps=24)"
      ],
      "execution_count": null,
      "outputs": [
        {
          "output_type": "stream",
          "text": [
            "/usr/local/lib/python3.7/dist-packages/keras/engine/training.py:1915: UserWarning: `Model.fit_generator` is deprecated and will be removed in a future version. Please use `Model.fit`, which supports generators.\n",
            "  warnings.warn('`Model.fit_generator` is deprecated and '\n"
          ],
          "name": "stderr"
        },
        {
          "output_type": "stream",
          "text": [
            "Epoch 1/20\n",
            "215/215 [==============================] - 256s 1s/step - loss: 2.0503 - accuracy: 0.2489 - val_loss: 1.3289 - val_accuracy: 0.5108\n",
            "Epoch 2/20\n",
            "215/215 [==============================] - 254s 1s/step - loss: 1.0992 - accuracy: 0.6005 - val_loss: 0.8903 - val_accuracy: 0.6985\n",
            "Epoch 3/20\n",
            "215/215 [==============================] - 252s 1s/step - loss: 0.7056 - accuracy: 0.7490 - val_loss: 0.7292 - val_accuracy: 0.7815\n",
            "Epoch 4/20\n",
            "215/215 [==============================] - 252s 1s/step - loss: 0.4699 - accuracy: 0.8436 - val_loss: 0.5102 - val_accuracy: 0.8284\n",
            "Epoch 5/20\n",
            "215/215 [==============================] - 252s 1s/step - loss: 0.3501 - accuracy: 0.8788 - val_loss: 0.4474 - val_accuracy: 0.8710\n",
            "Epoch 6/20\n",
            "215/215 [==============================] - 252s 1s/step - loss: 0.2697 - accuracy: 0.9104 - val_loss: 0.4506 - val_accuracy: 0.8622\n",
            "Epoch 7/20\n",
            "215/215 [==============================] - 251s 1s/step - loss: 0.2409 - accuracy: 0.9283 - val_loss: 0.3116 - val_accuracy: 0.8959\n",
            "Epoch 8/20\n",
            "215/215 [==============================] - 250s 1s/step - loss: 0.2009 - accuracy: 0.9325 - val_loss: 0.2984 - val_accuracy: 0.9032\n",
            "Epoch 9/20\n",
            "215/215 [==============================] - 252s 1s/step - loss: 0.1734 - accuracy: 0.9481 - val_loss: 0.2412 - val_accuracy: 0.9267\n",
            "Epoch 10/20\n",
            "215/215 [==============================] - 252s 1s/step - loss: 0.1375 - accuracy: 0.9587 - val_loss: 0.2298 - val_accuracy: 0.9223\n",
            "Epoch 11/20\n",
            "215/215 [==============================] - 252s 1s/step - loss: 0.1300 - accuracy: 0.9589 - val_loss: 0.2164 - val_accuracy: 0.9370\n",
            "Epoch 12/20\n",
            "215/215 [==============================] - 254s 1s/step - loss: 0.1239 - accuracy: 0.9574 - val_loss: 0.3215 - val_accuracy: 0.9238\n",
            "Epoch 13/20\n",
            "215/215 [==============================] - 256s 1s/step - loss: 0.1060 - accuracy: 0.9685 - val_loss: 0.2345 - val_accuracy: 0.9355\n",
            "Epoch 14/20\n",
            "215/215 [==============================] - 252s 1s/step - loss: 0.0959 - accuracy: 0.9721 - val_loss: 0.1536 - val_accuracy: 0.9551\n",
            "Epoch 15/20\n",
            "215/215 [==============================] - 254s 1s/step - loss: 0.0927 - accuracy: 0.9728 - val_loss: 0.2431 - val_accuracy: 0.9301\n",
            "Epoch 16/20\n",
            "215/215 [==============================] - 252s 1s/step - loss: 0.0955 - accuracy: 0.9694 - val_loss: 0.1453 - val_accuracy: 0.9560\n",
            "Epoch 17/20\n",
            "215/215 [==============================] - 252s 1s/step - loss: 0.0839 - accuracy: 0.9774 - val_loss: 0.1977 - val_accuracy: 0.9531\n",
            "Epoch 18/20\n",
            "215/215 [==============================] - 252s 1s/step - loss: 0.0770 - accuracy: 0.9752 - val_loss: 0.1817 - val_accuracy: 0.9545\n",
            "Epoch 19/20\n",
            "215/215 [==============================] - 251s 1s/step - loss: 0.0825 - accuracy: 0.9760 - val_loss: 0.1688 - val_accuracy: 0.9545\n",
            "Epoch 20/20\n",
            "215/215 [==============================] - 252s 1s/step - loss: 0.0779 - accuracy: 0.9761 - val_loss: 0.1872 - val_accuracy: 0.9589\n"
          ],
          "name": "stdout"
        }
      ]
    },
    {
      "cell_type": "markdown",
      "metadata": {
        "id": "gkCN1BMIoIdu"
      },
      "source": [
        "* result"
      ]
    },
    {
      "cell_type": "code",
      "metadata": {
        "colab": {
          "base_uri": "https://localhost:8080/",
          "height": 573
        },
        "id": "d5DdgS48oIdu",
        "outputId": "07738da5-eb6d-4393-ce07-a6be80486e7f"
      },
      "source": [
        "# plotting\n",
        "loss = history_aug.history['loss']\n",
        "val_loss = history_aug.history['val_loss']\n",
        "acc = history_aug.history['accuracy']\n",
        "val_acc = history_aug.history['val_accuracy']\n",
        "\n",
        "epochs = range(1, len(loss) + 1)\n",
        "\n",
        "plt.plot(epochs, loss, 'bo', label='Training loss')\n",
        "plt.plot(epochs, val_loss, 'b', label='Validation loss')\n",
        "plt.title('Training and validation loss')\n",
        "plt.xlabel('Epochs')\n",
        "plt.ylabel('Loss')\n",
        "plt.legend()\n",
        "\n",
        "plt.figure()\n",
        "\n",
        "plt.plot(epochs, acc, 'bo', label='Training acc')\n",
        "plt.plot(epochs, val_acc, 'b', label='Validation acc')\n",
        "plt.title('Training and validation accuracy')\n",
        "plt.xlabel('Epochs')\n",
        "plt.ylabel('Accuracy')\n",
        "plt.legend()\n",
        "plt.show()"
      ],
      "execution_count": null,
      "outputs": [
        {
          "output_type": "display_data",
          "data": {
            "image/png": "[encoded data removed]",
            "text/plain": [
              "<Figure size 432x288 with 1 Axes>"
            ]
          },
          "metadata": {
            "tags": [],
            "needs_background": "light"
          }
        },
        {
          "output_type": "display_data",
          "data": {
            "image/png": "[encoded data removed]",
            "text/plain": [
              "<Figure size 432x288 with 1 Axes>"
            ]
          },
          "metadata": {
            "tags": [],
            "needs_background": "light"
          }
        }
      ]
    },
    {
      "cell_type": "markdown",
      "metadata": {
        "id": "Zvx-9Gy5oTgY"
      },
      "source": [
        "* 오히려 augmentation을 하였을 때, 성능이 떨어짐"
      ]
    },
    {
      "cell_type": "markdown",
      "metadata": {
        "id": "DC0QHUtvoIdv"
      },
      "source": [
        "* model save"
      ]
    },
    {
      "cell_type": "code",
      "metadata": {
        "id": "6V-92UUzgDZe"
      },
      "source": [
        "# model save\n",
        "model_aug.save('/content/drive/MyDrive/made_augmentation/model_made_augmentation.h5')"
      ],
      "execution_count": null,
      "outputs": []
    },
    {
      "cell_type": "markdown",
      "metadata": {
        "id": "KDcdhJd9m5Z_"
      },
      "source": [
        "**Analysis**\n",
        "\n",
        "(plotting Model accuracy by SeaBorn in log scale)\n",
        "\n",
        "(Plotting 결과 2번 데이터가 가장 좋은 정확도 -> 1번은 데이터 셋을 보면 웹캠에서 찍히는 구도와 많이 다르게 찍히는 경우가 많고, 동일 Position에 대한 데이터 셋만 존재함)\n",
        "\n",
        "(3번은 왜 더 안좋을까?)"
      ]
    },
    {
      "cell_type": "markdown",
      "metadata": {
        "id": "Dfd0mfzcjVDY"
      },
      "source": [
        "# **8. Evaluate BaseLine Model and Model Tunning**"
      ]
    },
    {
      "cell_type": "code",
      "metadata": {
        "id": "ag9D3-99nnIe"
      },
      "source": [
        ""
      ],
      "execution_count": null,
      "outputs": []
    }
  ]
}