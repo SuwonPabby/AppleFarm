{
  "nbformat": 4,
  "nbformat_minor": 0,
  "metadata": {
    "colab": {
      "name": "Hand Gesture Recognition with Deep Learning",
      "provenance": [],
      "collapsed_sections": [
        "3blCZeBq7lDF",
        "sWeBHdeW8bnE",
        "yb71YqF-_TTl",
        "XlkQgGLFK5k4",
        "n5tuU2PlYyLC",
        "_0WFC6TQZH2h",
        "A9U4iB8k9BbY",
        "w1lmIRohe5te",
        "Ng8YzWij0XLb",
        "Fb-tUSivXS1F",
        "2rHob2IC48nu",
        "a5Y29_fxu9ij",
        "zhpVmynI5qKS",
        "vkPMFkngfMhh",
        "MKpdgLFvsFNB",
        "S7jQtPPDsFNE",
        "kWVGoeUkSgFD"
      ],
      "include_colab_link": true
    },
    "kernelspec": {
      "name": "python3",
      "display_name": "Python 3"
    },
    "language_info": {
      "name": "python"
    },
    "accelerator": "GPU"
  },
  "cells": [
    {
      "cell_type": "markdown",
      "metadata": {
        "id": "view-in-github",
        "colab_type": "text"
      },
      "source": [
        "<a href=\"https://colab.research.google.com/github/lee-euijin/AppleFarm/blob/main/Master/Hand_Gesture_Recognition_with_Deep_Learning.ipynb\" target=\"_parent\"><img src=\"https://colab.research.google.com/assets/colab-badge.svg\" alt=\"Open In Colab\"/></a>"
      ]
    },
    {
      "cell_type": "markdown",
      "metadata": {
        "id": "DYFTtVlPupiS"
      },
      "source": [
        "# **Hand Gesture Recognition with Deep Learning**\n",
        "\n",
        "##Team : 꿈꾸는AI\n",
        "\n",
        "\n"
      ]
    },
    {
      "cell_type": "markdown",
      "metadata": {
        "id": "DyekODxtxJX8"
      },
      "source": [
        "## **1. Vision of Gesture Recognition**\n",
        "\n",
        "\n",
        "\n",
        "\n",
        "\n",
        "\n"
      ]
    },
    {
      "cell_type": "markdown",
      "metadata": {
        "id": "qyy95NTW5-45"
      },
      "source": [
        "*   Connectivity : 디바이스와 인간의 자연스러운 상호작용\n",
        "*   Natural, Intuitive Sensing Process : 유기적 연결의 가장 기본이 된다.\n",
        "*   Gesture is the most intutive sensing process\n",
        "\n",
        "    * Mobile Environment : Ios Gesture Action, Android Good Lock\n",
        "    * VR AR Environment : Class VR - VR AR Based Education, Facebook / Nvidia - MetaVerse, VR / AR Gaming\n",
        "    * Communicate with your stuff, even.. your home : BMW Gesture Control, Clay VR - Smart Home\n"
      ]
    },
    {
      "cell_type": "markdown",
      "metadata": {
        "id": "lH4FDLI4YiK-"
      },
      "source": [
        "><img src = \"https://drive.google.com/uc?id=1-18KEIw3w9iXCaDyr5xbuxqUZ6_vpxQU\" width = \"300\">\n",
        "><img src = \"https://drive.google.com/uc?id=1-XBDJiQkEqVWUkXtDUzgkq_CCNSvQ2fd\" width = \"300\">\n",
        "><img src = \"https://drive.google.com/uc?id=1-RxTXUgBTWX83akt5iKfFuLA45qM3FMW\" width = \"300\">\n",
        "><img src = \"https://drive.google.com/uc?id=1-WhW3zBLoe4VHXAVJQ480xR6GVaHRCd7\" width = \"300\">\n",
        "><img src = \"https://drive.google.com/uc?id=1-OHS_hYQ6B0N723A0XLBd0jWS0_wcoQR\" width = \"300\">\n",
        "><img src = \"https://drive.google.com/uc?id=1-X0KZTy8fAXG_HDK8zlqkLVHvErlfR-c\" width = \"300\">\n"
      ]
    },
    {
      "cell_type": "markdown",
      "metadata": {
        "id": "9ipgu2XSZTmY"
      },
      "source": [
        "## **2. What We made?**\n",
        "\n",
        "\n"
      ]
    },
    {
      "cell_type": "markdown",
      "metadata": {
        "id": "a5bClAhH54ZG"
      },
      "source": [
        "* Gesture Recognition 의 시작은 대상이 취한 Gesture를 인식하고 분류하는 Module인 **Gesture Classifier**를 만드는 것에서 시작한다.\n",
        "\n",
        "* 우리는 대상의 손동작 Gesture를 Sensing 하여 아래의 총 10개의 동작으로 구분하는 문제를 해결한다.\n",
        "\n",
        "    1. Palm\n",
        "    2. l\n",
        "    3. fist\n",
        "    4. fist_moved\n",
        "    5. thumb\n",
        "    6. index\n",
        "    7. ok\n",
        "    8. palm_moved\n",
        "    9. c\n",
        "    10. down\n",
        "\n",
        "><img src = \"https://drive.google.com/uc?id=1BLLcwa7MkqCvnY7YvaoTn2P5MeDrNnEJ\" width = \"500\">\n",
        "\n"
      ]
    },
    {
      "cell_type": "markdown",
      "metadata": {
        "id": "1zdzg3zA1IBW"
      },
      "source": [
        "## **3. Model Structure**"
      ]
    },
    {
      "cell_type": "markdown",
      "metadata": {
        "id": "jihsecji1Q8m"
      },
      "source": [
        "><img src = \"https://drive.google.com/uc?id=1pNAGpM4ywKCGpk3s8eceXwBAtgcuNWfV\" width = \"500\">\n"
      ]
    },
    {
      "cell_type": "markdown",
      "metadata": {
        "id": "Dxqzeve8VIxs"
      },
      "source": [
        "------------------\n",
        "(1) Data set\n",
        "\n",
        "* Data Set의 종류에는 Kaggle에서 불러온 데이터, 우리가 직접 만든 데이터, 직접 만든 데이터를 Augmentation 처리한 총 **3가지 종류**의 Data Set을 마련\n",
        "\n",
        "* **Converting Module**은 JavaScript를 이용해 **WebCam을 Colab 환경에 불러오고**, 이를 일정 시간 간격으로 **Periodic Sampling을 수행**한다.\n",
        "\n",
        "* 이 모듈을 이용해 Self-Made Data Set을 구성한다. 이 셋은 이미지 형태이다.\n",
        "------------------\n",
        "(2) Input\n",
        "\n",
        "* **실제로 우리가 Gesture를 Classifing 할 데이터** 입력을 의미한다.\n",
        "* 이 역시 위에서 언급된 **Converting Module을 이용해 Image Data로 변환**한다.\n",
        "------------------\n",
        "(3) PreProcessing Model\n",
        "* Image Data를 모델의 **입력으로 넣을 수 있는 형태로 가공**해주는 모듈이다.\n",
        "* Image Data를 **128 * 128 Size의 Gray Scale Skeleton Image**로 변환한다.\n",
        "------------------\n",
        "(4) CNN Model\n",
        "* Preprocessing 을 완료한 Skeleton Data를 CNN Model에 입력한다.\n",
        "* Kaggle Data의 경우 **성능이 낮아 유의미한 튜닝이 불가능**했다.\n",
        "* Self_Made_Model은 나름 **성능이 좋게 나와 모델 튜닝에 사용**했다.\n",
        "* Self_Made_Model에 대하여 **4가지 Trial을 진행**했다.\n",
        "* 최종적으로 나온 **가장 고성능의 모델에 대하여 Augmented Data에 대한 학습을 진행**했다.\n",
        "------------------\n",
        "(5) Classified Result\n",
        "* 1 - 10 중 하나의 결과물을 출력한다.\n",
        "* **Training Data**에 대해서는 이 결과를 이용해 **학습**을 진행한다.\n",
        "* **Validation Data와 Test Data**에 대해서는 결과를 이용해 **Model Evaluation**을 진행한다.\n",
        "* **Input Data**를 넣었을 때 1 - 10 의 **Label에 해당하는 값을 화면에 출력**한다.\n",
        "\n",
        "------------------"
      ]
    },
    {
      "cell_type": "markdown",
      "metadata": {
        "id": "qXSYROpu6oRz"
      },
      "source": [
        "## **4. Design Converting Module which converts WebCam Camera Input data into Image data using periodic sampling method + Box labelling**\n",
        "**(+Preprocess Module Embedded)**"
      ]
    },
    {
      "cell_type": "markdown",
      "metadata": {
        "id": "bxATQXASUA-O"
      },
      "source": [
        "### Colab에 Video Stream 생성"
      ]
    },
    {
      "cell_type": "code",
      "metadata": {
        "id": "3KplJD2bjnkC"
      },
      "source": [
        "import tensorflow as tf\n",
        "import numpy as np\n",
        "import cv2 as cv\n",
        "import matplotlib.pyplot as plt\n",
        "from tensorflow.keras import models\n",
        "from tensorflow import keras"
      ],
      "execution_count": null,
      "outputs": []
    },
    {
      "cell_type": "code",
      "metadata": {
        "colab": {
          "base_uri": "https://localhost:8080/"
        },
        "id": "ByeeyVUPrYal",
        "outputId": "6e70bdfa-ab33-4b2b-ee35-d77ce7aa2296"
      },
      "source": [
        "# opencv-tool 설치\n",
        "! pip install mediapipe opencv-python"
      ],
      "execution_count": null,
      "outputs": [
        {
          "output_type": "stream",
          "name": "stdout",
          "text": [
            "Collecting mediapipe\n",
            "  Downloading mediapipe-0.8.7.2-cp37-cp37m-manylinux_2_17_x86_64.manylinux2014_x86_64.whl (32.4 MB)\n",
            "\u001b[K     |████████████████████████████████| 32.4 MB 64 kB/s \n",
            "\u001b[?25hRequirement already satisfied: opencv-python in /usr/local/lib/python3.7/dist-packages (4.1.2.30)\n",
            "Requirement already satisfied: protobuf>=3.11.4 in /usr/local/lib/python3.7/dist-packages (from mediapipe) (3.17.3)\n",
            "Requirement already satisfied: six in /usr/local/lib/python3.7/dist-packages (from mediapipe) (1.15.0)\n",
            "Requirement already satisfied: attrs>=19.1.0 in /usr/local/lib/python3.7/dist-packages (from mediapipe) (21.2.0)\n",
            "Requirement already satisfied: numpy in /usr/local/lib/python3.7/dist-packages (from mediapipe) (1.19.5)\n",
            "Requirement already satisfied: opencv-contrib-python in /usr/local/lib/python3.7/dist-packages (from mediapipe) (4.1.2.30)\n",
            "Requirement already satisfied: absl-py in /usr/local/lib/python3.7/dist-packages (from mediapipe) (0.12.0)\n",
            "Requirement already satisfied: wheel in /usr/local/lib/python3.7/dist-packages (from mediapipe) (0.37.0)\n",
            "Requirement already satisfied: matplotlib in /usr/local/lib/python3.7/dist-packages (from mediapipe) (3.2.2)\n",
            "Requirement already satisfied: python-dateutil>=2.1 in /usr/local/lib/python3.7/dist-packages (from matplotlib->mediapipe) (2.8.2)\n",
            "Requirement already satisfied: kiwisolver>=1.0.1 in /usr/local/lib/python3.7/dist-packages (from matplotlib->mediapipe) (1.3.1)\n",
            "Requirement already satisfied: cycler>=0.10 in /usr/local/lib/python3.7/dist-packages (from matplotlib->mediapipe) (0.10.0)\n",
            "Requirement already satisfied: pyparsing!=2.0.4,!=2.1.2,!=2.1.6,>=2.0.1 in /usr/local/lib/python3.7/dist-packages (from matplotlib->mediapipe) (2.4.7)\n",
            "Installing collected packages: mediapipe\n",
            "Successfully installed mediapipe-0.8.7.2\n"
          ]
        }
      ]
    },
    {
      "cell_type": "code",
      "metadata": {
        "id": "NEdMH1ZOq2Gx"
      },
      "source": [
        "from IPython.display import display, Javascript, Image\n",
        "from google.colab.output import eval_js\n",
        "from base64 import b64decode, b64encode\n",
        "import cv2\n",
        "import PIL\n",
        "import io\n",
        "import html\n",
        "import time\n",
        "import mediapipe as mp # Face, Body, Hand Pose Detection 라이브러리"
      ],
      "execution_count": null,
      "outputs": []
    },
    {
      "cell_type": "code",
      "metadata": {
        "colab": {
          "base_uri": "https://localhost:8080/"
        },
        "id": "Zrl3ALDBMCYq",
        "outputId": "fbda2412-94cf-45bb-be84-2c1c9d79012e"
      },
      "source": [
        "from google.colab import drive\n",
        "drive.mount('/content/drive')"
      ],
      "execution_count": null,
      "outputs": [
        {
          "output_type": "stream",
          "name": "stdout",
          "text": [
            "Mounted at /content/drive\n"
          ]
        }
      ]
    },
    {
      "cell_type": "code",
      "metadata": {
        "id": "DHJ-YVeiq-LA"
      },
      "source": [
        "mp_drawing = mp.solutions.drawing_utils\n",
        "mp_holistic = mp.solutions.holistic"
      ],
      "execution_count": null,
      "outputs": []
    },
    {
      "cell_type": "code",
      "metadata": {
        "id": "VXH_kLnZpQ7k"
      },
      "source": [
        "# 저장한 모델 불러오기\n",
        "model = tf.keras.models.load_model('/content/drive/MyDrive/model_new/model_made_augmentation.h5')"
      ],
      "execution_count": null,
      "outputs": []
    },
    {
      "cell_type": "code",
      "metadata": {
        "id": "N5ZluwGlTudX"
      },
      "source": [
        "# js image 를  opencv 이미지 바꿔주기\n",
        "def js_to_image(js_reply):\n",
        "  \"\"\"\n",
        "  asassasasasa\n",
        "  Params:\n",
        "          js_reply: JavaScript object containing image from webcam\n",
        "  Returns:\n",
        "          img: OpenCV BGR image\n",
        "  \"\"\"\n",
        "  # decode base64 image\n",
        "  image_bytes = b64decode(js_reply.split(',')[1])\n",
        "  # convert bytes to numpy array\n",
        "  jpg_as_np = np.frombuffer(image_bytes, dtype=np.uint8)  # 바이너리 파일 읽어옴\n",
        "  # decode numpy array into OpenCV BGR image\n",
        "  img = cv2.imdecode(jpg_as_np, flags=1)\n",
        "\n",
        "  return img\n",
        "\n",
        "# OpenCV Rectangle bounding box image 를 base64 byte string to be overlayed on video stream\n",
        "def bbox_to_bytes(bbox_array):\n",
        "  \"\"\"\n",
        "  Params:\n",
        "          bbox_array: Numpy array (pixels) containing rectangle to overlay on video stream.\n",
        "  Returns:\n",
        "        bytes: Base64 image byte string\n",
        "  \"\"\"\n",
        "  # convert array into PIL image\n",
        "  bbox_PIL = PIL.Image.fromarray(bbox_array, 'RGBA')\n",
        "  iobuf = io.BytesIO()\n",
        "  # format bbox into png for return\n",
        "  bbox_PIL.save(iobuf, format='png')\n",
        "  # format return string\n",
        "  bbox_bytes = 'data:image/png;base64,{}'.format((str(b64encode(iobuf.getvalue()), 'utf-8')))\n",
        "\n",
        "  return bbox_bytes"
      ],
      "execution_count": null,
      "outputs": []
    },
    {
      "cell_type": "code",
      "metadata": {
        "id": "Qle9nUGNTyXw"
      },
      "source": [
        "# JavaScript to properly create our live video stream using our webcam as input\n",
        "def video_stream():\n",
        "  js = Javascript('''\n",
        "    var video;\n",
        "    var div = null;\n",
        "    var stream;\n",
        "    var captureCanvas;\n",
        "    var imgElement;\n",
        "    var labelElement;\n",
        "    \n",
        "    var pendingResolve = null;\n",
        "    var shutdown = false;\n",
        "    \n",
        "    function removeDom() {\n",
        "       stream.getVideoTracks()[0].stop();\n",
        "       video.remove();\n",
        "       div.remove();\n",
        "       video = null;\n",
        "       div = null;\n",
        "       stream = null;\n",
        "       imgElement = null;\n",
        "       captureCanvas = null;\n",
        "       labelElement = null;\n",
        "    }\n",
        "    \n",
        "    function onAnimationFrame() {\n",
        "      if (!shutdown) { // 꺼진게 아니면 \n",
        "        window.requestAnimationFrame(onAnimationFrame);  //  함수는 기본적으로는 1초에 60번, 보통은 모니터에 주사율에 맞추어 함수를 실행함.\n",
        "      }\n",
        "      if (pendingResolve) { // 보류중\n",
        "        var result = \"\";\n",
        "        if (!shutdown) {\n",
        "          captureCanvas.getContext('2d').drawImage(video, 0, 0, 640, 480); // 이미지를 그려\n",
        "          result = captureCanvas.toDataURL('image/jpeg', 0.8)  // 캔버스에 그린 그림을 문자열 형태로.  0.8 = encoderOptions\n",
        "\n",
        "        }\n",
        "        var lp = pendingResolve;\n",
        "        pendingResolve = null;\n",
        "        lp(result);\n",
        "      }\n",
        "    }\n",
        "    \n",
        "    async function createDom() {\n",
        "      if (div !== null) {\n",
        "        return stream;\n",
        "      }\n",
        "\n",
        "      div = document.createElement('div');\n",
        "      div.style.border = '2px solid black';\n",
        "      div.style.padding = '3px';\n",
        "      div.style.width = '100%';\n",
        "      div.style.maxWidth = '600px';\n",
        "      document.body.appendChild(div);\n",
        "      \n",
        "      const modelOut = document.createElement('div');\n",
        "      modelOut.innerHTML = \"<span>Status:</span>\";\n",
        "      labelElement = document.createElement('span');\n",
        "      labelElement.innerText = 'No data';\n",
        "      labelElement.style.fontWeight = 'bold';\n",
        "      modelOut.appendChild(labelElement);\n",
        "      div.appendChild(modelOut);\n",
        "           \n",
        "      video = document.createElement('video');\n",
        "      video.style.display = 'block';\n",
        "      video.width = div.clientWidth - 6;\n",
        "      video.setAttribute('playsinline', '');\n",
        "      video.onclick = () => { shutdown = true; };\n",
        "      stream = await navigator.mediaDevices.getUserMedia(\n",
        "          {video: { facingMode: \"environment\"}});  //모바일 장치의 후면 카메라를 요청하기 위한 코드:\n",
        "      div.appendChild(video);\n",
        "\n",
        "      imgElement = document.createElement('img');\n",
        "      imgElement.style.position = 'absolute';\n",
        "      imgElement.style.zIndex = 1;\n",
        "      imgElement.onclick = () => { shutdown = true; };\n",
        "      div.appendChild(imgElement);\n",
        "      \n",
        "      const instruction = document.createElement('div');\n",
        "      instruction.innerHTML = \n",
        "          '<span style=\"color: red; font-weight: bold;\">' +\n",
        "          'When finished, click here or on the video to stop this demo</span>';\n",
        "      div.appendChild(instruction);\n",
        "      instruction.onclick = () => { shutdown = true; };\n",
        "      \n",
        "      video.srcObject = stream;\n",
        "      await video.play();\n",
        "\n",
        "      captureCanvas = document.createElement('canvas');\n",
        "      captureCanvas.width = 640; //video.videoWidth;\n",
        "      captureCanvas.height = 480; //video.videoHeight;\n",
        "      window.requestAnimationFrame(onAnimationFrame);\n",
        "\n",
        "      return stream;\n",
        "    }\n",
        "    async function stream_frame(label, imgData) {\n",
        "      if (shutdown) {\n",
        "        removeDom();\n",
        "        shutdown = false;\n",
        "        return '';\n",
        "      }\n",
        "\n",
        "      var preCreate = Date.now();\n",
        "      stream = await createDom();\n",
        "      \n",
        "      var preShow = Date.now();\n",
        "      if (label != \"\") {\n",
        "        labelElement.innerHTML = label;\n",
        "      }\n",
        "            \n",
        "      if (imgData != \"\") {\n",
        "        var videoRect = video.getClientRects()[0];\n",
        "        imgElement.style.top = videoRect.top + \"px\";\n",
        "        imgElement.style.left = videoRect.left + \"px\";\n",
        "        imgElement.style.width = videoRect.width + \"px\";\n",
        "        imgElement.style.height = videoRect.height + \"px\";\n",
        "        imgElement.src = imgData;\n",
        "      }\n",
        "      \n",
        "      var preCapture = Date.now();\n",
        "      var result = await new Promise(function(resolve, reject) {\n",
        "        pendingResolve = resolve;\n",
        "      });\n",
        "      shutdown = false;\n",
        "      \n",
        "      return {'create': preShow - preCreate, \n",
        "              'show': preCapture - preShow, \n",
        "              'capture': Date.now() - preCapture,\n",
        "              'img': result};\n",
        "    }\n",
        "    ''')\n",
        "\n",
        "  display(js)\n",
        "  \n",
        "def video_frame(label, bbox):\n",
        "  data = eval_js('stream_frame(\"{}\", \"{}\")'.format(label, bbox)) # 자바스크립트 함수 사용하기 \n",
        "  \n",
        "  return data"
      ],
      "execution_count": null,
      "outputs": []
    },
    {
      "cell_type": "markdown",
      "metadata": {
        "id": "6wgZw3N3Q4hU"
      },
      "source": [
        "### Preprocessing and Saving Module"
      ]
    },
    {
      "cell_type": "code",
      "metadata": {
        "id": "FLmKX6WjQ3ev"
      },
      "source": [
        "# start streaming video from webcam\n",
        "video_stream()\n",
        "# label for video\n",
        "label_html = 'Capturing...'\n",
        "# initialze bounding box to empty\n",
        "bbox = ''\n",
        "count =1\n",
        "while True:\n",
        "    js_reply = video_frame(label_html, bbox)\n",
        "    if not js_reply:\n",
        "        break\n",
        "\n",
        "    # convert JS response to OpenCV Image\n",
        "    img = js_to_image(js_reply[\"img\"])    \n",
        "    \n",
        "    with mp_holistic.Holistic(min_detection_confidence=0.5, min_tracking_confidence=0.5) as holistic:\n",
        "\n",
        "      # Recolor Feed\n",
        "      image = cv2.cvtColor(img, cv2.COLOR_BGR2RGB)\n",
        "      # Make Detections\n",
        "      results = holistic.process(image)\n",
        "     \n",
        "      # Recolor image back to BGR for rendering\n",
        "      image = cv2.cvtColor(image, cv2.COLOR_RGB2BGR)\n",
        "      \n",
        "      # landmark만 그릴 image\n",
        "      landmark_img = np.zeros(image.shape, np.uint8)\n",
        "      \n",
        "      # Right hand\n",
        "      mp_drawing.draw_landmarks(landmark_img, results.right_hand_landmarks, mp_holistic.HAND_CONNECTIONS)\n",
        "\n",
        "      #웹캠에서 얻은 data를 train data로 추가 저장\n",
        "      save_path = '/content/drive/My Drive/13/01_palm/'\n",
        "\n",
        "      if np.max(landmark_img) !=0:\n",
        "       cv2.imwrite(save_path + 'frame_13_10_{:04d}.png'.format(count), landmark_img) # 저장할 데이터 form\n",
        "       count += 1"
      ],
      "execution_count": null,
      "outputs": []
    },
    {
      "cell_type": "markdown",
      "metadata": {
        "id": "3blCZeBq7lDF"
      },
      "source": [
        "## **5. Preprocess Data (Image -> Skeleton) By MediaPipe (Preprocess Kaggle Data)**"
      ]
    },
    {
      "cell_type": "markdown",
      "metadata": {
        "id": "mqx3_44cf82g"
      },
      "source": [
        "**Process**\n",
        "\n",
        "1. Data Upload\n",
        "\n",
        "  (1) Mount Google Drive\n",
        "\n",
        "  (2) Copy and Unzip the Kaggle Data in the local directory\n",
        "   \n",
        "    - ( 뒷 단계에서 Self_Made_data 와 Augmented Data도 업로드 및 Preprocess 진행 )\n",
        "\n",
        "  (3) Set Directory Path\n",
        "\n",
        "2. Data Preprocessing and saving\n",
        "   \n",
        "  (1) Kaggle Data를 MediaPipe를 이용, Object Ditection과 이를 바탕으로 Skeleton Data를 얻는다.\n",
        "\n",
        "  (2) 얻은 데이터를 지정해놓은 디렉토리 경로 내에 저장한다.\n",
        "\n",
        "  (3) 제대로 Preprocessing이 되었는지 확인하기 위해 Image Plotting 을 수행한다."
      ]
    },
    {
      "cell_type": "markdown",
      "metadata": {
        "id": "LrXUCdj151QA"
      },
      "source": [
        "### Data upload"
      ]
    },
    {
      "cell_type": "markdown",
      "metadata": {
        "id": "myhLqnncdFg6"
      },
      "source": [
        "* mount drive, copy and unzip the kaggle data in the local directory"
      ]
    },
    {
      "cell_type": "code",
      "metadata": {
        "colab": {
          "base_uri": "https://localhost:8080/"
        },
        "id": "XJakET3Xb0Pl",
        "outputId": "ff044417-c054-40ec-83ee-21535ba12785"
      },
      "source": [
        "# mount Google Drive\n",
        "from google.colab import drive\n",
        "import os\n",
        "drive.mount('/content/gdrive')\n",
        "\n",
        "# unzip\n",
        "import zipfile, shutil\n",
        "\n",
        "dataset = '/content/gdrive/My Drive/학교 수업 자료/딥러닝/Project/static_data.zip'\n",
        "dst_path = '/content/static_data'\n",
        "dst_file = os.path.join(dst_path, 'static_data.zip')\n",
        "\n",
        "if not os.path.exists(dst_path):\n",
        "  os.makedirs(dst_path)\n",
        "\n",
        "shutil.copy(dataset, dst_file)\n",
        "\n",
        "with zipfile.ZipFile(dst_file, 'r') as file:\n",
        "  file.extractall(dst_path)"
      ],
      "execution_count": null,
      "outputs": [
        {
          "output_type": "stream",
          "text": [
            "Mounted at /content/gdrive\n"
          ],
          "name": "stdout"
        }
      ]
    },
    {
      "cell_type": "markdown",
      "metadata": {
        "id": "jrqrFM0JdTfw"
      },
      "source": [
        "* 이미지의 경로를 imagepaths list에 저장"
      ]
    },
    {
      "cell_type": "code",
      "metadata": {
        "colab": {
          "base_uri": "https://localhost:8080/"
        },
        "id": "g_e8q-QCdZ-E",
        "outputId": "d2fdb711-37ed-435b-c952-95bb2e8006bc"
      },
      "source": [
        "import os\n",
        "imagepaths = []\n",
        "\n",
        "for dirname, _, filenames in os.walk('/content/static_data'):\n",
        "  for filename in filenames:\n",
        "    path = os.path.join(dirname, filename)\n",
        "    if path.endswith(\"png\"):\n",
        "      imagepaths.append(path)\n",
        "\n",
        "print(len(imagepaths))\n",
        "print(imagepaths[19999]) # index 20000부터는 path만 다르고, 똑같은 data가 반복됨"
      ],
      "execution_count": null,
      "outputs": [
        {
          "output_type": "stream",
          "text": [
            "40000\n",
            "/content/static_data/leapGestRecog/08/09_c/frame_08_09_0200.png\n"
          ],
          "name": "stdout"
        }
      ]
    },
    {
      "cell_type": "markdown",
      "metadata": {
        "id": "6asV0bS-dgVp"
      },
      "source": [
        "* kaggle의 데이터를 skeleton으로 변형할 구글 드라이브 내의 directory 생성"
      ]
    },
    {
      "cell_type": "code",
      "metadata": {
        "id": "nAJ4PYSS19VW"
      },
      "source": [
        "# google drive에 directory 추가\n",
        "dir_path = '/content/gdrive/My Drive/학교 수업 자료/딥러닝/Project/static_skeleton_data'\n",
        "\n",
        "for path in imagepaths[:19999]:\n",
        "  splitted = path.split(\"/\")\n",
        "\n",
        "  # 없으면 directory 추가\n",
        "  dir = os.path.join(dir_path, splitted[4])\n",
        "\n",
        "  if not os.path.exists(dir):\n",
        "    os.makedirs(dir)\n",
        "\n",
        "  dir = os.path.join(dir_path, splitted[4], splitted[5])\n",
        "\n",
        "  if not os.path.exists(dir):\n",
        "    os.makedirs(dir)"
      ],
      "execution_count": null,
      "outputs": []
    },
    {
      "cell_type": "markdown",
      "metadata": {
        "id": "b4CdBGteCjej"
      },
      "source": [
        "### Data Preprocessing and Saving"
      ]
    },
    {
      "cell_type": "code",
      "metadata": {
        "colab": {
          "base_uri": "https://localhost:8080/"
        },
        "id": "bnfpfd40iWQ_",
        "outputId": "976735ff-8935-4800-ba10-27c0dc240cc9"
      },
      "source": [
        "!pip install mediapipe opencv-python"
      ],
      "execution_count": null,
      "outputs": [
        {
          "output_type": "stream",
          "text": [
            "Collecting mediapipe\n",
            "\u001b[?25l  Downloading https://files.pythonhosted.org/packages/5a/c6/cb43b4d35257270a428a7c8e8c10565bb9719eaa4a3a5f34442d77e02678/mediapipe-0.8.5-cp37-cp37m-manylinux_2_17_x86_64.manylinux2014_x86_64.whl (37.7MB)\n",
            "\u001b[K     |████████████████████████████████| 37.7MB 1.5MB/s \n",
            "\u001b[?25hRequirement already satisfied: opencv-python in /usr/local/lib/python3.7/dist-packages (4.1.2.30)\n",
            "Requirement already satisfied: protobuf>=3.11.4 in /usr/local/lib/python3.7/dist-packages (from mediapipe) (3.12.4)\n",
            "Requirement already satisfied: absl-py in /usr/local/lib/python3.7/dist-packages (from mediapipe) (0.12.0)\n",
            "Requirement already satisfied: six in /usr/local/lib/python3.7/dist-packages (from mediapipe) (1.15.0)\n",
            "Requirement already satisfied: opencv-contrib-python in /usr/local/lib/python3.7/dist-packages (from mediapipe) (4.1.2.30)\n",
            "Requirement already satisfied: wheel in /usr/local/lib/python3.7/dist-packages (from mediapipe) (0.36.2)\n",
            "Requirement already satisfied: attrs>=19.1.0 in /usr/local/lib/python3.7/dist-packages (from mediapipe) (21.2.0)\n",
            "Requirement already satisfied: numpy in /usr/local/lib/python3.7/dist-packages (from mediapipe) (1.19.5)\n",
            "Requirement already satisfied: setuptools in /usr/local/lib/python3.7/dist-packages (from protobuf>=3.11.4->mediapipe) (57.0.0)\n",
            "Installing collected packages: mediapipe\n",
            "Successfully installed mediapipe-0.8.5\n"
          ],
          "name": "stdout"
        }
      ]
    },
    {
      "cell_type": "markdown",
      "metadata": {
        "id": "sRbbetnSd4uR"
      },
      "source": [
        "* kaggle 데이터를 skeleton data로 바꾸어 미리 생성해둔 directory 내에 저장"
      ]
    },
    {
      "cell_type": "code",
      "metadata": {
        "colab": {
          "base_uri": "https://localhost:8080/"
        },
        "id": "0W1twcFjguxn",
        "outputId": "7fc7cf13-a1c3-4179-be1b-430d3bc1d685"
      },
      "source": [
        "# 최초 save 이후에는 이 셀 실행하지 않음!\n",
        "import numpy as np\n",
        "import matplotlib.pyplot as plt\n",
        "import cv2 as cv\n",
        "import pandas as pd\n",
        "import mediapipe as mp\n",
        "from google.colab.patches import cv2_imshow\n",
        "\n",
        "new_path = []\n",
        "\n",
        "# 저장을 위한 path 생성\n",
        "for path in imagepaths[:19999]:\n",
        "  splitted = path.split(\"/\")\n",
        "  temp = '/' + splitted[4] + '/' + splitted[5] + '/' + splitted[6]\n",
        "  new_path.append(temp)\n",
        "\n",
        "# train data preprocessing and save\n",
        "mp_drawing = mp.solutions.drawing_utils\n",
        "mp_hands = mp.solutions.hands\n",
        "\n",
        "new_paths = []\n",
        "\n",
        "with mp_hands.Hands(\n",
        "    static_image_mode=True,\n",
        "    max_num_hands=2,\n",
        "    min_detection_confidence=0.5) as hands:\n",
        "  for idx in range(19999):\n",
        "    # image read\n",
        "    image = cv.imread(imagepaths[idx])\n",
        "    # bgr에서 rgb로 convert\n",
        "    results = hands.process(cv.cvtColor(image, cv.COLOR_BGR2RGB))\n",
        "\n",
        "    # draw hand landmarks\n",
        "    # print('Handedness:', results.multi_handedness)\n",
        "    if not results.multi_hand_landmarks:\n",
        "      continue\n",
        "    image_height, image_width, _ = image.shape\n",
        "    annotated_image = image.copy()\n",
        "\n",
        "    # landmark만 그릴 image\n",
        "    landmark_image = np.zeros(image.shape)\n",
        "    for hand_landmarks in results.multi_hand_landmarks:\n",
        "      '''print('hand_landmarks:', hand_landmarks)\n",
        "      print(\n",
        "          f'Index finger tip coordinates: (',\n",
        "          f'{hand_landmarks.landmark[mp_hands.HandLandmark.INDEX_FINGER_TIP].x * image_width}, '\n",
        "          f'{hand_landmarks.landmark[mp_hands.HandLandmark.INDEX_FINGER_TIP].y * image_height}'\n",
        "      )'''\n",
        "      mp_drawing.draw_landmarks(\n",
        "          landmark_image, hand_landmarks, mp_hands.HAND_CONNECTIONS)\n",
        "\n",
        "    '''# imshow\n",
        "    cv2_imshow(annotated_image)\n",
        "    cv2_imshow(landmark_image)'''\n",
        "    \n",
        "    # save\n",
        "    if len(new_paths) % 1000 == 0 or len(new_paths) == 19999:\n",
        "      print(len(new_paths))\n",
        "    cv.imwrite(dir_path + new_path[idx], landmark_image)\n",
        "    new_paths.append(os.path.join(dir_path, new_path[idx]))\n",
        "\n",
        "# 19999개 중 6765개는 skeleton이 생성되지 않았기 때문에 지워짐\n",
        "print(len(new_paths))"
      ],
      "execution_count": null,
      "outputs": [
        {
          "output_type": "stream",
          "text": [
            "0\n",
            "1000\n",
            "2000\n",
            "3000\n",
            "4000\n",
            "5000\n",
            "6000\n",
            "7000\n",
            "8000\n",
            "9000\n",
            "10000\n",
            "11000\n",
            "12000\n",
            "13000\n",
            "13235\n"
          ],
          "name": "stdout"
        }
      ]
    },
    {
      "cell_type": "markdown",
      "metadata": {
        "id": "FYRbS_30_dCw"
      },
      "source": [
        "* image plot"
      ]
    },
    {
      "cell_type": "code",
      "metadata": {
        "colab": {
          "base_uri": "https://localhost:8080/",
          "height": 924
        },
        "id": "dlOukvYq_ebO",
        "outputId": "35c8e529-873c-47ea-b958-b32001e7f4f3"
      },
      "source": [
        "import cv2\n",
        "\n",
        "print(new_paths[0])\n",
        "def img_plot(img_path):\n",
        "  img = cv2.imread(img_path)\n",
        "  img = cv2.cvtColor(img, cv2.COLOR_BGR2RGB)\n",
        "  ('Shape : ', img.shape)\n",
        "\n",
        "  plt.grid(False)\n",
        "  plt.imshow(img)\n",
        "  plt.xlabel('Width')\n",
        "  plt.ylabel('Height')\n",
        "  plt.title('image : ' + img_path)\n",
        "\n",
        "plt.subplot(211)\n",
        "img_plot(imagepaths[0]) # 전처리 전 kaggle data\n",
        "\n",
        "plt.subplot(212)\n",
        "img_plot(new_paths[0]) # 전처리 후 kaggle data"
      ],
      "execution_count": null,
      "outputs": [
        {
          "output_type": "stream",
          "text": [
            "/content/gdrive/MyDrive/학교 수업 자료/딥러닝/Project/static_skeleton_data/05/07_ok/frame_05_07_0010.png\n"
          ],
          "name": "stdout"
        },
        {
          "output_type": "stream",
          "text": [
            "/usr/local/lib/python3.7/dist-packages/matplotlib/backends/backend_agg.py:214: RuntimeWarning: Glyph 54617 missing from current font.\n",
            "  font.set_text(s, 0.0, flags=flags)\n",
            "/usr/local/lib/python3.7/dist-packages/matplotlib/backends/backend_agg.py:214: RuntimeWarning: Glyph 44368 missing from current font.\n",
            "  font.set_text(s, 0.0, flags=flags)\n",
            "/usr/local/lib/python3.7/dist-packages/matplotlib/backends/backend_agg.py:214: RuntimeWarning: Glyph 49688 missing from current font.\n",
            "  font.set_text(s, 0.0, flags=flags)\n",
            "/usr/local/lib/python3.7/dist-packages/matplotlib/backends/backend_agg.py:214: RuntimeWarning: Glyph 50629 missing from current font.\n",
            "  font.set_text(s, 0.0, flags=flags)\n",
            "/usr/local/lib/python3.7/dist-packages/matplotlib/backends/backend_agg.py:214: RuntimeWarning: Glyph 51088 missing from current font.\n",
            "  font.set_text(s, 0.0, flags=flags)\n",
            "/usr/local/lib/python3.7/dist-packages/matplotlib/backends/backend_agg.py:214: RuntimeWarning: Glyph 47308 missing from current font.\n",
            "  font.set_text(s, 0.0, flags=flags)\n",
            "/usr/local/lib/python3.7/dist-packages/matplotlib/backends/backend_agg.py:214: RuntimeWarning: Glyph 46373 missing from current font.\n",
            "  font.set_text(s, 0.0, flags=flags)\n",
            "/usr/local/lib/python3.7/dist-packages/matplotlib/backends/backend_agg.py:214: RuntimeWarning: Glyph 47084 missing from current font.\n",
            "  font.set_text(s, 0.0, flags=flags)\n",
            "/usr/local/lib/python3.7/dist-packages/matplotlib/backends/backend_agg.py:214: RuntimeWarning: Glyph 45789 missing from current font.\n",
            "  font.set_text(s, 0.0, flags=flags)\n",
            "/usr/local/lib/python3.7/dist-packages/matplotlib/backends/backend_agg.py:183: RuntimeWarning: Glyph 54617 missing from current font.\n",
            "  font.set_text(s, 0, flags=flags)\n",
            "/usr/local/lib/python3.7/dist-packages/matplotlib/backends/backend_agg.py:183: RuntimeWarning: Glyph 44368 missing from current font.\n",
            "  font.set_text(s, 0, flags=flags)\n",
            "/usr/local/lib/python3.7/dist-packages/matplotlib/backends/backend_agg.py:183: RuntimeWarning: Glyph 49688 missing from current font.\n",
            "  font.set_text(s, 0, flags=flags)\n",
            "/usr/local/lib/python3.7/dist-packages/matplotlib/backends/backend_agg.py:183: RuntimeWarning: Glyph 50629 missing from current font.\n",
            "  font.set_text(s, 0, flags=flags)\n",
            "/usr/local/lib/python3.7/dist-packages/matplotlib/backends/backend_agg.py:183: RuntimeWarning: Glyph 51088 missing from current font.\n",
            "  font.set_text(s, 0, flags=flags)\n",
            "/usr/local/lib/python3.7/dist-packages/matplotlib/backends/backend_agg.py:183: RuntimeWarning: Glyph 47308 missing from current font.\n",
            "  font.set_text(s, 0, flags=flags)\n",
            "/usr/local/lib/python3.7/dist-packages/matplotlib/backends/backend_agg.py:183: RuntimeWarning: Glyph 46373 missing from current font.\n",
            "  font.set_text(s, 0, flags=flags)\n",
            "/usr/local/lib/python3.7/dist-packages/matplotlib/backends/backend_agg.py:183: RuntimeWarning: Glyph 47084 missing from current font.\n",
            "  font.set_text(s, 0, flags=flags)\n",
            "/usr/local/lib/python3.7/dist-packages/matplotlib/backends/backend_agg.py:183: RuntimeWarning: Glyph 45789 missing from current font.\n",
            "  font.set_text(s, 0, flags=flags)\n"
          ],
          "name": "stderr"
        },
        {
          "output_type": "display_data",
          "data": {
            "image/png": "[encoded data removed]",
            "text/plain": [
              "<Figure size 432x288 with 2 Axes>"
            ]
          },
          "metadata": {
            "tags": [],
            "needs_background": "light"
          }
        }
      ]
    },
    {
      "cell_type": "markdown",
      "metadata": {
        "id": "sWeBHdeW8bnE"
      },
      "source": [
        "## **6. Design CNN Model which classifies what the gesture is, Evaluate and Tune Model** \n",
        "**(+Preprocess Self_made_data and Augmented Data)**"
      ]
    },
    {
      "cell_type": "markdown",
      "metadata": {
        "id": "19Gx71bAl-aj"
      },
      "source": [
        "**Process**\n",
        "1. Training and Evaluating it\n",
        "2. Testing \n",
        "  * **Training / Validation**은 **같은 데이터 셋 (12, 13, 14 : 사람)** 내에서 Split \n",
        "  * **Test Data**는 Self_Made지만 **다른 환경(10)에서 Labeling한** Data를 이용 \n",
        "  * 따라서 **Validataion Accuracy와 Test Accuracy의 차이가 크다.**\n",
        "  * 우리는 **다양한 환경에서 Gesture를 인식하는 것**이므로 위와 같은 특수한 방법으로 Test를 진행했다.\n",
        "  * Training / Validation 역시 **다양한 환경에서 labeling 하는 것이 더 좋으나, 시간적 제약이 있어** 위와 같은 해결방식으로 대체하였다.\n",
        " \n",
        "3. Self_Made Dataset과 Augmented Data에 대해 Preprocessing 과 1, 2 적용\n",
        "\n",
        "\n",
        "\n",
        " (Self_Made Dataset은 Converting Module을 통해 각 팀원이 생성한 \bData를 Load하여 진행 )\n",
        "\n",
        "---------------------\n",
        "**Evaluating and Tuning Process**\n",
        "\n",
        "1. Kaggle Data Set의 경우 앞에서 살펴봤던 바와 같이, **웹캠 구도가 아닌 \b구도로 찍힌 데이터들이 많아 모델의 성능이 좋지 않았다** \n",
        "\n",
        " (실제로 성능이 좋지 않아, Self_made Data에서 Tunning 한 최종결과를 다시 적용하였는데도 결과는 아래와 같이 나왔다.)\n",
        "\n",
        "   (Test Accuracy : **23.17%**)\n",
        "\n",
        "2. 그래서 우리는 직접 제작한 **Self_Made 데이터를 이용**해서 다시 모델을 구성하였다.\n",
        "\n",
        "3. 1st Trial Model을 적용하였다.\n",
        "<img src = \"https://drive.google.com/uc?id=1UtoVfZqgqforwWUMJmzvS0m8mDcTDuTe\" width = \"500\">\n",
        "\n",
        "\n",
        "   * (Test Accuracy : **41.5850%**)\n",
        "\n",
        "4. Model이 **너무 Shallow하여** 성능이 낮게 나온 것으로 보여 Model을 좀 더 **Deep하게 구성**하였다.\n",
        "\n",
        "5. 2nd Trial Model을 적용하였다.\n",
        "<img src = \"https://drive.google.com/uc?id=14a5ePgi1qbWgw2Gdt5Iq7mQiKhx8mVmS\" width = \"500\">\n",
        "\n",
        "\n",
        "   * (Test Accuracy : **74.7763%**)\n",
        "\n",
        "6. Validation Accuracy가 더 이상 증가하지 않고 진동하며 실제 Test Accuracy와 차이가 커, **OverFitting이 발생**하였다고 판단, **Regulation을 위해 DropOut**을 넣어줬다.\n",
        "\n",
        "7. 3rd Trial Model을 적용하였다,\n",
        "<img src = \"https://drive.google.com/uc?id=1fD_3ft3UXbtSuhOnxS9ufJA9U139gOnE\" width = \"500\">\n",
        "\n",
        "\n",
        "   * (Test Accuracy : **80.5709%**)\n",
        "\n",
        "8. 성능을 더 향상 시키기 위해 **Early Stop CallBack을 적용**하여 Accuracy가 증가하지 않을 경우 Training을 종료하여 **Overfitting을 방지**하였다.\n",
        "\n",
        "9. 4rd Trial (Final Tunning)\n",
        "<img src = \"https://drive.google.com/uc?id=1y60PVm79lHPM7eH-B5f5MEc01oQym-Vw\" width = \"500\">\n",
        "\n",
        "\n",
        "   * (Test Accuracy : **80.9118%**)\n",
        "\n",
        "10. **DataSet에 Augmentation을 적용**하여 성능을 비약적으로 향상시켰다.\n",
        "\n",
        "  (Test Accuracy: **88.7942%**)"
      ]
    },
    {
      "cell_type": "markdown",
      "metadata": {
        "id": "mbBJsad_71ha"
      },
      "source": [
        "### **Kaggle Data**"
      ]
    },
    {
      "cell_type": "markdown",
      "metadata": {
        "id": "yb71YqF-_TTl"
      },
      "source": [
        "### Kaggle Data Training"
      ]
    },
    {
      "cell_type": "code",
      "metadata": {
        "id": "jpFm4Hx_UyzY"
      },
      "source": [
        "import tensorflow as tf\n",
        "import numpy as np\n",
        "import cv2 as cv\n",
        "import matplotlib.pyplot as plt\n",
        "from tensorflow import keras\n",
        "from sklearn.model_selection import train_test_split\n",
        "from keras.models import Sequential\n",
        "from keras.layers.convolutional import Conv2D, MaxPooling2D\n",
        "from keras.layers import Dense, Flatten, Dropout"
      ],
      "execution_count": null,
      "outputs": []
    },
    {
      "cell_type": "code",
      "metadata": {
        "colab": {
          "base_uri": "https://localhost:8080/"
        },
        "id": "OyG8P9vx_WdG",
        "outputId": "aaa33345-ed5c-4606-b0c0-f017521021e6"
      },
      "source": [
        "# Creating training set and labels\n",
        "X = []\n",
        "y = []\n",
        "\n",
        "print(new_paths[0])\n",
        "for path in new_paths[:]:\n",
        "  img = cv2.imread(path)\n",
        "  img = cv2.cvtColor(img, cv2.COLOR_BGR2GRAY)\n",
        "  img = cv2.resize(img, (128,128))\n",
        "  X.append(img)\n",
        "\n",
        "  # image 경로에서 label 추출\n",
        "  category = path.split('/')[9] # 9번째가 label! (07_ok)\n",
        "  label = int(category.split('_')[0][1])\n",
        "  y.append(label)\n",
        "\n",
        "# X, y를 numpy array로 바꿈\n",
        "X = np.array(X)\n",
        "X = X.reshape(len(new_paths[:]), 128, 128, 1)\n",
        "y = np.array(y)\n",
        "\n",
        "print(\"Images loaded: \", len(X))\n",
        "print(\"Labels loaded: \", len(y))\n",
        "\n",
        "print(y[0], new_paths[0])"
      ],
      "execution_count": null,
      "outputs": [
        {
          "output_type": "stream",
          "text": [
            "/content/gdrive/MyDrive/학교 수업 자료/딥러닝/Project/static_skeleton_data/05/07_ok/frame_05_07_0010.png\n",
            "Images loaded:  13235\n",
            "Labels loaded:  13235\n",
            "7 /content/gdrive/MyDrive/학교 수업 자료/딥러닝/Project/static_skeleton_data/05/07_ok/frame_05_07_0010.png\n"
          ],
          "name": "stdout"
        }
      ]
    },
    {
      "cell_type": "code",
      "metadata": {
        "colab": {
          "base_uri": "https://localhost:8080/"
        },
        "id": "FirA36YhJW_8",
        "outputId": "9c446b24-3062-480f-ca2c-b7678a4849aa"
      },
      "source": [
        "# Test train split\n",
        "X_train, X_val, y_train, y_val = train_test_split(X, y, test_size=0.2, random_state=10)\n",
        "\n",
        "# CNN Sequential Model\n",
        "model = Sequential()\n",
        "model.add(Conv2D(32, (5,5), activation='relu', input_shape=(128,128,1)))\n",
        "model.add(MaxPooling2D((2,2)))\n",
        "model.add(Conv2D(64, (3,3), activation='relu'))\n",
        "model.add(MaxPooling2D((2,2)))\n",
        "model.add(Conv2D(128, (3,3), activation='relu'))\n",
        "model.add(MaxPooling2D((2,2)))\n",
        "model.add(Conv2D(128, (3,3), activation='relu'))\n",
        "model.add(MaxPooling2D((2,2)))\n",
        "model.add(Flatten())\n",
        "model.add(Dropout(0.3))\n",
        "model.add(Dense(128, activation='relu'))\n",
        "model.add(Dense(10, activation='softmax'))\n",
        "\n",
        "model.summary()"
      ],
      "execution_count": null,
      "outputs": [
        {
          "output_type": "stream",
          "text": [
            "Model: \"sequential\"\n",
            "_________________________________________________________________\n",
            "Layer (type)                 Output Shape              Param #   \n",
            "=================================================================\n",
            "conv2d (Conv2D)              (None, 124, 124, 32)      832       \n",
            "_________________________________________________________________\n",
            "max_pooling2d (MaxPooling2D) (None, 62, 62, 32)        0         \n",
            "_________________________________________________________________\n",
            "conv2d_1 (Conv2D)            (None, 60, 60, 64)        18496     \n",
            "_________________________________________________________________\n",
            "max_pooling2d_1 (MaxPooling2 (None, 30, 30, 64)        0         \n",
            "_________________________________________________________________\n",
            "conv2d_2 (Conv2D)            (None, 28, 28, 128)       73856     \n",
            "_________________________________________________________________\n",
            "max_pooling2d_2 (MaxPooling2 (None, 14, 14, 128)       0         \n",
            "_________________________________________________________________\n",
            "conv2d_3 (Conv2D)            (None, 12, 12, 128)       147584    \n",
            "_________________________________________________________________\n",
            "max_pooling2d_3 (MaxPooling2 (None, 6, 6, 128)         0         \n",
            "_________________________________________________________________\n",
            "flatten (Flatten)            (None, 4608)              0         \n",
            "_________________________________________________________________\n",
            "dropout (Dropout)            (None, 4608)              0         \n",
            "_________________________________________________________________\n",
            "dense (Dense)                (None, 128)               589952    \n",
            "_________________________________________________________________\n",
            "dense_1 (Dense)              (None, 10)                1290      \n",
            "=================================================================\n",
            "Total params: 832,010\n",
            "Trainable params: 832,010\n",
            "Non-trainable params: 0\n",
            "_________________________________________________________________\n"
          ],
          "name": "stdout"
        }
      ]
    },
    {
      "cell_type": "code",
      "metadata": {
        "colab": {
          "base_uri": "https://localhost:8080/"
        },
        "id": "Ftvl-hb6KPFu",
        "outputId": "4b8eab19-6a20-415d-8c06-730873e2770f"
      },
      "source": [
        "# Compile the model\n",
        "model.compile(optimizer='adam', loss='sparse_categorical_crossentropy', metrics=['accuracy'])\n",
        "\n",
        "# Training\n",
        "model.fit(X_train, y_train, epochs=15, batch_size=64, verbose=2, validation_data=(X_val, y_val))"
      ],
      "execution_count": null,
      "outputs": [
        {
          "output_type": "stream",
          "text": [
            "Epoch 1/15\n",
            "166/166 - 300s - loss: 0.1839 - accuracy: 0.9444 - val_loss: 0.1953 - val_accuracy: 0.9350\n",
            "Epoch 2/15\n",
            "166/166 - 299s - loss: 0.0953 - accuracy: 0.9717 - val_loss: 0.1389 - val_accuracy: 0.9637\n",
            "Epoch 3/15\n",
            "166/166 - 299s - loss: 0.0683 - accuracy: 0.9793 - val_loss: 0.0801 - val_accuracy: 0.9751\n",
            "Epoch 4/15\n",
            "166/166 - 300s - loss: 0.0432 - accuracy: 0.9853 - val_loss: 0.0639 - val_accuracy: 0.9815\n",
            "Epoch 5/15\n",
            "166/166 - 299s - loss: 0.0347 - accuracy: 0.9886 - val_loss: 0.1292 - val_accuracy: 0.9675\n",
            "Epoch 6/15\n",
            "166/166 - 299s - loss: 0.0375 - accuracy: 0.9879 - val_loss: 0.0777 - val_accuracy: 0.9792\n",
            "Epoch 7/15\n",
            "166/166 - 299s - loss: 0.0223 - accuracy: 0.9929 - val_loss: 0.0907 - val_accuracy: 0.9792\n",
            "Epoch 8/15\n",
            "166/166 - 299s - loss: 0.0367 - accuracy: 0.9887 - val_loss: 0.0905 - val_accuracy: 0.9754\n",
            "Epoch 9/15\n",
            "166/166 - 298s - loss: 0.0213 - accuracy: 0.9930 - val_loss: 0.0857 - val_accuracy: 0.9781\n",
            "Epoch 10/15\n",
            "166/166 - 298s - loss: 0.0163 - accuracy: 0.9947 - val_loss: 0.1221 - val_accuracy: 0.9788\n",
            "Epoch 11/15\n",
            "166/166 - 298s - loss: 0.0256 - accuracy: 0.9918 - val_loss: 0.1034 - val_accuracy: 0.9777\n",
            "Epoch 12/15\n",
            "166/166 - 299s - loss: 0.0272 - accuracy: 0.9905 - val_loss: 0.1213 - val_accuracy: 0.9785\n",
            "Epoch 13/15\n",
            "166/166 - 298s - loss: 0.0321 - accuracy: 0.9902 - val_loss: 0.0873 - val_accuracy: 0.9830\n",
            "Epoch 14/15\n",
            "166/166 - 298s - loss: 0.0151 - accuracy: 0.9945 - val_loss: 0.1088 - val_accuracy: 0.9822\n",
            "Epoch 15/15\n",
            "166/166 - 298s - loss: 0.0192 - accuracy: 0.9937 - val_loss: 0.0779 - val_accuracy: 0.9830\n"
          ],
          "name": "stdout"
        },
        {
          "output_type": "execute_result",
          "data": {
            "text/plain": [
              "<keras.callbacks.History at 0x7f7be7a621d0>"
            ]
          },
          "metadata": {
            "tags": []
          },
          "execution_count": 72
        }
      ]
    },
    {
      "cell_type": "markdown",
      "metadata": {
        "id": "PmIuN1Bcew5-"
      },
      "source": [
        "* result"
      ]
    },
    {
      "cell_type": "code",
      "metadata": {
        "colab": {
          "base_uri": "https://localhost:8080/",
          "height": 573
        },
        "id": "RvPc83XJew6K",
        "outputId": "092fbb17-c69f-4d0a-d044-1cf029f86636"
      },
      "source": [
        "# plotting\n",
        "loss = model.history.history['loss']\n",
        "val_loss = model.history.history['val_loss']\n",
        "acc = model.history.history['accuracy']\n",
        "val_acc = model.history.history['val_accuracy']\n",
        "\n",
        "epochs = range(1, len(loss) + 1)\n",
        "\n",
        "plt.plot(epochs, loss, 'bo', label='Training loss')\n",
        "plt.plot(epochs, val_loss, 'b', label='Validation loss')\n",
        "plt.title('Training and validation loss')\n",
        "plt.xlabel('Epochs')\n",
        "plt.ylabel('Loss')\n",
        "plt.legend()\n",
        "\n",
        "plt.figure()\n",
        "\n",
        "plt.plot(epochs, acc, 'bo', label='Training acc')\n",
        "plt.plot(epochs, val_acc, 'b', label='Validation acc')\n",
        "plt.title('Training and validation accuracy')\n",
        "plt.xlabel('Epochs')\n",
        "plt.ylabel('Accuracy')\n",
        "plt.legend()\n",
        "plt.show()"
      ],
      "execution_count": null,
      "outputs": [
        {
          "output_type": "display_data",
          "data": {
            "image/png": "[encoded data removed]",
            "text/plain": [
              "<Figure size 432x288 with 1 Axes>"
            ]
          },
          "metadata": {
            "tags": [],
            "needs_background": "light"
          }
        },
        {
          "output_type": "display_data",
          "data": {
            "image/png": "[encoded data removed]",
            "text/plain": [
              "<Figure size 432x288 with 1 Axes>"
            ]
          },
          "metadata": {
            "tags": [],
            "needs_background": "light"
          }
        }
      ]
    },
    {
      "cell_type": "code",
      "metadata": {
        "id": "-nY__ARZKvOB"
      },
      "source": [
        "# save\n",
        "model.save('/content/gdrive/MyDrive/trained_kaggle/trained_kaggledata.h5')"
      ],
      "execution_count": null,
      "outputs": []
    },
    {
      "cell_type": "markdown",
      "metadata": {
        "id": "XlkQgGLFK5k4"
      },
      "source": [
        "### Kaggle Data Testing"
      ]
    },
    {
      "cell_type": "markdown",
      "metadata": {
        "id": "Ml_vi6BiLHkA"
      },
      "source": [
        "* 직접 만든 데이터로 test 진행"
      ]
    },
    {
      "cell_type": "code",
      "metadata": {
        "colab": {
          "base_uri": "https://localhost:8080/"
        },
        "id": "DGahomRsLLuO",
        "outputId": "08d53a65-8ed5-462f-a0fe-3d836e89fb2c"
      },
      "source": [
        "# test data\n",
        "X_test = []\n",
        "y_test = []\n",
        "\n",
        "test_paths = []\n",
        "\n",
        "for dirname, _, filenames in os.walk('/content/gdrive/MyDrive/10'):\n",
        "  for filename in filenames:\n",
        "    path = os.path.join(dirname, filename)\n",
        "    if path.endswith(\"png\"):\n",
        "      test_paths.append(path)\n",
        "\n",
        "print(len(test_paths))\n",
        "print(test_paths[len(test_paths)-1])\n",
        "\n",
        "for path in test_paths[:]:\n",
        "  # image data\n",
        "  img = cv.imread(path)\n",
        "  img = cv.cvtColor(img, cv.COLOR_BGR2GRAY)\n",
        "  img = cv.resize(img, (128,128))\n",
        "  X_test.append(img)\n",
        "  if len(X_test) % 100 == 0 or len(X_test) == len(test_paths):\n",
        "    print('number of X test data : ', len(X_test))\n",
        "\n",
        "  # labels\n",
        "  category = path.split('/')[5]\n",
        "  label = int(category.split('_')[0][1])\n",
        "  y_test.append(label)\n",
        "\n",
        "X_test = np.array(X_test)\n",
        "X_test = X_test.reshape(len(test_paths), 128, 128, 1)\n",
        "y_test = np.array(y_test)\n",
        "\n",
        "print('test 이미지 개수 : ', len(X_test))\n",
        "print('test 라벨 개수 : ', len(y_test))\n",
        "print(y_test[0], test_paths[0])"
      ],
      "execution_count": null,
      "outputs": [
        {
          "output_type": "stream",
          "text": [
            "2347\n",
            "/content/gdrive/MyDrive/10/09_c/frame_00_09_0290.png\n",
            "number of X test data :  100\n",
            "number of X test data :  200\n",
            "number of X test data :  300\n",
            "number of X test data :  400\n",
            "number of X test data :  500\n",
            "number of X test data :  600\n",
            "number of X test data :  700\n",
            "number of X test data :  800\n",
            "number of X test data :  900\n",
            "number of X test data :  1000\n",
            "number of X test data :  1100\n",
            "number of X test data :  1200\n",
            "number of X test data :  1300\n",
            "number of X test data :  1400\n",
            "number of X test data :  1500\n",
            "number of X test data :  1600\n",
            "number of X test data :  1700\n",
            "number of X test data :  1800\n",
            "number of X test data :  1900\n",
            "number of X test data :  2000\n",
            "number of X test data :  2100\n",
            "number of X test data :  2200\n",
            "number of X test data :  2300\n",
            "number of X test data :  2347\n",
            "test 이미지 개수 :  2347\n",
            "test 라벨 개수 :  2347\n",
            "1 /content/gdrive/MyDrive/10/01_palm/frame_00_01_0002.png\n"
          ],
          "name": "stdout"
        }
      ]
    },
    {
      "cell_type": "code",
      "metadata": {
        "colab": {
          "base_uri": "https://localhost:8080/"
        },
        "id": "idSA_uOgWItt",
        "outputId": "ea11eeae-d15c-44ff-f672-424008a0de04"
      },
      "source": [
        "# loss and accuracy on test \n",
        "\n",
        "test_loss, test_acc = model.evaluate(X_test, y_test)\n",
        "\n",
        "print('Test accuracy : {:2.4f}%'.format(test_acc*100))"
      ],
      "execution_count": null,
      "outputs": [
        {
          "output_type": "stream",
          "text": [
            "74/74 [==============================] - 16s 221ms/step - loss: 13.8318 - accuracy: 0.2318\n",
            "Test accuracy : 23.1785%\n"
          ],
          "name": "stdout"
        }
      ]
    },
    {
      "cell_type": "markdown",
      "metadata": {
        "id": "n5tuU2PlYyLC"
      },
      "source": [
        "### **Self_Made Data**\n",
        "\n",
        "\n"
      ]
    },
    {
      "cell_type": "markdown",
      "metadata": {
        "id": "_0WFC6TQZH2h"
      },
      "source": [
        "### Data upload"
      ]
    },
    {
      "cell_type": "code",
      "metadata": {
        "id": "aamHsC8-aCtc"
      },
      "source": [
        "import numpy as np\n",
        "import matplotlib.pyplot as plt\n",
        "import cv2 as cv\n",
        "import pandas as pd\n",
        "import os\n",
        "import tensorflow as tf\n",
        "from tensorflow import keras\n",
        "from sklearn.model_selection import train_test_split\n",
        "from keras.models import Sequential\n",
        "from keras.layers.convolutional import Conv2D, MaxPooling2D\n",
        "from keras.layers import Dense, Flatten, Dropout"
      ],
      "execution_count": null,
      "outputs": []
    },
    {
      "cell_type": "markdown",
      "metadata": {
        "id": "WuuUOiUQZ1Ez"
      },
      "source": [
        "* mount drive"
      ]
    },
    {
      "cell_type": "code",
      "metadata": {
        "colab": {
          "base_uri": "https://localhost:8080/"
        },
        "id": "jWcWN9w6ZrT8",
        "outputId": "0e8824b4-c761-44e5-f53d-a625392a3233"
      },
      "source": [
        "# mount Google Drive\n",
        "from google.colab import drive\n",
        "import os\n",
        "drive.mount('/content/gdrive')"
      ],
      "execution_count": null,
      "outputs": [
        {
          "output_type": "stream",
          "text": [
            "Mounted at /content/gdrive\n"
          ],
          "name": "stdout"
        }
      ]
    },
    {
      "cell_type": "markdown",
      "metadata": {
        "id": "s9jprgj8Z3Dk"
      },
      "source": [
        "* 이미지의 경로를 skeletonpaths list에 저장"
      ]
    },
    {
      "cell_type": "code",
      "metadata": {
        "colab": {
          "base_uri": "https://localhost:8080/"
        },
        "id": "mdQP8dYrZNRg",
        "outputId": "cae00c57-f3bc-414e-ccee-c6a605540fed"
      },
      "source": [
        "dir_path = '/content/gdrive/MyDrive/static_skeleton_data'\n",
        "skeletonpaths = []\n",
        "\n",
        "for dirname, _, filenames in os.walk(dir_path):\n",
        "  for filename in filenames:\n",
        "    path = os.path.join(dirname, filename)\n",
        "    \n",
        "    if path.endswith(\"png\"):\n",
        "      skeletonpaths.append(path)\n",
        "\n",
        "print(len(skeletonpaths))\n",
        "print(skeletonpaths[0])"
      ],
      "execution_count": null,
      "outputs": [
        {
          "output_type": "stream",
          "text": [
            "7838\n",
            "/content/gdrive/MyDrive/static_skeleton_data/12/01_palm/frame_00_12_0001.png\n"
          ],
          "name": "stdout"
        }
      ]
    },
    {
      "cell_type": "markdown",
      "metadata": {
        "id": "A9U4iB8k9BbY"
      },
      "source": [
        "### Training"
      ]
    },
    {
      "cell_type": "markdown",
      "metadata": {
        "id": "kHRPAiX_eqLu"
      },
      "source": [
        "* X, y 변수 생성"
      ]
    },
    {
      "cell_type": "code",
      "metadata": {
        "colab": {
          "base_uri": "https://localhost:8080/"
        },
        "id": "0jExavc8kHnq",
        "outputId": "8beb121d-62c6-4401-9aad-2f484b111f75"
      },
      "source": [
        "# Creating trainig set and labels\n",
        "X_made = []\n",
        "y_made = []\n",
        "\n",
        "for path in skeletonpaths[:len(skeletonpaths)]:\n",
        "  # image data\n",
        "  img = cv.imread(path)\n",
        "  img = cv.cvtColor(img, cv.COLOR_BGR2GRAY)\n",
        "  img = cv.resize(img, (128, 128))\n",
        "  X_made.append(img)\n",
        "  if len(X_made) % 100 == 0 or len(X_made) == len(skeletonpaths):\n",
        "    print(len(X_made))\n",
        "\n",
        "  # labels\n",
        "  category = path.split(\"/\")[6] # path에서 6번째가 label\n",
        "  label = int(category.split(\"_\")[0][1])\n",
        "  y_made.append(label)\n",
        "\n",
        "X_made = np.array(X_made)\n",
        "X_made = X_made.reshape(len(skeletonpaths), 128, 128, 1)\n",
        "y_made = np.array(y_made)\n",
        "\n",
        "print(\"이미지 개수 : \", len(X_made))\n",
        "print(\"라벨 개수 : \", len(y_made))\n",
        "print(y_made[0], skeletonpaths[0])"
      ],
      "execution_count": null,
      "outputs": [
        {
          "output_type": "stream",
          "text": [
            "100\n",
            "200\n",
            "300\n",
            "400\n",
            "500\n",
            "600\n",
            "700\n",
            "800\n",
            "900\n",
            "1000\n",
            "1100\n",
            "1200\n",
            "1300\n",
            "1400\n",
            "1500\n",
            "1600\n",
            "1700\n",
            "1800\n",
            "1900\n",
            "2000\n",
            "2100\n",
            "2200\n",
            "2300\n",
            "2400\n",
            "2500\n",
            "2600\n",
            "2700\n",
            "2800\n",
            "2900\n",
            "3000\n",
            "3100\n",
            "3200\n",
            "3300\n",
            "3400\n",
            "3500\n",
            "3600\n",
            "3700\n",
            "3800\n",
            "3900\n",
            "4000\n",
            "4100\n",
            "4200\n",
            "4300\n",
            "4400\n",
            "4500\n",
            "4600\n",
            "4700\n",
            "4800\n",
            "4900\n",
            "5000\n",
            "5100\n",
            "5200\n",
            "5300\n",
            "5400\n",
            "5500\n",
            "5600\n",
            "5700\n",
            "5800\n",
            "5900\n",
            "6000\n",
            "6100\n",
            "6200\n",
            "6300\n",
            "6400\n",
            "6500\n",
            "6600\n",
            "6700\n",
            "6800\n",
            "6900\n",
            "7000\n",
            "7100\n",
            "7200\n",
            "7300\n",
            "7400\n",
            "7500\n",
            "7600\n",
            "7700\n",
            "7800\n",
            "7838\n",
            "이미지 개수 :  7838\n",
            "라벨 개수 :  7838\n",
            "1 /content/gdrive/MyDrive/static_skeleton_data/12/01_palm/frame_00_12_0001.png\n"
          ],
          "name": "stdout"
        }
      ]
    },
    {
      "cell_type": "markdown",
      "metadata": {
        "id": "m21DS__GevRm"
      },
      "source": [
        "* 생성한 변수 (X, y) 저장"
      ]
    },
    {
      "cell_type": "code",
      "metadata": {
        "colab": {
          "base_uri": "https://localhost:8080/"
        },
        "id": "6761KZsyrON-",
        "outputId": "b4c3575e-678d-4384-889b-bf90e5d407ee"
      },
      "source": [
        "# data 저장\n",
        "np.save('/content/gdrive/MyDrive/made/input_data_made.npy', X_made)\n",
        "np.save('/content/gdrive/MyDrive/made/label_data_made.npy', y_made)\n",
        "\n",
        "# 저장 잘 됐는지 확인\n",
        "X_made_ = np.load('/content/gdrive/MyDrive/made/input_data_made.npy')\n",
        "\n",
        "print(np.array_equal(X_made, X_made_)) # array가 같은지 확인"
      ],
      "execution_count": null,
      "outputs": [
        {
          "output_type": "stream",
          "text": [
            "True\n"
          ],
          "name": "stdout"
        }
      ]
    },
    {
      "cell_type": "code",
      "metadata": {
        "colab": {
          "base_uri": "https://localhost:8080/"
        },
        "id": "3mr7dIWxcAFP",
        "outputId": "aa112a41-60ba-4c60-9813-233dcb65c463"
      },
      "source": [
        "# 저장한 image data 불러오기\n",
        "X_made = []\n",
        "y_made = []\n",
        "X_made = np.load('/content/gdrive/MyDrive/made/input_data_made.npy')\n",
        "y_made = np.load('/content/gdrive/MyDrive/made/label_data_made.npy')\n",
        "\n",
        "print(len(X_made))\n",
        "print(len(y_made))\n",
        "\n",
        "print(X_made.shape)"
      ],
      "execution_count": null,
      "outputs": [
        {
          "output_type": "stream",
          "text": [
            "7838\n",
            "7838\n",
            "(7838, 128, 128, 1)\n"
          ],
          "name": "stdout"
        }
      ]
    },
    {
      "cell_type": "markdown",
      "metadata": {
        "id": "w1lmIRohe5te"
      },
      "source": [
        "### Training (1st try) : test_acc = 41.5850%"
      ]
    },
    {
      "cell_type": "code",
      "metadata": {
        "id": "a66EnNwzBiPK"
      },
      "source": [
        "# test train split\n",
        "X_train_made, X_val_made, y_train_made, y_val_made = train_test_split(X_made, \n",
        "                                                                      y_made, \n",
        "                                                                      test_size = 0.2, \n",
        "                                                                      random_state=10)"
      ],
      "execution_count": null,
      "outputs": []
    },
    {
      "cell_type": "code",
      "metadata": {
        "id": "V7FCq6oq1uJm",
        "colab": {
          "base_uri": "https://localhost:8080/"
        },
        "outputId": "bbb9baaf-bb4d-4232-b769-79d30ea95cf8"
      },
      "source": [
        "# model\n",
        "model_made = Sequential()\n",
        "model_made.add(Conv2D(32, (5,5), activation='relu', input_shape=(128,128,1)))\n",
        "model_made.add(MaxPooling2D((2,2)))\n",
        "model_made.add(Conv2D(64, (3,3), activation='relu'))\n",
        "model_made.add(MaxPooling2D((2,2)))\n",
        "model_made.add(Flatten())\n",
        "model_made.add(Dense(128, activation='relu'))\n",
        "model_made.add(Dense(10, activation='softmax'))\n",
        "\n",
        "model_made.summary()"
      ],
      "execution_count": null,
      "outputs": [
        {
          "output_type": "stream",
          "text": [
            "Model: \"sequential_1\"\n",
            "_________________________________________________________________\n",
            "Layer (type)                 Output Shape              Param #   \n",
            "=================================================================\n",
            "conv2d_4 (Conv2D)            (None, 124, 124, 32)      832       \n",
            "_________________________________________________________________\n",
            "max_pooling2d_4 (MaxPooling2 (None, 62, 62, 32)        0         \n",
            "_________________________________________________________________\n",
            "conv2d_5 (Conv2D)            (None, 60, 60, 64)        18496     \n",
            "_________________________________________________________________\n",
            "max_pooling2d_5 (MaxPooling2 (None, 30, 30, 64)        0         \n",
            "_________________________________________________________________\n",
            "flatten_1 (Flatten)          (None, 57600)             0         \n",
            "_________________________________________________________________\n",
            "dense_2 (Dense)              (None, 128)               7372928   \n",
            "_________________________________________________________________\n",
            "dense_3 (Dense)              (None, 10)                1290      \n",
            "=================================================================\n",
            "Total params: 7,393,546\n",
            "Trainable params: 7,393,546\n",
            "Non-trainable params: 0\n",
            "_________________________________________________________________\n"
          ],
          "name": "stdout"
        }
      ]
    },
    {
      "cell_type": "code",
      "metadata": {
        "id": "7kcDwTjh10nZ",
        "colab": {
          "base_uri": "https://localhost:8080/"
        },
        "outputId": "cac78802-7ae6-48b8-911c-a8ad1c7d35d2"
      },
      "source": [
        "model_made.compile(optimizer='rmsprop',\n",
        "              loss='sparse_categorical_crossentropy', metrics=['accuracy'])\n",
        "\n",
        "history_made = model_made.fit(X_train_made, y_train_made, epochs=10, batch_size=64,\n",
        "                              verbose=2, validation_data=(X_val_made, y_val_made))"
      ],
      "execution_count": null,
      "outputs": [
        {
          "output_type": "stream",
          "text": [
            "Epoch 1/10\n",
            "98/98 - 4s - loss: 2.5224 - accuracy: 0.6100 - val_loss: 0.6523 - val_accuracy: 0.8061\n",
            "Epoch 2/10\n",
            "98/98 - 2s - loss: 0.2249 - accuracy: 0.9330 - val_loss: 0.4984 - val_accuracy: 0.8705\n",
            "Epoch 3/10\n",
            "98/98 - 2s - loss: 0.0381 - accuracy: 0.9893 - val_loss: 0.5972 - val_accuracy: 0.8890\n",
            "Epoch 4/10\n",
            "98/98 - 2s - loss: 0.0210 - accuracy: 0.9946 - val_loss: 0.8514 - val_accuracy: 0.8744\n",
            "Epoch 5/10\n",
            "98/98 - 2s - loss: 0.0117 - accuracy: 0.9971 - val_loss: 0.8238 - val_accuracy: 0.8986\n",
            "Epoch 6/10\n",
            "98/98 - 2s - loss: 0.0060 - accuracy: 0.9981 - val_loss: 0.9204 - val_accuracy: 0.8954\n",
            "Epoch 7/10\n",
            "98/98 - 2s - loss: 0.0037 - accuracy: 0.9990 - val_loss: 0.9916 - val_accuracy: 0.8858\n",
            "Epoch 8/10\n",
            "98/98 - 2s - loss: 0.0092 - accuracy: 0.9981 - val_loss: 0.9833 - val_accuracy: 0.8980\n",
            "Epoch 9/10\n",
            "98/98 - 2s - loss: 0.0064 - accuracy: 0.9994 - val_loss: 0.8968 - val_accuracy: 0.8960\n",
            "Epoch 10/10\n",
            "98/98 - 2s - loss: 3.7869e-04 - accuracy: 0.9997 - val_loss: 0.9616 - val_accuracy: 0.8954\n"
          ],
          "name": "stdout"
        }
      ]
    },
    {
      "cell_type": "code",
      "metadata": {
        "id": "l4y2NKQP15Uy",
        "colab": {
          "base_uri": "https://localhost:8080/",
          "height": 573
        },
        "outputId": "26be5307-b27e-46cf-e178-7c4514720ec5"
      },
      "source": [
        "# plotting\n",
        "loss = history_made.history['loss']\n",
        "val_loss = history_made.history['val_loss']\n",
        "acc = history_made.history['accuracy']\n",
        "val_acc = history_made.history['val_accuracy']\n",
        "\n",
        "epochs = range(1, len(loss) + 1)\n",
        "\n",
        "plt.plot(epochs, loss, 'bo', label='Training loss')\n",
        "plt.plot(epochs, val_loss, 'b', label='Validation loss')\n",
        "plt.title('Training and validation loss')\n",
        "plt.xlabel('Epochs')\n",
        "plt.ylabel('Loss')\n",
        "plt.legend()\n",
        "\n",
        "plt.figure()\n",
        "\n",
        "plt.plot(epochs, acc, 'bo', label='Training acc')\n",
        "plt.plot(epochs, val_acc, 'b', label='Validation acc')\n",
        "plt.title('Training and validation accuracy')\n",
        "plt.xlabel('Epochs')\n",
        "plt.ylabel('Accuracy')\n",
        "plt.legend()\n",
        "plt.show()"
      ],
      "execution_count": null,
      "outputs": [
        {
          "output_type": "display_data",
          "data": {
            "image/png": "[encoded data removed]",
            "text/plain": [
              "<Figure size 432x288 with 1 Axes>"
            ]
          },
          "metadata": {
            "tags": [],
            "needs_background": "light"
          }
        },
        {
          "output_type": "display_data",
          "data": {
            "image/png": "[encoded data removed]",
            "text/plain": [
              "<Figure size 432x288 with 1 Axes>"
            ]
          },
          "metadata": {
            "tags": [],
            "needs_background": "light"
          }
        }
      ]
    },
    {
      "cell_type": "markdown",
      "metadata": {
        "id": "BPIdFXhpzEqn"
      },
      "source": [
        "* 직접 만든 데이터로 test 진행"
      ]
    },
    {
      "cell_type": "code",
      "metadata": {
        "colab": {
          "base_uri": "https://localhost:8080/"
        },
        "id": "8e-mdPyCzEqq",
        "outputId": "04d62190-cd3f-4af0-a521-58feb08951f9"
      },
      "source": [
        "# test data\n",
        "X_test = []\n",
        "y_test = []\n",
        "\n",
        "test_paths = []\n",
        "\n",
        "for dirname, _, filenames in os.walk('/content/gdrive/MyDrive/10'):\n",
        "  for filename in filenames:\n",
        "    path = os.path.join(dirname, filename)\n",
        "    if path.endswith(\"png\"):\n",
        "      test_paths.append(path)\n",
        "\n",
        "#print(len(test_paths))\n",
        "#print(test_paths[len(test_paths)-1])\n",
        "\n",
        "for path in test_paths[:]:\n",
        "  # image data\n",
        "  img = cv.imread(path)\n",
        "  img = cv.cvtColor(img, cv.COLOR_BGR2GRAY)\n",
        "  img = cv.resize(img, (128,128))\n",
        "  X_test.append(img)\n",
        "  if len(X_test) % 100 == 0 or len(X_test) == len(test_paths):\n",
        "    print(len(X_test))\n",
        "\n",
        "  # labels\n",
        "  category = path.split('/')[5]\n",
        "  label = int(category.split('_')[0][1])\n",
        "  y_test.append(label)\n",
        "\n",
        "X_test = np.array(X_test)\n",
        "X_test = X_test.reshape(len(test_paths), 128, 128, 1)\n",
        "y_test = np.array(y_test)\n",
        "\n",
        "print('test 이미지 개수 : ', len(X_test))\n",
        "print('test 라벨 개수 : ', len(y_test))\n",
        "print(y_test[0], test_paths[0])"
      ],
      "execution_count": null,
      "outputs": [
        {
          "output_type": "stream",
          "text": [
            "100\n",
            "200\n",
            "300\n",
            "400\n",
            "500\n",
            "600\n",
            "700\n",
            "800\n",
            "900\n",
            "1000\n",
            "1100\n",
            "1200\n",
            "1300\n",
            "1400\n",
            "1500\n",
            "1600\n",
            "1700\n",
            "1800\n",
            "1900\n",
            "2000\n",
            "2100\n",
            "2200\n",
            "2300\n",
            "2347\n",
            "test 이미지 개수 :  2347\n",
            "test 라벨 개수 :  2347\n",
            "1 /content/gdrive/MyDrive/10/01_palm/frame_00_01_0002.png\n"
          ],
          "name": "stdout"
        }
      ]
    },
    {
      "cell_type": "code",
      "metadata": {
        "id": "HL3urnC_3bTG",
        "colab": {
          "base_uri": "https://localhost:8080/"
        },
        "outputId": "cbe11c3e-abe0-4404-ef88-bb24b683f439"
      },
      "source": [
        "# loss and accuracy on test \n",
        "\n",
        "test_loss, test_acc = model_made.evaluate(X_test, y_test)\n",
        "\n",
        "print('Test accuracy : {:2.4f}%'.format(test_acc*100))"
      ],
      "execution_count": null,
      "outputs": [
        {
          "output_type": "stream",
          "text": [
            "74/74 [==============================] - 0s 6ms/step - loss: 6.9861 - accuracy: 0.4159\n",
            "Test accuracy : 41.5850%\n"
          ],
          "name": "stdout"
        }
      ]
    },
    {
      "cell_type": "markdown",
      "metadata": {
        "id": "b8SBhxORuccF"
      },
      "source": [
        "### confusion matrix"
      ]
    },
    {
      "cell_type": "code",
      "metadata": {
        "id": "2DTq6Ms0tUnQ",
        "colab": {
          "base_uri": "https://localhost:8080/"
        },
        "outputId": "fb9f326d-710f-4ae0-d64a-352f5a69972e"
      },
      "source": [
        "pred2 = model_made.predict_generator(X_test)\n",
        "y_pred2 = np.argmax(pred2, axis=-1) # 모델이 예측한 class label"
      ],
      "execution_count": null,
      "outputs": [
        {
          "output_type": "stream",
          "text": [
            "/usr/local/lib/python3.7/dist-packages/keras/engine/training.py:1976: UserWarning: `Model.predict_generator` is deprecated and will be removed in a future version. Please use `Model.predict`, which supports generators.\n",
            "  warnings.warn('`Model.predict_generator` is deprecated and '\n"
          ],
          "name": "stderr"
        }
      ]
    },
    {
      "cell_type": "code",
      "metadata": {
        "id": "0dM1sQQ83sKt",
        "colab": {
          "base_uri": "https://localhost:8080/",
          "height": 869
        },
        "outputId": "cc8c9558-4b86-4aa0-b7f7-803957b1e6e6"
      },
      "source": [
        "labels = ['palm', 'l', 'fist', 'fist_moved', 'thumb', 'index', 'ok', 'palm_moved', 'c', 'down']\n",
        "\n",
        "plt.rcParams.update({'font.size': 10})\n",
        "cm = confusion_matrix(y_test, y_pred2)\n",
        "plt.figure(figsize=(15, 15))\n",
        "ax = sns.heatmap(cm, cmap=plt.cm.Greens, annot=True, square=True, xticklabels=labels, yticklabels=labels)\n",
        "ax.set_title(\"model1_madeData\", fontsize=30)\n",
        "ax.set_ylabel('Actual', fontsize=25)\n",
        "ax.set_xlabel('Predicted', fontsize=25)"
      ],
      "execution_count": null,
      "outputs": [
        {
          "output_type": "execute_result",
          "data": {
            "text/plain": [
              "Text(0.5, 185.99374999999995, 'Predicted')"
            ]
          },
          "metadata": {
            "tags": []
          },
          "execution_count": 21
        },
        {
          "output_type": "display_data",
          "data": {
            "image/png": "[encoded data removed]",
            "text/plain": [
              "<Figure size 1080x1080 with 2 Axes>"
            ]
          },
          "metadata": {
            "tags": [],
            "needs_background": "light"
          }
        }
      ]
    },
    {
      "cell_type": "markdown",
      "metadata": {
        "id": "Ng8YzWij0XLb"
      },
      "source": [
        "### Training (2nd try) : test_acc = 74.7763%"
      ]
    },
    {
      "cell_type": "markdown",
      "metadata": {
        "id": "LVLiYZ_p2Mgw"
      },
      "source": [
        "* with a more Conv2D (128 filters)"
      ]
    },
    {
      "cell_type": "code",
      "metadata": {
        "id": "2Yza-MLSxgUs",
        "colab": {
          "base_uri": "https://localhost:8080/"
        },
        "outputId": "b54b4040-e973-463d-b66c-3050086aba73"
      },
      "source": [
        "# model\n",
        "model_made = Sequential()\n",
        "model_made.add(Conv2D(32, (5,5), activation='relu', input_shape=(128,128,1)))\n",
        "model_made.add(MaxPooling2D((2,2)))\n",
        "model_made.add(Conv2D(64, (3,3), activation='relu'))\n",
        "model_made.add(MaxPooling2D((2,2)))\n",
        "model_made.add(Conv2D(128, (3,3), activation='relu'))\n",
        "model_made.add(MaxPooling2D((2,2)))\n",
        "model_made.add(Conv2D(128, (3,3), activation='relu'))\n",
        "model_made.add(MaxPooling2D((2,2)))\n",
        "model_made.add(Flatten())\n",
        "model_made.add(Dense(128, activation='relu'))\n",
        "model_made.add(Dense(10, activation='softmax'))\n",
        "\n",
        "model_made.summary()"
      ],
      "execution_count": null,
      "outputs": [
        {
          "output_type": "stream",
          "text": [
            "Model: \"sequential\"\n",
            "_________________________________________________________________\n",
            "Layer (type)                 Output Shape              Param #   \n",
            "=================================================================\n",
            "conv2d (Conv2D)              (None, 124, 124, 32)      832       \n",
            "_________________________________________________________________\n",
            "max_pooling2d (MaxPooling2D) (None, 62, 62, 32)        0         \n",
            "_________________________________________________________________\n",
            "conv2d_1 (Conv2D)            (None, 60, 60, 64)        18496     \n",
            "_________________________________________________________________\n",
            "max_pooling2d_1 (MaxPooling2 (None, 30, 30, 64)        0         \n",
            "_________________________________________________________________\n",
            "conv2d_2 (Conv2D)            (None, 28, 28, 128)       73856     \n",
            "_________________________________________________________________\n",
            "max_pooling2d_2 (MaxPooling2 (None, 14, 14, 128)       0         \n",
            "_________________________________________________________________\n",
            "conv2d_3 (Conv2D)            (None, 12, 12, 128)       147584    \n",
            "_________________________________________________________________\n",
            "max_pooling2d_3 (MaxPooling2 (None, 6, 6, 128)         0         \n",
            "_________________________________________________________________\n",
            "flatten (Flatten)            (None, 4608)              0         \n",
            "_________________________________________________________________\n",
            "dense (Dense)                (None, 128)               589952    \n",
            "_________________________________________________________________\n",
            "dense_1 (Dense)              (None, 10)                1290      \n",
            "=================================================================\n",
            "Total params: 832,010\n",
            "Trainable params: 832,010\n",
            "Non-trainable params: 0\n",
            "_________________________________________________________________\n"
          ],
          "name": "stdout"
        }
      ]
    },
    {
      "cell_type": "code",
      "metadata": {
        "id": "4zcO1wnFyZUm",
        "colab": {
          "base_uri": "https://localhost:8080/"
        },
        "outputId": "9a2702dc-4510-4711-e1fd-f3bf68eec897"
      },
      "source": [
        "model_made.compile(optimizer='adam',\n",
        "              loss='sparse_categorical_crossentropy', metrics=['accuracy'])\n",
        "\n",
        "history_made = model_made.fit(X_train_made, y_train_made, epochs=30, batch_size=64,\n",
        "                              verbose=2, validation_data=(X_val_made, y_val_made))"
      ],
      "execution_count": null,
      "outputs": [
        {
          "output_type": "stream",
          "text": [
            "Epoch 1/30\n",
            "98/98 - 47s - loss: 1.7350 - accuracy: 0.4810 - val_loss: 0.6188 - val_accuracy: 0.8023\n",
            "Epoch 2/30\n",
            "98/98 - 3s - loss: 0.3366 - accuracy: 0.8904 - val_loss: 0.2159 - val_accuracy: 0.9324\n",
            "Epoch 3/30\n",
            "98/98 - 3s - loss: 0.1039 - accuracy: 0.9671 - val_loss: 0.1548 - val_accuracy: 0.9592\n",
            "Epoch 4/30\n",
            "98/98 - 3s - loss: 0.0580 - accuracy: 0.9828 - val_loss: 0.1276 - val_accuracy: 0.9681\n",
            "Epoch 5/30\n",
            "98/98 - 3s - loss: 0.0433 - accuracy: 0.9856 - val_loss: 0.1629 - val_accuracy: 0.9598\n",
            "Epoch 6/30\n",
            "98/98 - 3s - loss: 0.0409 - accuracy: 0.9872 - val_loss: 0.1127 - val_accuracy: 0.9681\n",
            "Epoch 7/30\n",
            "98/98 - 3s - loss: 0.0142 - accuracy: 0.9959 - val_loss: 0.1617 - val_accuracy: 0.9700\n",
            "Epoch 8/30\n",
            "98/98 - 3s - loss: 0.0299 - accuracy: 0.9906 - val_loss: 0.1649 - val_accuracy: 0.9624\n",
            "Epoch 9/30\n",
            "98/98 - 3s - loss: 0.0164 - accuracy: 0.9951 - val_loss: 0.1012 - val_accuracy: 0.9802\n",
            "Epoch 10/30\n",
            "98/98 - 3s - loss: 0.0085 - accuracy: 0.9978 - val_loss: 0.1093 - val_accuracy: 0.9770\n",
            "Epoch 11/30\n",
            "98/98 - 3s - loss: 0.0105 - accuracy: 0.9965 - val_loss: 0.1373 - val_accuracy: 0.9739\n",
            "Epoch 12/30\n",
            "98/98 - 3s - loss: 0.0104 - accuracy: 0.9976 - val_loss: 0.1149 - val_accuracy: 0.9758\n",
            "Epoch 13/30\n",
            "98/98 - 3s - loss: 0.0115 - accuracy: 0.9971 - val_loss: 0.1059 - val_accuracy: 0.9790\n",
            "Epoch 14/30\n",
            "98/98 - 3s - loss: 0.0188 - accuracy: 0.9936 - val_loss: 0.0935 - val_accuracy: 0.9809\n",
            "Epoch 15/30\n",
            "98/98 - 3s - loss: 0.0054 - accuracy: 0.9990 - val_loss: 0.0773 - val_accuracy: 0.9828\n",
            "Epoch 16/30\n",
            "98/98 - 3s - loss: 3.5842e-04 - accuracy: 1.0000 - val_loss: 0.0764 - val_accuracy: 0.9872\n",
            "Epoch 17/30\n",
            "98/98 - 3s - loss: 8.1602e-05 - accuracy: 1.0000 - val_loss: 0.0738 - val_accuracy: 0.9872\n",
            "Epoch 18/30\n",
            "98/98 - 3s - loss: 5.0142e-05 - accuracy: 1.0000 - val_loss: 0.0747 - val_accuracy: 0.9872\n",
            "Epoch 19/30\n",
            "98/98 - 3s - loss: 3.8814e-05 - accuracy: 1.0000 - val_loss: 0.0756 - val_accuracy: 0.9872\n",
            "Epoch 20/30\n",
            "98/98 - 3s - loss: 3.1588e-05 - accuracy: 1.0000 - val_loss: 0.0766 - val_accuracy: 0.9872\n",
            "Epoch 21/30\n",
            "98/98 - 3s - loss: 2.6468e-05 - accuracy: 1.0000 - val_loss: 0.0774 - val_accuracy: 0.9879\n",
            "Epoch 22/30\n",
            "98/98 - 3s - loss: 2.2516e-05 - accuracy: 1.0000 - val_loss: 0.0782 - val_accuracy: 0.9879\n",
            "Epoch 23/30\n",
            "98/98 - 3s - loss: 1.9597e-05 - accuracy: 1.0000 - val_loss: 0.0789 - val_accuracy: 0.9879\n",
            "Epoch 24/30\n",
            "98/98 - 3s - loss: 1.7021e-05 - accuracy: 1.0000 - val_loss: 0.0796 - val_accuracy: 0.9872\n",
            "Epoch 25/30\n",
            "98/98 - 3s - loss: 1.5042e-05 - accuracy: 1.0000 - val_loss: 0.0802 - val_accuracy: 0.9872\n",
            "Epoch 26/30\n",
            "98/98 - 3s - loss: 1.3397e-05 - accuracy: 1.0000 - val_loss: 0.0809 - val_accuracy: 0.9872\n",
            "Epoch 27/30\n",
            "98/98 - 3s - loss: 1.1996e-05 - accuracy: 1.0000 - val_loss: 0.0814 - val_accuracy: 0.9872\n",
            "Epoch 28/30\n",
            "98/98 - 3s - loss: 1.0807e-05 - accuracy: 1.0000 - val_loss: 0.0820 - val_accuracy: 0.9872\n",
            "Epoch 29/30\n",
            "98/98 - 3s - loss: 9.7607e-06 - accuracy: 1.0000 - val_loss: 0.0825 - val_accuracy: 0.9872\n",
            "Epoch 30/30\n",
            "98/98 - 3s - loss: 8.8367e-06 - accuracy: 1.0000 - val_loss: 0.0830 - val_accuracy: 0.9872\n"
          ],
          "name": "stdout"
        }
      ]
    },
    {
      "cell_type": "markdown",
      "metadata": {
        "id": "0ZdquM2j0w1r"
      },
      "source": [
        "* result"
      ]
    },
    {
      "cell_type": "code",
      "metadata": {
        "id": "BOutN8rNyZ9W",
        "colab": {
          "base_uri": "https://localhost:8080/",
          "height": 573
        },
        "outputId": "c27deb1d-dce7-4b6f-a56b-f65eef0c7fc3"
      },
      "source": [
        "# plotting\n",
        "loss = history_made.history['loss']\n",
        "val_loss = history_made.history['val_loss']\n",
        "acc = history_made.history['accuracy']\n",
        "val_acc = history_made.history['val_accuracy']\n",
        "\n",
        "epochs = range(1, len(loss) + 1)\n",
        "\n",
        "plt.plot(epochs, loss, 'bo', label='Training loss')\n",
        "plt.plot(epochs, val_loss, 'b', label='Validation loss')\n",
        "plt.title('Training and validation loss')\n",
        "plt.xlabel('Epochs')\n",
        "plt.ylabel('Loss')\n",
        "plt.legend()\n",
        "\n",
        "plt.figure()\n",
        "\n",
        "plt.plot(epochs, acc, 'bo', label='Training acc')\n",
        "plt.plot(epochs, val_acc, 'b', label='Validation acc')\n",
        "plt.title('Training and validation accuracy')\n",
        "plt.xlabel('Epochs')\n",
        "plt.ylabel('Accuracy')\n",
        "plt.legend()\n",
        "plt.show()"
      ],
      "execution_count": null,
      "outputs": [
        {
          "output_type": "display_data",
          "data": {
            "image/png": "[encoded data removed]",
            "text/plain": [
              "<Figure size 432x288 with 1 Axes>"
            ]
          },
          "metadata": {
            "tags": [],
            "needs_background": "light"
          }
        },
        {
          "output_type": "display_data",
          "data": {
            "image/png": "[encoded data removed]",
            "text/plain": [
              "<Figure size 432x288 with 1 Axes>"
            ]
          },
          "metadata": {
            "tags": [],
            "needs_background": "light"
          }
        }
      ]
    },
    {
      "cell_type": "code",
      "metadata": {
        "id": "-yc5gv7N03k8",
        "colab": {
          "base_uri": "https://localhost:8080/"
        },
        "outputId": "901ec986-9b62-42ff-bda7-5de91aa3827f"
      },
      "source": [
        "# loss and accuracy on test \n",
        "\n",
        "test_loss, test_acc = model_made.evaluate(X_test, y_test)\n",
        "\n",
        "print('Test accuracy : {:2.4f}%'.format(test_acc*100))"
      ],
      "execution_count": null,
      "outputs": [
        {
          "output_type": "stream",
          "text": [
            "74/74 [==============================] - 1s 8ms/step - loss: 1.8044 - accuracy: 0.7478\n",
            "Test accuracy : 74.7763%\n"
          ],
          "name": "stdout"
        }
      ]
    },
    {
      "cell_type": "markdown",
      "metadata": {
        "id": "Fb-tUSivXS1F"
      },
      "source": [
        "### confusion matrix"
      ]
    },
    {
      "cell_type": "code",
      "metadata": {
        "id": "JmjMKgwutALp"
      },
      "source": [
        "from sklearn.metrics import confusion_matrix\n",
        "import seaborn as sns"
      ],
      "execution_count": null,
      "outputs": []
    },
    {
      "cell_type": "code",
      "metadata": {
        "id": "ZhTkqvmx1nQ-",
        "colab": {
          "base_uri": "https://localhost:8080/"
        },
        "outputId": "2be2c491-a2bf-4804-a451-2c22805096ca"
      },
      "source": [
        "pred1 = model_made.predict_generator(X_test)\n",
        "y_pred1 = np.argmax(pred1, axis=-1) # 모델이 예측한 class label"
      ],
      "execution_count": null,
      "outputs": [
        {
          "output_type": "stream",
          "text": [
            "/usr/local/lib/python3.7/dist-packages/keras/engine/training.py:1976: UserWarning: `Model.predict_generator` is deprecated and will be removed in a future version. Please use `Model.predict`, which supports generators.\n",
            "  warnings.warn('`Model.predict_generator` is deprecated and '\n"
          ],
          "name": "stderr"
        }
      ]
    },
    {
      "cell_type": "code",
      "metadata": {
        "id": "qmU5cqN81nTj",
        "colab": {
          "base_uri": "https://localhost:8080/",
          "height": 869
        },
        "outputId": "f8d7d7f5-43fd-4405-b434-2bbbfe9a4ec9"
      },
      "source": [
        "labels = ['palm', 'l', 'fist', 'fist_moved', 'thumb', 'index', 'ok', 'palm_moved', 'c', 'down']\n",
        "\n",
        "plt.rcParams.update({'font.size': 10})\n",
        "cm = confusion_matrix(y_test, y_pred1)\n",
        "plt.figure(figsize=(15, 15))\n",
        "ax = sns.heatmap(cm, cmap=plt.cm.Greens, annot=True, square=True, xticklabels=labels, yticklabels=labels)\n",
        "ax.set_title(\"model2_madeData\", fontsize=30)\n",
        "ax.set_ylabel('Actual', fontsize=25)\n",
        "ax.set_xlabel('Predicted', fontsize=25)"
      ],
      "execution_count": null,
      "outputs": [
        {
          "output_type": "execute_result",
          "data": {
            "text/plain": [
              "Text(0.5, 185.99374999999995, 'Predicted')"
            ]
          },
          "metadata": {
            "tags": []
          },
          "execution_count": 22
        },
        {
          "output_type": "display_data",
          "data": {
            "image/png": "[encoded data removed]",
            "text/plain": [
              "<Figure size 1080x1080 with 2 Axes>"
            ]
          },
          "metadata": {
            "tags": [],
            "needs_background": "light"
          }
        }
      ]
    },
    {
      "cell_type": "markdown",
      "metadata": {
        "id": "2rHob2IC48nu"
      },
      "source": [
        "### Training (3rd try) : test_acc = 80.5709%"
      ]
    },
    {
      "cell_type": "markdown",
      "metadata": {
        "id": "acSZPU1Q2Joy"
      },
      "source": [
        "* with dropout"
      ]
    },
    {
      "cell_type": "code",
      "metadata": {
        "id": "HSCgCxYX4-r9",
        "colab": {
          "base_uri": "https://localhost:8080/"
        },
        "outputId": "0d0b2f5c-003c-4f55-aded-1fcb27c9ae37"
      },
      "source": [
        "# model\n",
        "model_made = Sequential()\n",
        "model_made.add(Conv2D(32, (5,5), activation='relu', input_shape=(128,128,1)))\n",
        "model_made.add(MaxPooling2D((2,2)))\n",
        "model_made.add(Conv2D(64, (3,3), activation='relu'))\n",
        "model_made.add(MaxPooling2D((2,2)))\n",
        "model_made.add(Conv2D(128, (3,3), activation='relu'))\n",
        "model_made.add(MaxPooling2D((2,2)))\n",
        "model_made.add(Conv2D(128, (3,3), activation='relu'))\n",
        "model_made.add(MaxPooling2D((2,2)))\n",
        "model_made.add(Flatten())\n",
        "model_made.add(Dropout(0.3)) # dropout\n",
        "model_made.add(Dense(128, activation='relu'))\n",
        "model_made.add(Dense(10, activation='softmax'))\n",
        "\n",
        "model_made.summary()"
      ],
      "execution_count": null,
      "outputs": [
        {
          "output_type": "stream",
          "text": [
            "Model: \"sequential_2\"\n",
            "_________________________________________________________________\n",
            "Layer (type)                 Output Shape              Param #   \n",
            "=================================================================\n",
            "conv2d_6 (Conv2D)            (None, 124, 124, 32)      832       \n",
            "_________________________________________________________________\n",
            "max_pooling2d_6 (MaxPooling2 (None, 62, 62, 32)        0         \n",
            "_________________________________________________________________\n",
            "conv2d_7 (Conv2D)            (None, 60, 60, 64)        18496     \n",
            "_________________________________________________________________\n",
            "max_pooling2d_7 (MaxPooling2 (None, 30, 30, 64)        0         \n",
            "_________________________________________________________________\n",
            "conv2d_8 (Conv2D)            (None, 28, 28, 128)       73856     \n",
            "_________________________________________________________________\n",
            "max_pooling2d_8 (MaxPooling2 (None, 14, 14, 128)       0         \n",
            "_________________________________________________________________\n",
            "conv2d_9 (Conv2D)            (None, 12, 12, 128)       147584    \n",
            "_________________________________________________________________\n",
            "max_pooling2d_9 (MaxPooling2 (None, 6, 6, 128)         0         \n",
            "_________________________________________________________________\n",
            "flatten_2 (Flatten)          (None, 4608)              0         \n",
            "_________________________________________________________________\n",
            "dropout (Dropout)            (None, 4608)              0         \n",
            "_________________________________________________________________\n",
            "dense_4 (Dense)              (None, 128)               589952    \n",
            "_________________________________________________________________\n",
            "dense_5 (Dense)              (None, 10)                1290      \n",
            "=================================================================\n",
            "Total params: 832,010\n",
            "Trainable params: 832,010\n",
            "Non-trainable params: 0\n",
            "_________________________________________________________________\n"
          ],
          "name": "stdout"
        }
      ]
    },
    {
      "cell_type": "code",
      "metadata": {
        "id": "nYJHfyXg4_Vo",
        "colab": {
          "base_uri": "https://localhost:8080/"
        },
        "outputId": "958f0a30-84e7-4a39-8c9f-3714a03a2758"
      },
      "source": [
        "model_made.compile(optimizer='adam',\n",
        "              loss='sparse_categorical_crossentropy', metrics=['accuracy'])\n",
        "\n",
        "history_made = model_made.fit(X_train_made, y_train_made, epochs=30, batch_size=64,\n",
        "                              verbose=2, validation_data=(X_val_made, y_val_made))"
      ],
      "execution_count": null,
      "outputs": [
        {
          "output_type": "stream",
          "text": [
            "Epoch 1/30\n",
            "98/98 - 4s - loss: 1.4296 - accuracy: 0.5424 - val_loss: 0.4007 - val_accuracy: 0.8763\n",
            "Epoch 2/30\n",
            "98/98 - 3s - loss: 0.2985 - accuracy: 0.9067 - val_loss: 0.1977 - val_accuracy: 0.9432\n",
            "Epoch 3/30\n",
            "98/98 - 3s - loss: 0.1364 - accuracy: 0.9542 - val_loss: 0.1074 - val_accuracy: 0.9713\n",
            "Epoch 4/30\n",
            "98/98 - 3s - loss: 0.0742 - accuracy: 0.9753 - val_loss: 0.0930 - val_accuracy: 0.9732\n",
            "Epoch 5/30\n",
            "98/98 - 3s - loss: 0.0534 - accuracy: 0.9833 - val_loss: 0.0856 - val_accuracy: 0.9770\n",
            "Epoch 6/30\n",
            "98/98 - 3s - loss: 0.0414 - accuracy: 0.9858 - val_loss: 0.0885 - val_accuracy: 0.9739\n",
            "Epoch 7/30\n",
            "98/98 - 3s - loss: 0.0410 - accuracy: 0.9872 - val_loss: 0.0719 - val_accuracy: 0.9828\n",
            "Epoch 8/30\n",
            "98/98 - 3s - loss: 0.0154 - accuracy: 0.9949 - val_loss: 0.1191 - val_accuracy: 0.9777\n",
            "Epoch 9/30\n",
            "98/98 - 3s - loss: 0.0233 - accuracy: 0.9919 - val_loss: 0.1044 - val_accuracy: 0.9790\n",
            "Epoch 10/30\n",
            "98/98 - 3s - loss: 0.0381 - accuracy: 0.9887 - val_loss: 0.1052 - val_accuracy: 0.9783\n",
            "Epoch 11/30\n",
            "98/98 - 3s - loss: 0.0168 - accuracy: 0.9957 - val_loss: 0.1402 - val_accuracy: 0.9688\n",
            "Epoch 12/30\n",
            "98/98 - 3s - loss: 0.0290 - accuracy: 0.9917 - val_loss: 0.1036 - val_accuracy: 0.9790\n",
            "Epoch 13/30\n",
            "98/98 - 3s - loss: 0.0261 - accuracy: 0.9920 - val_loss: 0.0579 - val_accuracy: 0.9866\n",
            "Epoch 14/30\n",
            "98/98 - 3s - loss: 0.0140 - accuracy: 0.9963 - val_loss: 0.0647 - val_accuracy: 0.9847\n",
            "Epoch 15/30\n",
            "98/98 - 3s - loss: 0.0134 - accuracy: 0.9957 - val_loss: 0.0670 - val_accuracy: 0.9853\n",
            "Epoch 16/30\n",
            "98/98 - 3s - loss: 0.0134 - accuracy: 0.9947 - val_loss: 0.0784 - val_accuracy: 0.9834\n",
            "Epoch 17/30\n",
            "98/98 - 3s - loss: 0.0256 - accuracy: 0.9919 - val_loss: 0.1175 - val_accuracy: 0.9796\n",
            "Epoch 18/30\n",
            "98/98 - 3s - loss: 0.0251 - accuracy: 0.9907 - val_loss: 0.0720 - val_accuracy: 0.9834\n",
            "Epoch 19/30\n",
            "98/98 - 3s - loss: 0.0047 - accuracy: 0.9982 - val_loss: 0.0805 - val_accuracy: 0.9834\n",
            "Epoch 20/30\n",
            "98/98 - 3s - loss: 0.0196 - accuracy: 0.9925 - val_loss: 0.1320 - val_accuracy: 0.9700\n",
            "Epoch 21/30\n",
            "98/98 - 3s - loss: 0.0258 - accuracy: 0.9919 - val_loss: 0.0680 - val_accuracy: 0.9853\n",
            "Epoch 22/30\n",
            "98/98 - 3s - loss: 0.0246 - accuracy: 0.9917 - val_loss: 0.1448 - val_accuracy: 0.9700\n",
            "Epoch 23/30\n",
            "98/98 - 3s - loss: 0.0225 - accuracy: 0.9935 - val_loss: 0.0727 - val_accuracy: 0.9841\n",
            "Epoch 24/30\n",
            "98/98 - 3s - loss: 0.0073 - accuracy: 0.9968 - val_loss: 0.0765 - val_accuracy: 0.9853\n",
            "Epoch 25/30\n",
            "98/98 - 3s - loss: 0.0072 - accuracy: 0.9974 - val_loss: 0.0941 - val_accuracy: 0.9847\n",
            "Epoch 26/30\n",
            "98/98 - 3s - loss: 0.0157 - accuracy: 0.9954 - val_loss: 0.1098 - val_accuracy: 0.9815\n",
            "Epoch 27/30\n",
            "98/98 - 3s - loss: 0.0108 - accuracy: 0.9967 - val_loss: 0.0735 - val_accuracy: 0.9847\n",
            "Epoch 28/30\n",
            "98/98 - 3s - loss: 0.0070 - accuracy: 0.9979 - val_loss: 0.0793 - val_accuracy: 0.9847\n",
            "Epoch 29/30\n",
            "98/98 - 3s - loss: 0.0027 - accuracy: 0.9990 - val_loss: 0.0675 - val_accuracy: 0.9853\n",
            "Epoch 30/30\n",
            "98/98 - 3s - loss: 0.0044 - accuracy: 0.9982 - val_loss: 0.0688 - val_accuracy: 0.9853\n"
          ],
          "name": "stdout"
        }
      ]
    },
    {
      "cell_type": "code",
      "metadata": {
        "id": "MtlHvrxB5Don",
        "colab": {
          "base_uri": "https://localhost:8080/",
          "height": 573
        },
        "outputId": "c2f5d203-5779-4c6f-a862-c6ee46c5979f"
      },
      "source": [
        "# plotting\n",
        "loss = history_made.history['loss']\n",
        "val_loss = history_made.history['val_loss']\n",
        "acc = history_made.history['accuracy']\n",
        "val_acc = history_made.history['val_accuracy']\n",
        "\n",
        "epochs = range(1, len(loss) + 1)\n",
        "\n",
        "plt.plot(epochs, loss, 'bo', label='Training loss')\n",
        "plt.plot(epochs, val_loss, 'b', label='Validation loss')\n",
        "plt.title('Training and validation loss')\n",
        "plt.xlabel('Epochs')\n",
        "plt.ylabel('Loss')\n",
        "plt.legend()\n",
        "\n",
        "plt.figure()\n",
        "\n",
        "plt.plot(epochs, acc, 'bo', label='Training acc')\n",
        "plt.plot(epochs, val_acc, 'b', label='Validation acc')\n",
        "plt.title('Training and validation accuracy')\n",
        "plt.xlabel('Epochs')\n",
        "plt.ylabel('Accuracy')\n",
        "plt.legend()\n",
        "plt.show()"
      ],
      "execution_count": null,
      "outputs": [
        {
          "output_type": "display_data",
          "data": {
            "image/png": "[encoded data removed]",
            "text/plain": [
              "<Figure size 432x288 with 1 Axes>"
            ]
          },
          "metadata": {
            "tags": [],
            "needs_background": "light"
          }
        },
        {
          "output_type": "display_data",
          "data": {
            "image/png": "[encoded data removed]",
            "text/plain": [
              "<Figure size 432x288 with 1 Axes>"
            ]
          },
          "metadata": {
            "tags": [],
            "needs_background": "light"
          }
        }
      ]
    },
    {
      "cell_type": "code",
      "metadata": {
        "id": "JQkHGwjz5Jhc",
        "colab": {
          "base_uri": "https://localhost:8080/"
        },
        "outputId": "9f69e5ad-5cb6-4d16-952f-9eec9491bf72"
      },
      "source": [
        "# loss and accuracy on test \n",
        "\n",
        "test_loss, test_acc = model_made.evaluate(X_test, y_test)\n",
        "\n",
        "print('Test accuracy : {:2.4f}%'.format(test_acc*100))"
      ],
      "execution_count": null,
      "outputs": [
        {
          "output_type": "stream",
          "text": [
            "74/74 [==============================] - 0s 6ms/step - loss: 1.1577 - accuracy: 0.8057\n",
            "Test accuracy : 80.5709%\n"
          ],
          "name": "stdout"
        }
      ]
    },
    {
      "cell_type": "markdown",
      "metadata": {
        "id": "a5Y29_fxu9ij"
      },
      "source": [
        "### confusion matrix"
      ]
    },
    {
      "cell_type": "code",
      "metadata": {
        "id": "OgMpQ_ba5cFu",
        "colab": {
          "base_uri": "https://localhost:8080/"
        },
        "outputId": "ec7b988b-fe27-44f0-bbdd-ba8e2e6c7c57"
      },
      "source": [
        "pred3 = model_made.predict_generator(X_test)\n",
        "y_pred3 = np.argmax(pred3, axis=-1) # 모델이 예측한 class label"
      ],
      "execution_count": null,
      "outputs": [
        {
          "output_type": "stream",
          "text": [
            "/usr/local/lib/python3.7/dist-packages/keras/engine/training.py:1976: UserWarning: `Model.predict_generator` is deprecated and will be removed in a future version. Please use `Model.predict`, which supports generators.\n",
            "  warnings.warn('`Model.predict_generator` is deprecated and '\n"
          ],
          "name": "stderr"
        }
      ]
    },
    {
      "cell_type": "code",
      "metadata": {
        "id": "I9ywmdMg5p4m",
        "colab": {
          "base_uri": "https://localhost:8080/",
          "height": 869
        },
        "outputId": "71bdbbcb-1c55-43a8-8000-5c6423c246f3"
      },
      "source": [
        "labels = ['palm', 'l', 'fist', 'fist_moved', 'thumb', 'index', 'ok', 'palm_moved', 'c', 'down']\n",
        "\n",
        "plt.rcParams.update({'font.size': 10})\n",
        "cm = confusion_matrix(y_test, y_pred3)\n",
        "plt.figure(figsize=(15, 15))\n",
        "ax = sns.heatmap(cm, cmap=plt.cm.Greens, annot=True, square=True, xticklabels=labels, yticklabels=labels)\n",
        "ax.set_title(\"model_last_madeData\", fontsize=30)\n",
        "ax.set_ylabel('Actual', fontsize=25)\n",
        "ax.set_xlabel('Predicted', fontsize=25)"
      ],
      "execution_count": null,
      "outputs": [
        {
          "output_type": "execute_result",
          "data": {
            "text/plain": [
              "Text(0.5, 185.99374999999995, 'Predicted')"
            ]
          },
          "metadata": {
            "tags": []
          },
          "execution_count": 29
        },
        {
          "output_type": "display_data",
          "data": {
            "image/png": "[encoded data removed]",
            "text/plain": [
              "<Figure size 1080x1080 with 2 Axes>"
            ]
          },
          "metadata": {
            "tags": [],
            "needs_background": "light"
          }
        }
      ]
    },
    {
      "cell_type": "markdown",
      "metadata": {
        "id": "zhpVmynI5qKS"
      },
      "source": [
        "### Training (4th try) : test_acc = 80.9118%"
      ]
    },
    {
      "cell_type": "markdown",
      "metadata": {
        "id": "8GN6MgFZ2evi"
      },
      "source": [
        "* with callback and more epochs"
      ]
    },
    {
      "cell_type": "code",
      "metadata": {
        "id": "yVVryFd05sPZ",
        "colab": {
          "base_uri": "https://localhost:8080/"
        },
        "outputId": "99ec9f8d-fe0b-41d5-d0d2-c31c4e5beaac"
      },
      "source": [
        "# model\n",
        "model_made = Sequential()\n",
        "model_made.add(Conv2D(32, (5,5), activation='relu', input_shape=(128,128,1)))\n",
        "model_made.add(MaxPooling2D((2,2)))\n",
        "model_made.add(Conv2D(64, (3,3), activation='relu'))\n",
        "model_made.add(MaxPooling2D((2,2)))\n",
        "model_made.add(Conv2D(128, (3,3), activation='relu'))\n",
        "model_made.add(MaxPooling2D((2,2)))\n",
        "model_made.add(Conv2D(128, (3,3), activation='relu'))\n",
        "model_made.add(MaxPooling2D((2,2)))\n",
        "model_made.add(Flatten())\n",
        "model_made.add(Dropout(0.3)) # dropout\n",
        "model_made.add(Dense(128, activation='relu'))\n",
        "model_made.add(Dense(10, activation='softmax'))\n",
        "\n",
        "model_made.summary()"
      ],
      "execution_count": null,
      "outputs": [
        {
          "output_type": "stream",
          "text": [
            "Model: \"sequential_4\"\n",
            "_________________________________________________________________\n",
            "Layer (type)                 Output Shape              Param #   \n",
            "=================================================================\n",
            "conv2d_14 (Conv2D)           (None, 124, 124, 32)      832       \n",
            "_________________________________________________________________\n",
            "max_pooling2d_14 (MaxPooling (None, 62, 62, 32)        0         \n",
            "_________________________________________________________________\n",
            "conv2d_15 (Conv2D)           (None, 60, 60, 64)        18496     \n",
            "_________________________________________________________________\n",
            "max_pooling2d_15 (MaxPooling (None, 30, 30, 64)        0         \n",
            "_________________________________________________________________\n",
            "conv2d_16 (Conv2D)           (None, 28, 28, 128)       73856     \n",
            "_________________________________________________________________\n",
            "max_pooling2d_16 (MaxPooling (None, 14, 14, 128)       0         \n",
            "_________________________________________________________________\n",
            "conv2d_17 (Conv2D)           (None, 12, 12, 128)       147584    \n",
            "_________________________________________________________________\n",
            "max_pooling2d_17 (MaxPooling (None, 6, 6, 128)         0         \n",
            "_________________________________________________________________\n",
            "flatten_4 (Flatten)          (None, 4608)              0         \n",
            "_________________________________________________________________\n",
            "dropout_2 (Dropout)          (None, 4608)              0         \n",
            "_________________________________________________________________\n",
            "dense_8 (Dense)              (None, 128)               589952    \n",
            "_________________________________________________________________\n",
            "dense_9 (Dense)              (None, 10)                1290      \n",
            "=================================================================\n",
            "Total params: 832,010\n",
            "Trainable params: 832,010\n",
            "Non-trainable params: 0\n",
            "_________________________________________________________________\n"
          ],
          "name": "stdout"
        }
      ]
    },
    {
      "cell_type": "code",
      "metadata": {
        "id": "zgvA59dc5s71",
        "colab": {
          "base_uri": "https://localhost:8080/"
        },
        "outputId": "a331bb79-19d4-4b55-cd5b-6fba6e85cbaf"
      },
      "source": [
        "from tensorflow.keras import callbacks\n",
        "\n",
        "callbacks_list = [callbacks.EarlyStopping(monitor='accuracy', \n",
        "                                          patience=7) # 다음에폭에서 증가되지 않으면 멈추겠다. \n",
        "            ] \n",
        "\n",
        "\n",
        "model_made.compile(optimizer='adam',\n",
        "              loss='sparse_categorical_crossentropy', metrics=['accuracy'])\n",
        "\n",
        "history_made = model_made.fit(X_train_made, y_train_made,\n",
        "          epochs=100,\n",
        "          batch_size=64,\n",
        "          callbacks=callbacks_list, # 이렇게 callback list 를 넘겨줄수 있다.\n",
        "          verbose=2, \n",
        "          validation_data=(X_val_made, y_val_made))\n"
      ],
      "execution_count": null,
      "outputs": [
        {
          "output_type": "stream",
          "text": [
            "Epoch 1/100\n",
            "98/98 - 4s - loss: 1.5679 - accuracy: 0.5053 - val_loss: 0.5471 - val_accuracy: 0.8246\n",
            "Epoch 2/100\n",
            "98/98 - 3s - loss: 0.3737 - accuracy: 0.8743 - val_loss: 0.2507 - val_accuracy: 0.9273\n",
            "Epoch 3/100\n",
            "98/98 - 3s - loss: 0.1497 - accuracy: 0.9525 - val_loss: 0.1140 - val_accuracy: 0.9700\n",
            "Epoch 4/100\n",
            "98/98 - 3s - loss: 0.0923 - accuracy: 0.9710 - val_loss: 0.1526 - val_accuracy: 0.9547\n",
            "Epoch 5/100\n",
            "98/98 - 3s - loss: 0.0713 - accuracy: 0.9766 - val_loss: 0.0982 - val_accuracy: 0.9745\n",
            "Epoch 6/100\n",
            "98/98 - 3s - loss: 0.0421 - accuracy: 0.9855 - val_loss: 0.1448 - val_accuracy: 0.9636\n",
            "Epoch 7/100\n",
            "98/98 - 3s - loss: 0.0421 - accuracy: 0.9852 - val_loss: 0.1090 - val_accuracy: 0.9777\n",
            "Epoch 8/100\n",
            "98/98 - 3s - loss: 0.0519 - accuracy: 0.9847 - val_loss: 0.0876 - val_accuracy: 0.9834\n",
            "Epoch 9/100\n",
            "98/98 - 3s - loss: 0.0225 - accuracy: 0.9925 - val_loss: 0.0879 - val_accuracy: 0.9860\n",
            "Epoch 10/100\n",
            "98/98 - 3s - loss: 0.0247 - accuracy: 0.9928 - val_loss: 0.1216 - val_accuracy: 0.9790\n",
            "Epoch 11/100\n",
            "98/98 - 3s - loss: 0.0204 - accuracy: 0.9920 - val_loss: 0.0690 - val_accuracy: 0.9866\n",
            "Epoch 12/100\n",
            "98/98 - 3s - loss: 0.0205 - accuracy: 0.9944 - val_loss: 0.1078 - val_accuracy: 0.9809\n",
            "Epoch 13/100\n",
            "98/98 - 3s - loss: 0.0369 - accuracy: 0.9887 - val_loss: 0.0648 - val_accuracy: 0.9853\n",
            "Epoch 14/100\n",
            "98/98 - 3s - loss: 0.0157 - accuracy: 0.9949 - val_loss: 0.0830 - val_accuracy: 0.9866\n",
            "Epoch 15/100\n",
            "98/98 - 3s - loss: 0.0200 - accuracy: 0.9936 - val_loss: 0.0910 - val_accuracy: 0.9821\n",
            "Epoch 16/100\n",
            "98/98 - 3s - loss: 0.0185 - accuracy: 0.9943 - val_loss: 0.0779 - val_accuracy: 0.9879\n",
            "Epoch 17/100\n",
            "98/98 - 3s - loss: 0.0217 - accuracy: 0.9927 - val_loss: 0.0874 - val_accuracy: 0.9828\n",
            "Epoch 18/100\n",
            "98/98 - 3s - loss: 0.0223 - accuracy: 0.9931 - val_loss: 0.0632 - val_accuracy: 0.9866\n",
            "Epoch 19/100\n",
            "98/98 - 3s - loss: 0.0057 - accuracy: 0.9978 - val_loss: 0.0750 - val_accuracy: 0.9853\n",
            "Epoch 20/100\n",
            "98/98 - 3s - loss: 0.0184 - accuracy: 0.9951 - val_loss: 0.0655 - val_accuracy: 0.9841\n",
            "Epoch 21/100\n",
            "98/98 - 3s - loss: 0.0048 - accuracy: 0.9986 - val_loss: 0.0649 - val_accuracy: 0.9885\n",
            "Epoch 22/100\n",
            "98/98 - 3s - loss: 0.0025 - accuracy: 0.9992 - val_loss: 0.0534 - val_accuracy: 0.9898\n",
            "Epoch 23/100\n",
            "98/98 - 3s - loss: 0.0050 - accuracy: 0.9989 - val_loss: 0.0656 - val_accuracy: 0.9904\n",
            "Epoch 24/100\n",
            "98/98 - 3s - loss: 0.0039 - accuracy: 0.9989 - val_loss: 0.0922 - val_accuracy: 0.9847\n",
            "Epoch 25/100\n",
            "98/98 - 3s - loss: 0.0227 - accuracy: 0.9936 - val_loss: 0.1476 - val_accuracy: 0.9783\n",
            "Epoch 26/100\n",
            "98/98 - 3s - loss: 0.0298 - accuracy: 0.9907 - val_loss: 0.1048 - val_accuracy: 0.9821\n",
            "Epoch 27/100\n",
            "98/98 - 3s - loss: 0.0225 - accuracy: 0.9931 - val_loss: 0.1070 - val_accuracy: 0.9815\n",
            "Epoch 28/100\n",
            "98/98 - 3s - loss: 0.0182 - accuracy: 0.9949 - val_loss: 0.0957 - val_accuracy: 0.9872\n",
            "Epoch 29/100\n",
            "98/98 - 3s - loss: 0.0177 - accuracy: 0.9951 - val_loss: 0.0738 - val_accuracy: 0.9879\n"
          ],
          "name": "stdout"
        }
      ]
    },
    {
      "cell_type": "code",
      "metadata": {
        "id": "_wRVLC_R7AJG",
        "colab": {
          "base_uri": "https://localhost:8080/",
          "height": 573
        },
        "outputId": "776aacc7-7f05-42e0-bb47-d48c0cca870a"
      },
      "source": [
        "# plotting\n",
        "loss = history_made.history['loss']\n",
        "val_loss = history_made.history['val_loss']\n",
        "acc = history_made.history['accuracy']\n",
        "val_acc = history_made.history['val_accuracy']\n",
        "\n",
        "epochs = range(1, len(loss) + 1)\n",
        "\n",
        "plt.plot(epochs, loss, 'bo', label='Training loss')\n",
        "plt.plot(epochs, val_loss, 'b', label='Validation loss')\n",
        "plt.title('Training and validation loss')\n",
        "plt.xlabel('Epochs')\n",
        "plt.ylabel('Loss')\n",
        "plt.legend()\n",
        "\n",
        "plt.figure()\n",
        "\n",
        "plt.plot(epochs, acc, 'bo', label='Training acc')\n",
        "plt.plot(epochs, val_acc, 'b', label='Validation acc')\n",
        "plt.title('Training and validation accuracy')\n",
        "plt.xlabel('Epochs')\n",
        "plt.ylabel('Accuracy')\n",
        "plt.legend()\n",
        "plt.show()"
      ],
      "execution_count": null,
      "outputs": [
        {
          "output_type": "display_data",
          "data": {
            "image/png": "[encoded data removed]",
            "text/plain": [
              "<Figure size 432x288 with 1 Axes>"
            ]
          },
          "metadata": {
            "tags": [],
            "needs_background": "light"
          }
        },
        {
          "output_type": "display_data",
          "data": {
            "image/png": "[encoded data removed]",
            "text/plain": [
              "<Figure size 432x288 with 1 Axes>"
            ]
          },
          "metadata": {
            "tags": [],
            "needs_background": "light"
          }
        }
      ]
    },
    {
      "cell_type": "code",
      "metadata": {
        "id": "pofm6TKi5x9D",
        "colab": {
          "base_uri": "https://localhost:8080/"
        },
        "outputId": "c265712a-d9c1-47ab-f2ce-b2c1836c8030"
      },
      "source": [
        "# loss and accuracy on test \n",
        "\n",
        "test_loss, test_acc = model_made.evaluate(X_test, y_test)\n",
        "\n",
        "print('Test accuracy : {:2.4f}%'.format(test_acc*100))"
      ],
      "execution_count": null,
      "outputs": [
        {
          "output_type": "stream",
          "text": [
            "74/74 [==============================] - 1s 7ms/step - loss: 1.0587 - accuracy: 0.8091\n",
            "Test accuracy : 80.9118%\n"
          ],
          "name": "stdout"
        }
      ]
    },
    {
      "cell_type": "code",
      "metadata": {
        "id": "MLyUXFvd50vj",
        "colab": {
          "base_uri": "https://localhost:8080/"
        },
        "outputId": "8e927bcb-b1ee-43b8-eef6-fabe5619a7fa"
      },
      "source": [
        "pred4 = model_made.predict_generator(X_test)\n",
        "y_pred4 = np.argmax(pred4, axis=-1) # 모델이 예측한 class label"
      ],
      "execution_count": null,
      "outputs": [
        {
          "output_type": "stream",
          "text": [
            "/usr/local/lib/python3.7/dist-packages/keras/engine/training.py:1976: UserWarning: `Model.predict_generator` is deprecated and will be removed in a future version. Please use `Model.predict`, which supports generators.\n",
            "  warnings.warn('`Model.predict_generator` is deprecated and '\n"
          ],
          "name": "stderr"
        }
      ]
    },
    {
      "cell_type": "code",
      "metadata": {
        "id": "Uryi-B0AvCII",
        "colab": {
          "base_uri": "https://localhost:8080/",
          "height": 869
        },
        "outputId": "6c867fad-6912-4bb5-fb64-fc15fbb67d69"
      },
      "source": [
        "labels = ['palm', 'l', 'fist', 'fist_moved', 'thumb', 'index', 'ok', 'palm_moved', 'c', 'down']\n",
        "\n",
        "plt.rcParams.update({'font.size': 10})\n",
        "cm = confusion_matrix(y_test, y_pred4)\n",
        "plt.figure(figsize=(15, 15))\n",
        "ax = sns.heatmap(cm, cmap=plt.cm.Greens, annot=True, square=True, xticklabels=labels, yticklabels=labels)\n",
        "ax.set_title(\"model_last_madeData\", fontsize=30)\n",
        "ax.set_ylabel('Actual', fontsize=25)\n",
        "ax.set_xlabel('Predicted', fontsize=25)"
      ],
      "execution_count": null,
      "outputs": [
        {
          "output_type": "execute_result",
          "data": {
            "text/plain": [
              "Text(0.5, 185.99374999999995, 'Predicted')"
            ]
          },
          "metadata": {
            "tags": []
          },
          "execution_count": 41
        },
        {
          "output_type": "display_data",
          "data": {
            "image/png": "[encoded data removed]",
            "text/plain": [
              "<Figure size 1080x1080 with 2 Axes>"
            ]
          },
          "metadata": {
            "tags": [],
            "needs_background": "light"
          }
        }
      ]
    },
    {
      "cell_type": "markdown",
      "metadata": {
        "id": "nlI5bLnpfGOm"
      },
      "source": [
        "* model save"
      ]
    },
    {
      "cell_type": "code",
      "metadata": {
        "id": "91O81pECC3DK"
      },
      "source": [
        "# model save\n",
        "model_made.save('/content/gdrive/MyDrive/made/model_made.h5')"
      ],
      "execution_count": null,
      "outputs": []
    },
    {
      "cell_type": "markdown",
      "metadata": {
        "id": "vkPMFkngfMhh"
      },
      "source": [
        "### **Augmented Data**"
      ]
    },
    {
      "cell_type": "markdown",
      "metadata": {
        "id": "MKpdgLFvsFNB"
      },
      "source": [
        "### Data upload"
      ]
    },
    {
      "cell_type": "markdown",
      "metadata": {
        "id": "9WOB0rinGn-R"
      },
      "source": [
        "* mount drive"
      ]
    },
    {
      "cell_type": "code",
      "metadata": {
        "colab": {
          "base_uri": "https://localhost:8080/"
        },
        "id": "dRKM3mQLGn-S",
        "outputId": "d30ad411-4c18-48de-8d00-538601500252"
      },
      "source": [
        "# mount Google Drive\n",
        "from google.colab import drive\n",
        "import os\n",
        "drive.mount('/content/gdrive')"
      ],
      "execution_count": null,
      "outputs": [
        {
          "output_type": "stream",
          "text": [
            "Drive already mounted at /content/gdrive; to attempt to forcibly remount, call drive.mount(\"/content/gdrive\", force_remount=True).\n"
          ],
          "name": "stdout"
        }
      ]
    },
    {
      "cell_type": "code",
      "metadata": {
        "id": "d0q_VsItGh25"
      },
      "source": [
        "import numpy as np\n",
        "import matplotlib.pyplot as plt\n",
        "import cv2 as cv\n",
        "import pandas as pd\n",
        "import os\n",
        "import tensorflow as tf\n",
        "from tensorflow import keras\n",
        "from sklearn.model_selection import train_test_split\n",
        "from keras.models import Sequential\n",
        "from keras.layers.convolutional import Conv2D, MaxPooling2D\n",
        "from keras.layers import Dense, Flatten, Dropout\n",
        "from tensorflow.keras import callbacks"
      ],
      "execution_count": null,
      "outputs": []
    },
    {
      "cell_type": "code",
      "metadata": {
        "colab": {
          "base_uri": "https://localhost:8080/"
        },
        "id": "_5fM9CyjsFNC",
        "outputId": "750a1b0a-b14e-412e-d04c-790e7011f439"
      },
      "source": [
        "# 저장했던 data load\n",
        "X_aug = []\n",
        "y_aug = []\n",
        "X_aug = np.load('/content/gdrive/MyDrive/made/input_data_made.npy')\n",
        "y_aug = np.load('/content/gdrive/MyDrive/made/label_data_made.npy')\n",
        "\n",
        "print(len(X_aug))\n",
        "print(len(y_aug))\n",
        "print(X_aug.shape)"
      ],
      "execution_count": null,
      "outputs": [
        {
          "output_type": "stream",
          "text": [
            "7838\n",
            "7838\n",
            "(7838, 128, 128, 1)\n"
          ],
          "name": "stdout"
        }
      ]
    },
    {
      "cell_type": "code",
      "metadata": {
        "colab": {
          "base_uri": "https://localhost:8080/"
        },
        "id": "KpainmyQsFNC",
        "outputId": "8a284737-95ec-4955-ef2c-a07f8b1877a4"
      },
      "source": [
        "# test train split\n",
        "X_train_aug, X_val_aug, y_train_aug, y_val_aug = train_test_split(X_aug,\n",
        "                                                                  y_aug,\n",
        "                                                                  test_size = 0.1,\n",
        "                                                                  random_state=10)\n",
        "\n",
        "# model\n",
        "model_aug = Sequential()\n",
        "model_aug.add(Conv2D(32, (5,5), activation='relu', input_shape=(128,128,1)))\n",
        "model_aug.add(MaxPooling2D((2,2)))\n",
        "model_aug.add(Conv2D(64, (3,3), activation='relu'))\n",
        "model_aug.add(MaxPooling2D((2,2)))\n",
        "model_aug.add(Conv2D(128, (3,3), activation='relu'))\n",
        "model_aug.add(MaxPooling2D((2,2)))\n",
        "model_aug.add(Conv2D(128, (3,3), activation='relu'))\n",
        "model_aug.add(MaxPooling2D((2,2)))\n",
        "model_aug.add(Flatten())\n",
        "model_aug.add(Dropout(0.3))\n",
        "model_aug.add(Dense(128, activation='relu'))\n",
        "model_aug.add(Dense(10, activation='softmax'))\n",
        "\n",
        "model_aug.summary()"
      ],
      "execution_count": null,
      "outputs": [
        {
          "output_type": "stream",
          "text": [
            "Model: \"sequential\"\n",
            "_________________________________________________________________\n",
            "Layer (type)                 Output Shape              Param #   \n",
            "=================================================================\n",
            "conv2d (Conv2D)              (None, 124, 124, 32)      832       \n",
            "_________________________________________________________________\n",
            "max_pooling2d (MaxPooling2D) (None, 62, 62, 32)        0         \n",
            "_________________________________________________________________\n",
            "conv2d_1 (Conv2D)            (None, 60, 60, 64)        18496     \n",
            "_________________________________________________________________\n",
            "max_pooling2d_1 (MaxPooling2 (None, 30, 30, 64)        0         \n",
            "_________________________________________________________________\n",
            "conv2d_2 (Conv2D)            (None, 28, 28, 128)       73856     \n",
            "_________________________________________________________________\n",
            "max_pooling2d_2 (MaxPooling2 (None, 14, 14, 128)       0         \n",
            "_________________________________________________________________\n",
            "conv2d_3 (Conv2D)            (None, 12, 12, 128)       147584    \n",
            "_________________________________________________________________\n",
            "max_pooling2d_3 (MaxPooling2 (None, 6, 6, 128)         0         \n",
            "_________________________________________________________________\n",
            "flatten (Flatten)            (None, 4608)              0         \n",
            "_________________________________________________________________\n",
            "dropout (Dropout)            (None, 4608)              0         \n",
            "_________________________________________________________________\n",
            "dense (Dense)                (None, 128)               589952    \n",
            "_________________________________________________________________\n",
            "dense_1 (Dense)              (None, 10)                1290      \n",
            "=================================================================\n",
            "Total params: 832,010\n",
            "Trainable params: 832,010\n",
            "Non-trainable params: 0\n",
            "_________________________________________________________________\n"
          ],
          "name": "stdout"
        }
      ]
    },
    {
      "cell_type": "markdown",
      "metadata": {
        "id": "eI72qQfcsFNC"
      },
      "source": [
        "### Data augmentation"
      ]
    },
    {
      "cell_type": "markdown",
      "metadata": {
        "id": "CV9D1WRwsFNC"
      },
      "source": [
        "* 사람마다 폴더로 나눠져있으므로, 폴더별로 augmentation data를 생성한 후 MergeDI class를 이용하여 합함"
      ]
    },
    {
      "cell_type": "code",
      "metadata": {
        "id": "E6-OUDxAsFND"
      },
      "source": [
        "# DirectoryIterator (train_generator) 합치기\n",
        "class MergeDI():\n",
        "    def __init__(self, *gens):\n",
        "        self.gens = gens\n",
        "\n",
        "    def generate(self):\n",
        "        while True:\n",
        "            for g in self.gens:\n",
        "                yield next(g)\n",
        "\n",
        "    def __len__(self):\n",
        "        return sum([len(g) for g in self.gens])"
      ],
      "execution_count": null,
      "outputs": []
    },
    {
      "cell_type": "code",
      "metadata": {
        "colab": {
          "base_uri": "https://localhost:8080/"
        },
        "id": "oU4jZKZAsFND",
        "outputId": "3c580c23-d7cf-4ca9-ba6a-27342d32e2af"
      },
      "source": [
        "# data augmentation\n",
        "from tensorflow.keras.preprocessing.image import ImageDataGenerator\n",
        "\n",
        "train_datagen = ImageDataGenerator(rescale=1./255,\n",
        "                             rotation_range=20, # range 내에서 random하게 data 회전시킴\n",
        "                             width_shift_range=0.1, # range 내에서 translation\n",
        "                             height_shift_range=0.1, # range 내에서 translation\n",
        "                             shear_range=0.1, # range 내에서 affine\n",
        "                             zoom_range=0.1, # range 내에서 zoom\n",
        "                             horizontal_flip=False, # 거울모드는 오른손만 detecting해야하므로 false\n",
        "                             fill_mode='nearest', # 빈 공간을 채울 방법 : 가장 가까운 값\n",
        "                             validation_split=0.1) # validation split 가능\n",
        "\n",
        "test_datagen = ImageDataGenerator(rescale=1./255) # test 시에는 변화 x\n",
        "\n",
        "train_generator_12 = train_datagen.flow_from_directory('/content/gdrive/MyDrive/static_skeleton_data/12',\n",
        "                                                       color_mode='grayscale',\n",
        "                                                       target_size=(128,128),\n",
        "                                                       batch_size=32,\n",
        "                                                       subset='training')\n",
        "\n",
        "train_generator_13 = train_datagen.flow_from_directory('/content/gdrive/MyDrive/static_skeleton_data/13',\n",
        "                                                       color_mode='grayscale',\n",
        "                                                       target_size=(128,128),\n",
        "                                                       batch_size=32,\n",
        "                                                       subset='training')\n",
        "\n",
        "train_generator_14 = train_datagen.flow_from_directory('/content/gdrive/MyDrive/static_skeleton_data/14',\n",
        "                                                       color_mode='grayscale',\n",
        "                                                       target_size=(128,128),\n",
        "                                                       batch_size=32,\n",
        "                                                       subset='training')\n",
        "\n",
        "validation_generator_12 = train_datagen.flow_from_directory('/content/gdrive/MyDrive/static_skeleton_data/12',\n",
        "                                                        color_mode='grayscale',\n",
        "                                                        target_size=(128,128),\n",
        "                                                        batch_size=32,\n",
        "                                                        subset='validation')\n",
        "\n",
        "validation_generator_13 = train_datagen.flow_from_directory('/content/gdrive/MyDrive/static_skeleton_data/13',\n",
        "                                                        color_mode='grayscale',\n",
        "                                                        target_size=(128,128),\n",
        "                                                        batch_size=32,\n",
        "                                                        subset='validation')\n",
        "\n",
        "validation_generator_14 = train_datagen.flow_from_directory('/content/gdrive/MyDrive/static_skeleton_data/14',\n",
        "                                                        color_mode='grayscale',\n",
        "                                                        target_size=(128,128),\n",
        "                                                        batch_size=32,\n",
        "                                                        subset='validation')\n",
        "\n",
        "train_generator = MergeDI(train_generator_12, train_generator_13, train_generator_14)\n",
        "validation_generator = MergeDI(validation_generator_12, validation_generator_13, validation_generator_14)\n",
        "\n",
        "test_generator = test_datagen.flow_from_directory('/content/gdrive/MyDrive/10',\n",
        "                                                  color_mode='grayscale',\n",
        "                                                  batch_size=32,\n",
        "                                                  target_size=(128,128))\n",
        "\n",
        "print(len(train_generator_12))\n",
        "print(len(train_generator_13))\n",
        "print(len(train_generator_14))\n",
        "print(len(train_generator))\n",
        "print(len(validation_generator_12))\n",
        "print(len(validation_generator_13))\n",
        "print(len(validation_generator_14))\n",
        "print(len(validation_generator))\n",
        "print(len(test_generator))"
      ],
      "execution_count": null,
      "outputs": [
        {
          "output_type": "stream",
          "text": [
            "Found 2366 images belonging to 10 classes.\n",
            "Found 2342 images belonging to 10 classes.\n",
            "Found 2139 images belonging to 10 classes.\n",
            "Found 257 images belonging to 10 classes.\n",
            "Found 257 images belonging to 10 classes.\n",
            "Found 232 images belonging to 10 classes.\n",
            "Found 2347 images belonging to 10 classes.\n",
            "74\n",
            "74\n",
            "67\n",
            "215\n",
            "9\n",
            "9\n",
            "8\n",
            "26\n",
            "74\n"
          ],
          "name": "stdout"
        }
      ]
    },
    {
      "cell_type": "markdown",
      "metadata": {
        "id": "QMS4cSFh8dc1"
      },
      "source": [
        "* 첫 번째 input data (image)에 대한 augmentation 결과"
      ]
    },
    {
      "cell_type": "code",
      "metadata": {
        "colab": {
          "base_uri": "https://localhost:8080/",
          "height": 1000
        },
        "id": "OVvSu56r-K-s",
        "outputId": "308cb4ba-835f-4c0d-edf7-c9774797a4ac"
      },
      "source": [
        "import matplotlib.pyplot as plt\n",
        "from tensorflow.keras.preprocessing import image\n",
        "\n",
        "x_augmentation = X_aug[0].reshape((1,) + X_aug[0].shape) # 첫 번째 axis 추가 : batch\n",
        "\n",
        "i=0\n",
        "for batch in train_datagen.flow(x_augmentation, batch_size=1):\n",
        "  # 주어진 x에서 batch size만큼 꺼낸 후 전처리 수행하여 return\n",
        "  plt.figure(i)\n",
        "  imgplot = plt.imshow(image.array_to_img(batch[0]))\n",
        "  i += 1\n",
        "  if i%4 == 0: break # 4번 "
      ],
      "execution_count": null,
      "outputs": [
        {
          "output_type": "display_data",
          "data": {
            "image/png": "[encoded data removed]",
            "text/plain": [
              "<Figure size 432x288 with 1 Axes>"
            ]
          },
          "metadata": {
            "tags": []
          }
        },
        {
          "output_type": "display_data",
          "data": {
            "image/png": "[encoded data removed]",
            "text/plain": [
              "<Figure size 432x288 with 1 Axes>"
            ]
          },
          "metadata": {
            "tags": []
          }
        },
        {
          "output_type": "display_data",
          "data": {
            "image/png": "[encoded data removed]",
            "text/plain": [
              "<Figure size 432x288 with 1 Axes>"
            ]
          },
          "metadata": {
            "tags": []
          }
        },
        {
          "output_type": "display_data",
          "data": {
            "image/png": "[encoded data removed]",
            "text/plain": [
              "<Figure size 432x288 with 1 Axes>"
            ]
          },
          "metadata": {
            "tags": []
          }
        }
      ]
    },
    {
      "cell_type": "markdown",
      "metadata": {
        "id": "S7jQtPPDsFNE"
      },
      "source": [
        "### Training"
      ]
    },
    {
      "cell_type": "markdown",
      "metadata": {
        "id": "aRKbafprsFNE"
      },
      "source": [
        "* steps_per_epoch = train data 개수 (6847) / batch size (32) = 약 215\n",
        "* validation_steps = validation data 개수 (746) / batch size (32) = 약 24"
      ]
    },
    {
      "cell_type": "code",
      "metadata": {
        "colab": {
          "base_uri": "https://localhost:8080/"
        },
        "id": "uz0tI4BMsFNE",
        "outputId": "2c27565c-2bec-4860-eef8-383953ea9c9b"
      },
      "source": [
        "callbacks_list = [callbacks.EarlyStopping(monitor='accuracy',\n",
        "                                          patience=5)]\n",
        "\n",
        "model_aug.compile(optimizer='adam',\n",
        "              loss='categorical_crossentropy', metrics=['accuracy'])\n",
        "\n",
        "history_aug = model_aug.fit_generator(train_generator.generate(),\n",
        "                                      steps_per_epoch=215, epochs=20,\n",
        "                                      callbacks=callbacks_list,\n",
        "                                      validation_data=validation_generator.generate(), validation_steps=24)"
      ],
      "execution_count": null,
      "outputs": [
        {
          "output_type": "stream",
          "text": [
            "/usr/local/lib/python3.7/dist-packages/keras/engine/training.py:1915: UserWarning: `Model.fit_generator` is deprecated and will be removed in a future version. Please use `Model.fit`, which supports generators.\n",
            "  warnings.warn('`Model.fit_generator` is deprecated and '\n"
          ],
          "name": "stderr"
        },
        {
          "output_type": "stream",
          "text": [
            "Epoch 1/20\n",
            "215/215 [==============================] - 2334s 11s/step - loss: 1.9401 - accuracy: 0.2925 - val_loss: 1.0278 - val_accuracy: 0.6546\n",
            "Epoch 2/20\n",
            "215/215 [==============================] - 75s 349ms/step - loss: 0.6982 - accuracy: 0.7461 - val_loss: 0.5356 - val_accuracy: 0.8275\n",
            "Epoch 3/20\n",
            "215/215 [==============================] - 47s 222ms/step - loss: 0.3840 - accuracy: 0.8687 - val_loss: 0.5943 - val_accuracy: 0.8226\n",
            "Epoch 4/20\n",
            "215/215 [==============================] - 47s 219ms/step - loss: 0.2868 - accuracy: 0.9090 - val_loss: 0.3416 - val_accuracy: 0.9106\n",
            "Epoch 5/20\n",
            "215/215 [==============================] - 47s 218ms/step - loss: 0.2149 - accuracy: 0.9278 - val_loss: 0.3701 - val_accuracy: 0.8783\n",
            "Epoch 6/20\n",
            "215/215 [==============================] - 46s 217ms/step - loss: 0.1837 - accuracy: 0.9409 - val_loss: 0.3365 - val_accuracy: 0.8988\n",
            "Epoch 7/20\n",
            "215/215 [==============================] - 46s 213ms/step - loss: 0.1302 - accuracy: 0.9589 - val_loss: 0.2227 - val_accuracy: 0.9326\n",
            "Epoch 8/20\n",
            "215/215 [==============================] - 46s 216ms/step - loss: 0.1267 - accuracy: 0.9594 - val_loss: 0.2300 - val_accuracy: 0.9413\n",
            "Epoch 9/20\n",
            "215/215 [==============================] - 46s 215ms/step - loss: 0.1021 - accuracy: 0.9706 - val_loss: 0.2438 - val_accuracy: 0.9296\n",
            "Epoch 10/20\n",
            "215/215 [==============================] - 46s 214ms/step - loss: 0.0846 - accuracy: 0.9735 - val_loss: 0.3181 - val_accuracy: 0.9296\n",
            "Epoch 11/20\n",
            "215/215 [==============================] - 46s 215ms/step - loss: 0.0841 - accuracy: 0.9700 - val_loss: 0.3187 - val_accuracy: 0.9413\n",
            "Epoch 12/20\n",
            "215/215 [==============================] - 46s 215ms/step - loss: 0.0742 - accuracy: 0.9797 - val_loss: 0.2597 - val_accuracy: 0.9399\n",
            "Epoch 13/20\n",
            "215/215 [==============================] - 46s 215ms/step - loss: 0.0744 - accuracy: 0.9769 - val_loss: 0.1595 - val_accuracy: 0.9516\n",
            "Epoch 14/20\n",
            "215/215 [==============================] - 46s 214ms/step - loss: 0.0623 - accuracy: 0.9793 - val_loss: 0.1664 - val_accuracy: 0.9593\n",
            "Epoch 15/20\n",
            "215/215 [==============================] - 46s 217ms/step - loss: 0.0597 - accuracy: 0.9813 - val_loss: 0.1823 - val_accuracy: 0.9530\n",
            "Epoch 16/20\n",
            "215/215 [==============================] - 46s 215ms/step - loss: 0.0583 - accuracy: 0.9800 - val_loss: 0.1250 - val_accuracy: 0.9560\n",
            "Epoch 17/20\n",
            "215/215 [==============================] - 46s 214ms/step - loss: 0.0550 - accuracy: 0.9819 - val_loss: 0.1203 - val_accuracy: 0.9633\n",
            "Epoch 18/20\n",
            "215/215 [==============================] - 46s 214ms/step - loss: 0.0458 - accuracy: 0.9855 - val_loss: 0.1624 - val_accuracy: 0.9589\n",
            "Epoch 19/20\n",
            "215/215 [==============================] - 46s 215ms/step - loss: 0.0525 - accuracy: 0.9846 - val_loss: 0.1750 - val_accuracy: 0.9560\n",
            "Epoch 20/20\n",
            "215/215 [==============================] - 46s 215ms/step - loss: 0.0597 - accuracy: 0.9797 - val_loss: 0.1453 - val_accuracy: 0.9589\n"
          ],
          "name": "stdout"
        }
      ]
    },
    {
      "cell_type": "markdown",
      "metadata": {
        "id": "uDfMcklWsFNE"
      },
      "source": [
        "* result"
      ]
    },
    {
      "cell_type": "code",
      "metadata": {
        "colab": {
          "base_uri": "https://localhost:8080/",
          "height": 573
        },
        "id": "xMKKebEKsFNE",
        "outputId": "341c10b3-3f77-43bb-c89e-c5d27ae77bbc"
      },
      "source": [
        "# plotting\n",
        "loss = history_aug.history['loss']\n",
        "val_loss = history_aug.history['val_loss']\n",
        "acc = history_aug.history['accuracy']\n",
        "val_acc = history_aug.history['val_accuracy']\n",
        "\n",
        "epochs = range(1, len(loss) + 1)\n",
        "\n",
        "plt.plot(epochs, loss, 'bo', label='Training loss')\n",
        "plt.plot(epochs, val_loss, 'b', label='Validation loss')\n",
        "plt.title('Training and validation loss')\n",
        "plt.xlabel('Epochs')\n",
        "plt.ylabel('Loss')\n",
        "plt.legend()\n",
        "\n",
        "plt.figure()\n",
        "\n",
        "plt.plot(epochs, acc, 'bo', label='Training acc')\n",
        "plt.plot(epochs, val_acc, 'b', label='Validation acc')\n",
        "plt.title('Training and validation accuracy')\n",
        "plt.xlabel('Epochs')\n",
        "plt.ylabel('Accuracy')\n",
        "plt.legend()\n",
        "plt.show()"
      ],
      "execution_count": null,
      "outputs": [
        {
          "output_type": "display_data",
          "data": {
            "image/png": "[encoded data removed]",
            "text/plain": [
              "<Figure size 432x288 with 1 Axes>"
            ]
          },
          "metadata": {
            "tags": []
          }
        },
        {
          "output_type": "display_data",
          "data": {
            "image/png": "[encoded data removed]",
            "text/plain": [
              "<Figure size 432x288 with 1 Axes>"
            ]
          },
          "metadata": {
            "tags": []
          }
        }
      ]
    },
    {
      "cell_type": "markdown",
      "metadata": {
        "id": "l3RJkAfTsFNF"
      },
      "source": [
        "* model save"
      ]
    },
    {
      "cell_type": "code",
      "metadata": {
        "id": "iaaJeQ5vsFNF"
      },
      "source": [
        "# model save\n",
        "model_aug.save('/content/gdrive/MyDrive/model_new/model_made_augmentation.h5')"
      ],
      "execution_count": null,
      "outputs": []
    },
    {
      "cell_type": "markdown",
      "metadata": {
        "id": "RVNxsmMFzYdu"
      },
      "source": [
        "### Testing"
      ]
    },
    {
      "cell_type": "markdown",
      "metadata": {
        "id": "pXjWy2Zn0JFW"
      },
      "source": [
        "* Test data의 경우 위에서 ImageDataGenerator로 생성했음\n",
        "* steps : test data 개수 (2347) / batch size (32) = 약 75"
      ]
    },
    {
      "cell_type": "code",
      "metadata": {
        "colab": {
          "base_uri": "https://localhost:8080/"
        },
        "id": "8CQiw0HG0zWg",
        "outputId": "5c92336f-5e12-4b98-83ff-19eb914c7e10"
      },
      "source": [
        "# loss and accuracy on test \n",
        "test_loss, test_acc = model_aug.evaluate_generator(test_generator)\n",
        "\n",
        "print('Test accuracy : {:2.4f}%'.format(test_acc*100))"
      ],
      "execution_count": null,
      "outputs": [
        {
          "output_type": "stream",
          "text": [
            "/usr/local/lib/python3.7/dist-packages/tensorflow/python/keras/engine/training.py:1973: UserWarning: `Model.evaluate_generator` is deprecated and will be removed in a future version. Please use `Model.evaluate`, which supports generators.\n",
            "  warnings.warn('`Model.evaluate_generator` is deprecated and '\n"
          ],
          "name": "stderr"
        },
        {
          "output_type": "stream",
          "text": [
            "Test accuracy : 88.7942%\n"
          ],
          "name": "stdout"
        }
      ]
    },
    {
      "cell_type": "markdown",
      "metadata": {
        "id": "Fuq0kVmtQHa6"
      },
      "source": [
        "##**7. Final Implementation**\n",
        "**(Make Detection Box and Print label)** "
      ]
    },
    {
      "cell_type": "markdown",
      "metadata": {
        "id": "l6q-kihrGIKl"
      },
      "source": [
        "**Make Detection Box and Print Recognized Label**"
      ]
    },
    {
      "cell_type": "code",
      "metadata": {
        "colab": {
          "base_uri": "https://localhost:8080/",
          "height": 511
        },
        "id": "4kKjvQnqT1jV",
        "outputId": "8b677e62-5354-4928-aa3a-1d5baab67f8c"
      },
      "source": [
        "labels = ['palm', 'l', 'fist', 'fist_moved', 'thumb', 'index', 'ok', 'palm_moved', 'c', 'down']\n",
        "# start streaming video from webcam\n",
        "video_stream()\n",
        "# label for video\n",
        "label_html = 'Capturing...'\n",
        "# initialze bounding box to empty\n",
        "bbox = ''\n",
        "count =1\n",
        "while True:\n",
        "    js_reply = video_frame(label_html, bbox)\n",
        "    if not js_reply:\n",
        "        break\n",
        "\n",
        "    # convert JS response to OpenCV Image\n",
        "    img = js_to_image(js_reply[\"img\"])    \n",
        "\n",
        "\n",
        "    with mp_holistic.Holistic(min_detection_confidence=0.5, min_tracking_confidence=0.5) as holistic:\n",
        "\n",
        "      # Recolor Feed\n",
        "      image = cv2.cvtColor(img, cv2.COLOR_BGR2RGB)\n",
        "      results = holistic.process(image)       # Make Detections\n",
        "\n",
        "      # Recolor image back to BGR for rendering\n",
        "      image = cv2.cvtColor(image, cv2.COLOR_RGB2BGR)\n",
        "      landmark_img = np.zeros(image.shape, np.uint8) # landmark만 그릴 image\n",
        "      mp_drawing.draw_landmarks(landmark_img, results.right_hand_landmarks, mp_holistic.HAND_CONNECTIONS)\n",
        "\n",
        "      # test data\n",
        "      landmark_img = cv2.cvtColor(landmark_img, cv2.COLOR_BGR2GRAY)\n",
        "      landmark_img = cv2.resize(landmark_img, (128,128))\n",
        "\n",
        "      # Making prediction on test data\n",
        "      X_test = landmark_img.reshape(1, 128, 128, 1)\n",
        "      pred = model.predict(X_test)\n",
        "\n",
        "      if np.max(pred) < 0.2:\n",
        "        label = 'none'\n",
        "      else:\n",
        "        label = labels[np.argmax(pred)] # prediction 결과\n",
        "\n",
        "      h, w, _ = image.shape # 480,640\n",
        "      bbox_array = np.zeros([480,640,4], dtype=np.uint8)\n",
        "\n",
        "      hand_landmarks = results.right_hand_landmarks\n",
        "      x_point = []  # hand point 저장\n",
        "      y_point = []  # hand point 저장\n",
        "      \n",
        "      if hand_landmarks:\n",
        "        # for handLMs in hand_landmarks:\n",
        "        for lm in hand_landmarks.landmark:\n",
        "          x_point.append(lm.x*640)\n",
        "          y_point.append(lm.y*480)\n",
        "\n",
        "        min_x = int(min(x_point))\n",
        "        max_x = int(max(x_point))\n",
        "        min_y = int(min(y_point))\n",
        "        max_y = int(max(y_point))\n",
        "\n",
        "        bbox_array = cv2.rectangle(bbox_array,(min_x,min_y),(max_x,max_y),(255,0,0),2) # bounding box 그려주기\n",
        "        bbox_array = cv2.putText(bbox_array,label, (min_x,min_y-10) ,cv2.FONT_ITALIC, 0.5, 255,2) # label 달아주기\n",
        "        bbox_array[:,:,3] = (bbox_array.max(axis = 2) > 0 ).astype(int) * 255\n",
        "        \n",
        "    # convert overlay of bbox into bytes\n",
        "    bbox_bytes = bbox_to_bytes(bbox_array)\n",
        "    # update bbox so next frame gets new overlay\n",
        "    bbox = bbox_bytes\n"
      ],
      "execution_count": null,
      "outputs": [
        {
          "output_type": "display_data",
          "data": {
            "application/javascript": [
              "\n",
              "    var video;\n",
              "    var div = null;\n",
              "    var stream;\n",
              "    var captureCanvas;\n",
              "    var imgElement;\n",
              "    var labelElement;\n",
              "    \n",
              "    var pendingResolve = null;\n",
              "    var shutdown = false;\n",
              "    \n",
              "    function removeDom() {\n",
              "       stream.getVideoTracks()[0].stop();\n",
              "       video.remove();\n",
              "       div.remove();\n",
              "       video = null;\n",
              "       div = null;\n",
              "       stream = null;\n",
              "       imgElement = null;\n",
              "       captureCanvas = null;\n",
              "       labelElement = null;\n",
              "    }\n",
              "    \n",
              "    function onAnimationFrame() {\n",
              "      if (!shutdown) { // 꺼진게 아니면 \n",
              "        window.requestAnimationFrame(onAnimationFrame);  //  함수는 기본적으로는 1초에 60번, 보통은 모니터에 주사율에 맞추어 함수를 실행함.\n",
              "      }\n",
              "      if (pendingResolve) { // 보류중\n",
              "        var result = \"\";\n",
              "        if (!shutdown) {\n",
              "          captureCanvas.getContext('2d').drawImage(video, 0, 0, 640, 480); // 이미지를 그려\n",
              "          result = captureCanvas.toDataURL('image/jpeg', 0.8)  // 캔버스에 그린 그림을 문자열 형태로.  0.8 = encoderOptions\n",
              "\n",
              "        }\n",
              "        var lp = pendingResolve;\n",
              "        pendingResolve = null;\n",
              "        lp(result);\n",
              "      }\n",
              "    }\n",
              "    \n",
              "    async function createDom() {\n",
              "      if (div !== null) {\n",
              "        return stream;\n",
              "      }\n",
              "\n",
              "      div = document.createElement('div');\n",
              "      div.style.border = '2px solid black';\n",
              "      div.style.padding = '3px';\n",
              "      div.style.width = '100%';\n",
              "      div.style.maxWidth = '600px';\n",
              "      document.body.appendChild(div);\n",
              "      \n",
              "      const modelOut = document.createElement('div');\n",
              "      modelOut.innerHTML = \"<span>Status:</span>\";\n",
              "      labelElement = document.createElement('span');\n",
              "      labelElement.innerText = 'No data';\n",
              "      labelElement.style.fontWeight = 'bold';\n",
              "      modelOut.appendChild(labelElement);\n",
              "      div.appendChild(modelOut);\n",
              "           \n",
              "      video = document.createElement('video');\n",
              "      video.style.display = 'block';\n",
              "      video.width = div.clientWidth - 6;\n",
              "      video.setAttribute('playsinline', '');\n",
              "      video.onclick = () => { shutdown = true; };\n",
              "      stream = await navigator.mediaDevices.getUserMedia(\n",
              "          {video: { facingMode: \"environment\"}});  //모바일 장치의 후면 카메라를 요청하기 위한 코드:\n",
              "      div.appendChild(video);\n",
              "\n",
              "      imgElement = document.createElement('img');\n",
              "      imgElement.style.position = 'absolute';\n",
              "      imgElement.style.zIndex = 1;\n",
              "      imgElement.onclick = () => { shutdown = true; };\n",
              "      div.appendChild(imgElement);\n",
              "      \n",
              "      const instruction = document.createElement('div');\n",
              "      instruction.innerHTML = \n",
              "          '<span style=\"color: red; font-weight: bold;\">' +\n",
              "          'When finished, click here or on the video to stop this demo</span>';\n",
              "      div.appendChild(instruction);\n",
              "      instruction.onclick = () => { shutdown = true; };\n",
              "      \n",
              "      video.srcObject = stream;\n",
              "      await video.play();\n",
              "\n",
              "      captureCanvas = document.createElement('canvas');\n",
              "      captureCanvas.width = 640; //video.videoWidth;\n",
              "      captureCanvas.height = 480; //video.videoHeight;\n",
              "      window.requestAnimationFrame(onAnimationFrame);\n",
              "\n",
              "      return stream;\n",
              "    }\n",
              "    async function stream_frame(label, imgData) {\n",
              "      if (shutdown) {\n",
              "        removeDom();\n",
              "        shutdown = false;\n",
              "        return '';\n",
              "      }\n",
              "\n",
              "      var preCreate = Date.now();\n",
              "      stream = await createDom();\n",
              "      \n",
              "      var preShow = Date.now();\n",
              "      if (label != \"\") {\n",
              "        labelElement.innerHTML = label;\n",
              "      }\n",
              "            \n",
              "      if (imgData != \"\") {\n",
              "        var videoRect = video.getClientRects()[0];\n",
              "        imgElement.style.top = videoRect.top + \"px\";\n",
              "        imgElement.style.left = videoRect.left + \"px\";\n",
              "        imgElement.style.width = videoRect.width + \"px\";\n",
              "        imgElement.style.height = videoRect.height + \"px\";\n",
              "        imgElement.src = imgData;\n",
              "      }\n",
              "      \n",
              "      var preCapture = Date.now();\n",
              "      var result = await new Promise(function(resolve, reject) {\n",
              "        pendingResolve = resolve;\n",
              "      });\n",
              "      shutdown = false;\n",
              "      \n",
              "      return {'create': preShow - preCreate, \n",
              "              'show': preCapture - preShow, \n",
              "              'capture': Date.now() - preCapture,\n",
              "              'img': result};\n",
              "    }\n",
              "    "
            ],
            "text/plain": [
              "<IPython.core.display.Javascript object>"
            ]
          },
          "metadata": {}
        }
      ]
    },
    {
      "cell_type": "markdown",
      "metadata": {
        "id": "kWVGoeUkSgFD"
      },
      "source": [
        "##**8. Debugging Process**"
      ]
    },
    {
      "cell_type": "markdown",
      "metadata": {
        "id": "IKjSXNq18ZcW"
      },
      "source": [
        "\n",
        "> 1. Data Augmentation에서 fit_generator 함수의 인자로 여러 개의 train_generator를 list화 하여 주었을 때 에러 발생\n",
        "  * 직접 만든 데이터의 구조 상 12번 사람, 13번 사람, 14번 사람의 데이터로 폴더가 나누어져 있어 하나의 train_generator로 나타내려면 똑같은 데이터들을 복사하여 하나의 폴더로 합쳐야 했는데, 그렇게 용량을 낭비하는 대신 MergeDI라는 class를 정의하여 여러 개의 generator를 하나로 합칠 수 있었음\n",
        "\n",
        "> 2. 분명 validation accuracy, test accuracy에서 augmentation을 진행하였을 때가 훨씬 결과가 좋았는데, 시연을 하였을 때에는 예측 성능이 심하게 떨어졌음\n",
        "  * data augmentation 전까지의 경우 라벨을 y 변수에 할당할 때 경로에서 폴더 명을 split하여 할당하였으므로 palm에 1, l에 2, fist에 3, …과 같은 순서로 indexing을 진행하지만, data augmentation을 진행할 때에는 image data generator를 수행하는 과정에서 palm에 0, l에 1, fist에 2, …와 같은 순서로 indexing을 진행함. 그러므로 시연할 때와 confusion matrix를 구할 때에 indexing 순서를 고려해주어서 문제를 해결하였음"
      ]
    }
  ]
}