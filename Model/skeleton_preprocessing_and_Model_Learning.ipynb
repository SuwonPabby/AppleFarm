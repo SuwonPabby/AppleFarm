{
  "nbformat": 4,
  "nbformat_minor": 0,
  "metadata": {
    "colab": {
      "name": "skeleton_preprocessing_and_Model_Learning.ipynb",
      "provenance": [],
      "collapsed_sections": [],
      "authorship_tag": "ABX9TyN2+tE0uqyN+HsN0NFJM2HO",
      "include_colab_link": true
    },
    "kernelspec": {
      "name": "python3",
      "display_name": "Python 3"
    },
    "language_info": {
      "name": "python"
    },
    "accelerator": "GPU"
  },
  "cells": [
    {
      "cell_type": "markdown",
      "metadata": {
        "id": "view-in-github",
        "colab_type": "text"
      },
      "source": [
        "<a href=\"https://colab.research.google.com/github/lee-euijin/AppleFarm/blob/%EC%83%81%EC%A4%80/Model/skeleton_preprocessing_and_Model_Learning.ipynb\" target=\"_parent\"><img src=\"https://colab.research.google.com/assets/colab-badge.svg\" alt=\"Open In Colab\"/></a>"
      ]
    },
    {
      "cell_type": "markdown",
      "metadata": {
        "id": "LrXUCdj151QA"
      },
      "source": [
        "## Data upload"
      ]
    },
    {
      "cell_type": "code",
      "metadata": {
        "colab": {
          "base_uri": "https://localhost:8080/"
        },
        "id": "XJakET3Xb0Pl",
        "outputId": "8686a639-0b76-4b9b-a580-e2b70169cd64"
      },
      "source": [
        "# mount Google Drive\n",
        "from google.colab import drive\n",
        "import os\n",
        "drive.mount('/content/gdrive')\n",
        "\n",
        "# unzip\n",
        "import zipfile, shutil\n",
        "\n",
        "dataset = '/content/gdrive/My Drive/학교 수업 자료/딥러닝/Project/static_data.zip'\n",
        "dst_path = '/content/static_data'\n",
        "dst_file = os.path.join(dst_path, 'static_data.zip')\n",
        "\n",
        "if not os.path.exists(dst_path):\n",
        "  os.makedirs(dst_path)\n",
        "\n",
        "shutil.copy(dataset, dst_file)\n",
        "\n",
        "with zipfile.ZipFile(dst_file, 'r') as file:\n",
        "  file.extractall(dst_path)"
      ],
      "execution_count": 2,
      "outputs": [
        {
          "output_type": "stream",
          "text": [
            "Mounted at /content/gdrive\n"
          ],
          "name": "stdout"
        }
      ]
    },
    {
      "cell_type": "code",
      "metadata": {
        "colab": {
          "base_uri": "https://localhost:8080/"
        },
        "id": "g_e8q-QCdZ-E",
        "outputId": "d55237f3-5b9b-431f-92d8-f017606d853d"
      },
      "source": [
        "import os\n",
        "imagepaths = []\n",
        "\n",
        "for dirname, _, filenames in os.walk('/content/static_data'):\n",
        "  for filename in filenames:\n",
        "    path = os.path.join(dirname, filename)\n",
        "    if path.endswith(\"png\"):\n",
        "      imagepaths.append(path)\n",
        "\n",
        "print(len(imagepaths))\n",
        "print(imagepaths[0])"
      ],
      "execution_count": 3,
      "outputs": [
        {
          "output_type": "stream",
          "text": [
            "40000\n",
            "/content/static_data/leapgestrecog/leapGestRecog/02/07_ok/frame_02_07_0145.png\n"
          ],
          "name": "stdout"
        }
      ]
    },
    {
      "cell_type": "code",
      "metadata": {
        "id": "nAJ4PYSS19VW"
      },
      "source": [
        "# google drive에 directory 추가\n",
        "dir_path = '/content/gdrive/My Drive/학교 수업 자료/딥러닝/Project/static_skeleton_data'\n",
        "\n",
        "for path in imagepaths[:19999]:\n",
        "  splitted = path.split(\"/\")\n",
        "\n",
        "  # 없으면 directory 추가\n",
        "  dir = os.path.join(dir_path, splitted[5])\n",
        "\n",
        "  if not os.path.exists(dir):\n",
        "    os.makedirs(dir)\n",
        "\n",
        "  dir = os.path.join(dir_path, splitted[5], splitted[6])\n",
        "\n",
        "  if not os.path.exists(dir):\n",
        "    os.makedirs(dir)"
      ],
      "execution_count": 5,
      "outputs": []
    },
    {
      "cell_type": "markdown",
      "metadata": {
        "id": "b4CdBGteCjej"
      },
      "source": [
        "## Data Preprocessing"
      ]
    },
    {
      "cell_type": "code",
      "metadata": {
        "colab": {
          "base_uri": "https://localhost:8080/"
        },
        "id": "bnfpfd40iWQ_",
        "outputId": "e3ee8afe-f8f1-4226-c18b-1cfa4a3e9021"
      },
      "source": [
        "!pip install mediapipe opencv-python"
      ],
      "execution_count": 6,
      "outputs": [
        {
          "output_type": "stream",
          "text": [
            "Collecting mediapipe\n",
            "\u001b[?25l  Downloading https://files.pythonhosted.org/packages/51/a9/423f5c7ac68ba94821656af72151887c7a22f7ef66ff6ec5edd8c577dbda/mediapipe-0.8.4.2-cp37-cp37m-manylinux_2_17_x86_64.manylinux2014_x86_64.whl (36.1MB)\n",
            "\u001b[K     |████████████████████████████████| 36.1MB 83kB/s \n",
            "\u001b[?25hRequirement already satisfied: opencv-python in /usr/local/lib/python3.7/dist-packages (4.1.2.30)\n",
            "Requirement already satisfied: numpy in /usr/local/lib/python3.7/dist-packages (from mediapipe) (1.19.5)\n",
            "Requirement already satisfied: absl-py in /usr/local/lib/python3.7/dist-packages (from mediapipe) (0.12.0)\n",
            "Requirement already satisfied: wheel in /usr/local/lib/python3.7/dist-packages (from mediapipe) (0.36.2)\n",
            "Requirement already satisfied: protobuf>=3.11.4 in /usr/local/lib/python3.7/dist-packages (from mediapipe) (3.12.4)\n",
            "Requirement already satisfied: attrs>=19.1.0 in /usr/local/lib/python3.7/dist-packages (from mediapipe) (21.2.0)\n",
            "Requirement already satisfied: six in /usr/local/lib/python3.7/dist-packages (from mediapipe) (1.15.0)\n",
            "Requirement already satisfied: opencv-contrib-python in /usr/local/lib/python3.7/dist-packages (from mediapipe) (4.1.2.30)\n",
            "Requirement already satisfied: setuptools in /usr/local/lib/python3.7/dist-packages (from protobuf>=3.11.4->mediapipe) (56.1.0)\n",
            "Installing collected packages: mediapipe\n",
            "Successfully installed mediapipe-0.8.4.2\n"
          ],
          "name": "stdout"
        }
      ]
    },
    {
      "cell_type": "markdown",
      "metadata": {
        "id": "NYLfT5r8E78r"
      },
      "source": [
        "### Data Preprocessing and Saving"
      ]
    },
    {
      "cell_type": "code",
      "metadata": {
        "colab": {
          "base_uri": "https://localhost:8080/",
          "height": 198
        },
        "id": "0W1twcFjguxn",
        "outputId": "d2f9a1f2-a74d-49ef-c117-908357a37d0a"
      },
      "source": [
        "# 최초 save 이후에는 이 셀 실행하지 않음!\n",
        "import numpy as np\n",
        "import matplotlib.pyplot as plt\n",
        "import cv2 as cv\n",
        "import pandas as pd\n",
        "import mediapipe as mp\n",
        "from google.colab.patches import cv2_imshow\n",
        "\n",
        "new_path = []\n",
        "\n",
        "# 저장을 위한 path 생성\n",
        "for path in imagepaths[:19999]:\n",
        "  splitted = path.split(\"/\")\n",
        "  temp = '/' + splitted[5] + '/' + splitted[6] + '/' + splitted[7]\n",
        "  new_path.append(temp)\n",
        "\n",
        "# train data preprocessing and save\n",
        "mp_drawing = mp.solutions.drawing_utils\n",
        "mp_hands = mp.solutions.hands\n",
        "\n",
        "with mp_hands.Hands(\n",
        "    static_image_mode=True,\n",
        "    max_num_hands=2,\n",
        "    min_detection_confidence=0.5) as hands:\n",
        "  for idx in range(19999):\n",
        "    # read an image, flip it around y-axis for correct handedness output\n",
        "    image = cv.imread(imagepaths[idx])\n",
        "    # convert the bgr image to rgb before processing\n",
        "    results = hands.process(cv.cvtColor(image, cv.COLOR_BGR2RGB))\n",
        "\n",
        "    # print handedness and draw hand landmarks on the image\n",
        "    # print('Handedness:', results.multi_handedness)\n",
        "    if not results.multi_hand_landmarks:\n",
        "      continue\n",
        "    image_height, image_width, _ = image.shape\n",
        "    annotated_image = image.copy()\n",
        "\n",
        "    # landmark만 그릴 image\n",
        "    landmark_image = np.zeros(image.shape)\n",
        "    for hand_landmarks in results.multi_hand_landmarks:\n",
        "      '''print('hand_landmarks:', hand_landmarks)\n",
        "      print(\n",
        "          f'Index finger tip coordinates: (',\n",
        "          f'{hand_landmarks.landmark[mp_hands.HandLandmark.INDEX_FINGER_TIP].x * image_width}, '\n",
        "          f'{hand_landmarks.landmark[mp_hands.HandLandmark.INDEX_FINGER_TIP].y * image_height}'\n",
        "      )'''\n",
        "      mp_drawing.draw_landmarks(\n",
        "          landmark_image, hand_landmarks, mp_hands.HAND_CONNECTIONS)\n",
        "\n",
        "    '''# imshow\n",
        "    cv2_imshow(annotated_image)\n",
        "    cv2_imshow(landmark_image)'''\n",
        "    \n",
        "    # save\n",
        "    cv.imwrite(dir_path + new_path[idx], landmark_image)"
      ],
      "execution_count": null,
      "outputs": [
        {
          "output_type": "error",
          "ename": "IndexError",
          "evalue": "ignored",
          "traceback": [
            "\u001b[0;31m---------------------------------------------------------------------------\u001b[0m",
            "\u001b[0;31mIndexError\u001b[0m                                Traceback (most recent call last)",
            "\u001b[0;32m<ipython-input-58-27637f5fe4c4>\u001b[0m in \u001b[0;36m<module>\u001b[0;34m()\u001b[0m\n\u001b[1;32m     52\u001b[0m \u001b[0;34m\u001b[0m\u001b[0m\n\u001b[1;32m     53\u001b[0m     \u001b[0;31m# save\u001b[0m\u001b[0;34m\u001b[0m\u001b[0;34m\u001b[0m\u001b[0;34m\u001b[0m\u001b[0m\n\u001b[0;32m---> 54\u001b[0;31m     \u001b[0mcv\u001b[0m\u001b[0;34m.\u001b[0m\u001b[0mimwrite\u001b[0m\u001b[0;34m(\u001b[0m\u001b[0mdir_path\u001b[0m \u001b[0;34m+\u001b[0m \u001b[0mnew_path\u001b[0m\u001b[0;34m[\u001b[0m\u001b[0midx\u001b[0m\u001b[0;34m]\u001b[0m\u001b[0;34m,\u001b[0m \u001b[0mlandmark_image\u001b[0m\u001b[0;34m)\u001b[0m\u001b[0;34m\u001b[0m\u001b[0;34m\u001b[0m\u001b[0m\n\u001b[0m",
            "\u001b[0;31mIndexError\u001b[0m: list index out of range"
          ]
        }
      ]
    },
    {
      "cell_type": "markdown",
      "metadata": {
        "id": "GI2oQIoZBQ5h"
      },
      "source": [
        "* index를 잘못 설정하여 에러가 발생했지만, 정상적으로 모두 저장되었다."
      ]
    },
    {
      "cell_type": "markdown",
      "metadata": {
        "id": "LBn8hSTOFG0O"
      },
      "source": [
        "### path 확인"
      ]
    },
    {
      "cell_type": "code",
      "metadata": {
        "colab": {
          "base_uri": "https://localhost:8080/"
        },
        "id": "aYbUF9RJ7G2T",
        "outputId": "bfaf6912-b1dc-49cd-9ab1-e12090995665"
      },
      "source": [
        "skeletonpaths = []\n",
        "\n",
        "for dirname, _, filenames in os.walk(dir_path):\n",
        "  for filename in filenames:\n",
        "    path = os.path.join(dirname, filename)\n",
        "    if path.endswith(\"png\"):\n",
        "      skeletonpaths.append(path)\n",
        "\n",
        "print(len(skeletonpaths)) # 6766개 데이터 유실\n",
        "print(skeletonpaths[0])"
      ],
      "execution_count": 7,
      "outputs": [
        {
          "output_type": "stream",
          "text": [
            "13234\n",
            "/content/gdrive/My Drive/학교 수업 자료/딥러닝/Project/static_skeleton_data/00/05_thumb/frame_00_05_0113.png\n"
          ],
          "name": "stdout"
        }
      ]
    },
    {
      "cell_type": "markdown",
      "metadata": {
        "id": "A9U4iB8k9BbY"
      },
      "source": [
        "## Training"
      ]
    },
    {
      "cell_type": "code",
      "metadata": {
        "id": "lSGVqJB__9mF"
      },
      "source": [
        "import tensorflow as tf\n",
        "import cv2 as cv\n",
        "import matplotlib.pyplot as plt\n",
        "from tensorflow import keras\n",
        "from sklearn.model_selection import train_test_split\n",
        "from keras.models import Sequential\n",
        "from keras.layers.convolutional import Conv2D, MaxPooling2D\n",
        "from keras.layers import Dense, Flatten, Dropout"
      ],
      "execution_count": 10,
      "outputs": []
    },
    {
      "cell_type": "code",
      "metadata": {
        "id": "0jExavc8kHnq"
      },
      "source": [
        "# Creating trainig set and labels\n",
        "X = []\n",
        "y = []\n",
        "\n",
        "for path in skeletonpaths[:13234]:\n",
        "  # image data\n",
        "  img = cv.imread(path)\n",
        "  img = cv.cvtColor(img, cv.COLOR_BGR2GRAY)\n",
        "  img = cv.resize(img, (128, 128))\n",
        "\n",
        "  X.append(img)\n",
        "\n",
        "  # labels\n",
        "  category = path.split(\"/\")[9] # path에서 9번째가 label\n",
        "  label = int(category.split(\"_\")[0][1])\n",
        "  y.append(label)\n",
        "\n",
        "X = np.array(X)\n",
        "X = X.reshape(len(skeletonpaths), 128, 128, 1)\n",
        "y = np.array(y)\n",
        "\n",
        "print(\"이미지 개수 : \", len(X))\n",
        "print(\"라벨 개수 : \", len(y))\n",
        "print(y[0], skeletonpaths[0])"
      ],
      "execution_count": null,
      "outputs": []
    },
    {
      "cell_type": "code",
      "metadata": {
        "id": "gOkpH8wu_Hd_"
      },
      "source": [
        "# test train split\n",
        "X_train, X_test, y_train, y_test = train_test_split(X, y, test_size = 0.2, random_state=10)\n",
        "\n",
        "# model\n",
        "model = Sequential()\n",
        "model.add(Conv2D(32, (5,5), activation='relu', input_shape=(128,128,1)))\n",
        "model.add(MaxPooling2D((2,2)))\n",
        "model.add(Conv2D(64, (3,3), activation='relu'))\n",
        "model.add(MaxPooling2D((2,2)))\n",
        "model.add(Conv2D(128, (3,3), activation='relu'))\n",
        "model.add(MaxPooling2D((2,2)))\n",
        "model.add(Conv2D(128, (3,3), activation='relu'))\n",
        "model.add(MaxPooling2D((2,2)))\n",
        "model.add(Flatten())\n",
        "model.add(Dropout(0.3))\n",
        "model.add(Dense(128, activation='relu'))\n",
        "model.add(Dense(10, activation='softmax'))\n",
        "\n",
        "model.summary()"
      ],
      "execution_count": null,
      "outputs": []
    },
    {
      "cell_type": "code",
      "metadata": {
        "colab": {
          "base_uri": "https://localhost:8080/"
        },
        "id": "5yFCJ97cAPwk",
        "outputId": "030ff0ff-cb7b-4a18-9cba-3e469ccbf00b"
      },
      "source": [
        "model.compile(optimizer='adam',\n",
        "              loss='sparse_categorical_crossentropy', metrics=['accuracy'])\n",
        "\n",
        "history = model.fit(X_train, y_train, epochs=10, batch_size=64, verbose=2, \n",
        "          validation_data=(X_test, y_test))"
      ],
      "execution_count": null,
      "outputs": [
        {
          "output_type": "stream",
          "text": [
            "Epoch 1/5\n",
            "166/166 - 41s - loss: 0.7203 - accuracy: 0.7850 - val_loss: 0.1907 - val_accuracy: 0.9411\n",
            "Epoch 2/5\n",
            "166/166 - 9s - loss: 0.1490 - accuracy: 0.9538 - val_loss: 0.1177 - val_accuracy: 0.9683\n",
            "Epoch 3/5\n",
            "166/166 - 9s - loss: 0.0971 - accuracy: 0.9708 - val_loss: 0.1074 - val_accuracy: 0.9679\n",
            "Epoch 4/5\n",
            "166/166 - 9s - loss: 0.0614 - accuracy: 0.9796 - val_loss: 0.1500 - val_accuracy: 0.9622\n",
            "Epoch 5/5\n",
            "166/166 - 9s - loss: 0.0498 - accuracy: 0.9830 - val_loss: 0.0906 - val_accuracy: 0.9781\n"
          ],
          "name": "stdout"
        },
        {
          "output_type": "execute_result",
          "data": {
            "text/plain": [
              "<tensorflow.python.keras.callbacks.History at 0x7f3a5f3594d0>"
            ]
          },
          "metadata": {
            "tags": []
          },
          "execution_count": 65
        }
      ]
    },
    {
      "cell_type": "code",
      "metadata": {
        "id": "qTwWzBeJD8AR"
      },
      "source": [
        "# plotting\n",
        "loss = history.history['loss']\n",
        "val_loss = history.history['val_loss']\n",
        "\n",
        "eochs = range(1, len(loss) + 1)\n",
        "\n",
        "plt.plot(epochs, loss, 'bo', label='Training loss')\n",
        "plt.plot(epochs, val_loss, 'b', label='Validation loss')\n",
        "plt.title('Training and validation loss')\n",
        "plt.xlabel('Epochs')\n",
        "plt.ylabel('Loss')\n",
        "plt.legend()\n",
        "plt.show()"
      ],
      "execution_count": null,
      "outputs": []
    },
    {
      "cell_type": "code",
      "metadata": {
        "id": "91O81pECC3DK"
      },
      "source": [
        "# model save\n",
        "models.save('model.h5')"
      ],
      "execution_count": null,
      "outputs": []
    }
  ]
}